{
 "cells": [
  {
   "cell_type": "markdown",
   "metadata": {},
   "source": [
    "### 前向传播实战\n",
    " 𝑢𝑡 = 𝑟𝑒𝑙𝑢{𝑟𝑒𝑙𝑢{𝑟𝑒𝑙𝑢[𝑋@𝑊1 + 𝑏1]@𝑊2 + 𝑏2}@𝑊 + 𝑏 }"
   ]
  },
  {
   "cell_type": "code",
   "execution_count": 4,
   "metadata": {},
   "outputs": [],
   "source": [
    "import  matplotlib"
   ]
  },
  {
   "cell_type": "code",
   "execution_count": 5,
   "metadata": {},
   "outputs": [],
   "source": [
    "import  matplotlib\n",
    "from  matplotlib import pyplot as plt\n",
    "# Default parameters for plots\n",
    "matplotlib.rcParams['font.size'] = 20\n",
    "matplotlib.rcParams['figure.titlesize'] = 20\n",
    "matplotlib.rcParams['figure.figsize'] = [9, 7]\n",
    "matplotlib.rcParams['font.family'] = ['STKaiTi']\n",
    "matplotlib.rcParams['axes.unicode_minus']=False \n",
    "\n"
   ]
  },
  {
   "cell_type": "code",
   "execution_count": 18,
   "metadata": {},
   "outputs": [
    {
     "name": "stdout",
     "output_type": "stream",
     "text": [
      "(60000, 28, 28) (60000,) <dtype: 'float32'> <dtype: 'int32'>\n",
      "tf.Tensor(0.0, shape=(), dtype=float32) tf.Tensor(1.0, shape=(), dtype=float32)\n",
      "tf.Tensor(0, shape=(), dtype=int32) tf.Tensor(9, shape=(), dtype=int32)\n",
      "tf.Tensor(0.99607843, shape=(), dtype=float32)\n"
     ]
    }
   ],
   "source": [
    "import  tensorflow as tf\n",
    "from    tensorflow import keras\n",
    "from    tensorflow.keras import datasets\n",
    "import  os\n",
    "\n",
    "os.environ['TF_CPP_MIN_LOG_LEVEL'] = '2'\n",
    "\n",
    "# x: [60k, 28, 28],\n",
    "# y: [60k]\n",
    "(x, y), _ = datasets.mnist.load_data()\n",
    "# x: [0~255] => [0~1.]\n",
    "x = tf.convert_to_tensor(x, dtype=tf.float32) / 255.\n",
    "y = tf.convert_to_tensor(y, dtype=tf.int32)\n",
    "\n",
    "print(x.shape, y.shape, x.dtype, y.dtype)\n",
    "print(tf.reduce_min(x), tf.reduce_max(x))\n",
    "print(tf.reduce_min(y), tf.reduce_max(y))\n",
    "print(x[2000][14][10])"
   ]
  },
  {
   "cell_type": "code",
   "execution_count": 7,
   "metadata": {},
   "outputs": [
    {
     "name": "stdout",
     "output_type": "stream",
     "text": [
      "batch: (128, 28, 28) (128,)\n"
     ]
    }
   ],
   "source": [
    "train_db = tf.data.Dataset.from_tensor_slices((x,y)).batch(128)\n",
    "train_iter = iter(train_db)\n",
    "sample = next(train_iter)\n",
    "print('batch:', sample[0].shape, sample[1].shape)"
   ]
  },
  {
   "cell_type": "code",
   "execution_count": 8,
   "metadata": {},
   "outputs": [],
   "source": [
    "# [b, 784] => [b, 256] => [b, 128] => [b, 10]\n",
    "# [dim_in, dim_out], [dim_out]\n",
    "w1 = tf.Variable(tf.random.truncated_normal([784, 256], stddev=0.1))\n",
    "b1 = tf.Variable(tf.zeros([256]))\n",
    "w2 = tf.Variable(tf.random.truncated_normal([256, 128], stddev=0.1))\n",
    "b2 = tf.Variable(tf.zeros([128]))\n",
    "w3 = tf.Variable(tf.random.truncated_normal([128, 10], stddev=0.1))\n",
    "b3 = tf.Variable(tf.zeros([10]))"
   ]
  },
  {
   "cell_type": "code",
   "execution_count": 9,
   "metadata": {},
   "outputs": [
    {
     "name": "stdout",
     "output_type": "stream",
     "text": [
      "0 0 loss: 0.37816548347473145\n",
      "0 100 loss: 0.2106795608997345\n",
      "0 200 loss: 0.16707351803779602\n",
      "0 300 loss: 0.17105354368686676\n",
      "0 400 loss: 0.16652414202690125\n",
      "1 0 loss: 0.14228205382823944\n",
      "1 100 loss: 0.15627114474773407\n",
      "1 200 loss: 0.1363280564546585\n",
      "1 300 loss: 0.14373603463172913\n",
      "1 400 loss: 0.14159925282001495\n",
      "2 0 loss: 0.12370724976062775\n",
      "2 100 loss: 0.13847681879997253\n",
      "2 200 loss: 0.12123117595911026\n",
      "2 300 loss: 0.12768959999084473\n",
      "2 400 loss: 0.12591299414634705\n",
      "3 0 loss: 0.11119623482227325\n",
      "3 100 loss: 0.12612533569335938\n",
      "3 200 loss: 0.11075029522180557\n",
      "3 300 loss: 0.11646108329296112\n",
      "3 400 loss: 0.11493849754333496\n",
      "4 0 loss: 0.10223482549190521\n",
      "4 100 loss: 0.11698194593191147\n",
      "4 200 loss: 0.10294115543365479\n",
      "4 300 loss: 0.10804109275341034\n",
      "4 400 loss: 0.10679478943347931\n",
      "5 0 loss: 0.09544868767261505\n",
      "5 100 loss: 0.10990283638238907\n",
      "5 200 loss: 0.09687019884586334\n",
      "5 300 loss: 0.10143215954303741\n",
      "5 400 loss: 0.10052497684955597\n",
      "6 0 loss: 0.08999128639698029\n",
      "6 100 loss: 0.10420569032430649\n",
      "6 200 loss: 0.09184874594211578\n",
      "6 300 loss: 0.09610869735479355\n",
      "6 400 loss: 0.095505490899086\n",
      "7 0 loss: 0.08553095161914825\n",
      "7 100 loss: 0.09949857741594315\n",
      "7 200 loss: 0.08763307332992554\n",
      "7 300 loss: 0.09165899455547333\n",
      "7 400 loss: 0.09139515459537506\n",
      "8 0 loss: 0.08177776634693146\n",
      "8 100 loss: 0.09548136591911316\n",
      "8 200 loss: 0.08408638089895248\n",
      "8 300 loss: 0.08793438971042633\n",
      "8 400 loss: 0.08801250159740448\n",
      "9 0 loss: 0.07860719412565231\n",
      "9 100 loss: 0.0919928327202797\n",
      "9 200 loss: 0.0810658261179924\n",
      "9 300 loss: 0.08477841317653656\n",
      "9 400 loss: 0.08518838882446289\n",
      "10 0 loss: 0.0758829191327095\n",
      "10 100 loss: 0.08891168981790543\n",
      "10 200 loss: 0.07845178246498108\n",
      "10 300 loss: 0.08204416185617447\n",
      "10 400 loss: 0.08274932205677032\n",
      "11 0 loss: 0.07349709421396255\n",
      "11 100 loss: 0.08619516342878342\n",
      "11 200 loss: 0.07615868747234344\n",
      "11 300 loss: 0.07963941991329193\n",
      "11 400 loss: 0.0806053951382637\n",
      "12 0 loss: 0.0713864117860794\n",
      "12 100 loss: 0.08379142731428146\n",
      "12 200 loss: 0.07413989305496216\n",
      "12 300 loss: 0.07748313248157501\n",
      "12 400 loss: 0.07867897301912308\n",
      "13 0 loss: 0.06950473040342331\n",
      "13 100 loss: 0.08161787688732147\n",
      "13 200 loss: 0.0723358541727066\n",
      "13 300 loss: 0.07553716003894806\n",
      "13 400 loss: 0.07696868479251862\n",
      "14 0 loss: 0.06780393421649933\n",
      "14 100 loss: 0.07966889441013336\n",
      "14 200 loss: 0.07070163637399673\n",
      "14 300 loss: 0.07377884536981583\n",
      "14 400 loss: 0.07542712241411209\n",
      "15 0 loss: 0.06625870615243912\n",
      "15 100 loss: 0.07789471000432968\n",
      "15 200 loss: 0.06922866404056549\n",
      "15 300 loss: 0.07218936830759048\n",
      "15 400 loss: 0.07402341067790985\n",
      "16 0 loss: 0.06484384834766388\n",
      "16 100 loss: 0.07629327476024628\n",
      "16 200 loss: 0.06787663698196411\n",
      "16 300 loss: 0.07073082774877548\n",
      "16 400 loss: 0.07274796068668365\n",
      "17 0 loss: 0.06354480981826782\n",
      "17 100 loss: 0.07482477277517319\n",
      "17 200 loss: 0.0666283443570137\n",
      "17 300 loss: 0.06937797367572784\n",
      "17 400 loss: 0.07161067426204681\n",
      "18 0 loss: 0.062357448041439056\n",
      "18 100 loss: 0.07345940172672272\n",
      "18 200 loss: 0.06547446548938751\n",
      "18 300 loss: 0.06812455505132675\n",
      "18 400 loss: 0.07057423889636993\n",
      "19 0 loss: 0.06126410886645317\n",
      "19 100 loss: 0.07219430804252625\n",
      "19 200 loss: 0.064403235912323\n",
      "19 300 loss: 0.0669621005654335\n",
      "19 400 loss: 0.06962151825428009\n"
     ]
    }
   ],
   "source": [
    "lr = 1e-3\n",
    "\n",
    "losses = []\n",
    "\n",
    "for epoch in range(20): # iterate db for 10\n",
    "    for step, (x, y) in enumerate(train_db): # for every batch\n",
    "        # x:[128, 28, 28]\n",
    "        # y: [128]\n",
    "\n",
    "        # [b, 28, 28] => [b, 28*28] 平展开\n",
    "        x = tf.reshape(x, [-1, 28*28])\n",
    "\n",
    "        with tf.GradientTape() as tape: # tf.Variable\n",
    "            # x: [b, 28*28]\n",
    "            # h1 = x@w1 + b1\n",
    "            # [b, 784]@[784, 256] + [256] => [b, 256] + [256] => [b, 256] + [b, 256]\n",
    "            h1 = x@w1 + tf.broadcast_to(b1, [x.shape[0], 256])\n",
    "            h1 = tf.nn.relu(h1)\n",
    "            # [b, 256] => [b, 128]\n",
    "            h2 = h1@w2 + b2\n",
    "            h2 = tf.nn.relu(h2)\n",
    "            # [b, 128] => [b, 10]\n",
    "            out = h2@w3 + b3\n",
    "\n",
    "            # compute loss\n",
    "            # out: [b, 10]\n",
    "            # y: [b] => [b, 10]\n",
    "            y_onehot = tf.one_hot(y, depth=10)\n",
    "\n",
    "            # mse = mean(sum(y-out)^2)\n",
    "            # [b, 10]\n",
    "            loss = tf.square(y_onehot - out)\n",
    "            # mean: scalar\n",
    "            loss = tf.reduce_mean(loss)\n",
    "\n",
    "        # compute gradients\n",
    "        grads = tape.gradient(loss, [w1, b1, w2, b2, w3, b3])\n",
    "        # print(grads)\n",
    "        # w1 = w1 - lr * w1_grad\n",
    "        w1.assign_sub(lr * grads[0])\n",
    "        b1.assign_sub(lr * grads[1])\n",
    "        w2.assign_sub(lr * grads[2])\n",
    "        b2.assign_sub(lr * grads[3])\n",
    "        w3.assign_sub(lr * grads[4])\n",
    "        b3.assign_sub(lr * grads[5])\n",
    "\n",
    "\n",
    "        if step % 100 == 0:\n",
    "            print(epoch, step, 'loss:', float(loss))\n",
    "\n",
    "    losses.append(float(loss))\n",
    "\n"
   ]
  },
  {
   "cell_type": "code",
   "execution_count": 10,
   "metadata": {},
   "outputs": [
    {
     "name": "stderr",
     "output_type": "stream",
     "text": [
      "findfont: Font family ['STKaiTi'] not found. Falling back to DejaVu Sans.\n"
     ]
    },
    {
     "data": {
      "image/png": "[encoded data removed]",
      "text/plain": [
       "<Figure size 648x504 with 1 Axes>"
      ]
     },
     "metadata": {
      "needs_background": "light"
     },
     "output_type": "display_data"
    }
   ],
   "source": [
    "plt.figure()\n",
    "plt.plot(losses, color='C0', marker='s', label='训练')\n",
    "plt.xlabel('Epoch')\n",
    "plt.legend()\n",
    "plt.ylabel('MSE')\n",
    "plt.savefig('forward.svg')\n",
    "# plt.show()"
   ]
  },
  {
   "cell_type": "code",
   "execution_count": null,
   "metadata": {},
   "outputs": [],
   "source": []
  }
 ],
 "metadata": {
  "kernelspec": {
   "display_name": "Python 3",
   "language": "python",
   "name": "python3"
  },
  "language_info": {
   "codemirror_mode": {
    "name": "ipython",
    "version": 3
   },
   "file_extension": ".py",
   "mimetype": "text/x-python",
   "name": "python",
   "nbconvert_exporter": "python",
   "pygments_lexer": "ipython3",
   "version": "3.6.3"
  }
 },
 "nbformat": 4,
 "nbformat_minor": 2
}

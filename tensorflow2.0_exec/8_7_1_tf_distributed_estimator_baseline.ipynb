{
 "cells": [
  {
   "cell_type": "code",
   "execution_count": 1,
   "metadata": {},
   "outputs": [
    {
     "name": "stdout",
     "output_type": "stream",
     "text": [
      "2.0.0-beta1\n",
      "sys.version_info(major=3, minor=6, micro=7, releaselevel='final', serial=0)\n",
      "matplotlib 3.1.2\n",
      "numpy 1.16.2\n",
      "pandas 0.25.3\n",
      "sklearn 0.22\n",
      "tensorflow 2.0.0-beta1\n",
      "tensorflow.python.keras.api._v2.keras 2.2.4-tf\n"
     ]
    }
   ],
   "source": [
    "import matplotlib as mpl\n",
    "import matplotlib.pyplot as plt\n",
    "%matplotlib inline\n",
    "import numpy as np\n",
    "import sklearn\n",
    "import pandas as pd\n",
    "import os\n",
    "import sys\n",
    "import time\n",
    "import tensorflow as tf\n",
    "\n",
    "from tensorflow import keras\n",
    "\n",
    "print(tf.__version__)\n",
    "print(sys.version_info)\n",
    "for module in mpl, np, pd, sklearn, tf, keras:\n",
    "    print(module.__name__, module.__version__)\n"
   ]
  },
  {
   "cell_type": "code",
   "execution_count": 2,
   "metadata": {},
   "outputs": [
    {
     "name": "stdout",
     "output_type": "stream",
     "text": [
      "1\n"
     ]
    }
   ],
   "source": [
    "tf.debugging.set_log_device_placement(True)\n",
    "gpus = tf.config.experimental.list_physical_devices(\"GPU\")\n",
    "# tf.config.experimental.set_virtual_device_configuration(\n",
    "#     gpus[0],\n",
    "#     [tf.config.experimental.VirtualDeviceConfiguration(memory_limit=1024),\n",
    "#      tf.config.experimental.VirtualDeviceConfiguration(memory_limit=1024),\n",
    "#      tf.config.experimental.VirtualDeviceConfiguration(memory_limit=1024),\n",
    "#      tf.config.experimental.VirtualDeviceConfiguration(memory_limit=1024)]\n",
    "# )\n",
    "\n",
    "# logical_gpus = tf.config.experimental.list_logical_devices(\"GPU\")\n",
    "# print(len(logical_gpus))\n",
    "# tf.config.experimental.set_visible_devices(logical_gpus[0], \"GPU\")\n",
    "for gpu in gpus:\n",
    "    tf.config.experimental.set_memory_growth(gpu,True)\n",
    "logical_gpus = tf.config.experimental.list_logical_devices(\"GPU\")\n",
    "print(len(logical_gpus))"
   ]
  },
  {
   "cell_type": "code",
   "execution_count": 3,
   "metadata": {},
   "outputs": [
    {
     "name": "stdout",
     "output_type": "stream",
     "text": [
      "(5000, 28, 28) (5000,)\n",
      "(55000, 28, 28) (55000,)\n",
      "(10000, 28, 28) (10000,)\n"
     ]
    }
   ],
   "source": [
    "fashion_mnist = keras.datasets.fashion_mnist\n",
    "(x_train_all, y_train_all), (x_test, y_test) = fashion_mnist.load_data()\n",
    "x_valid, x_train = x_train_all[:5000], x_train_all[5000:]\n",
    "y_valid, y_train = y_train_all[:5000], y_train_all[5000:]\n",
    "\n",
    "print(x_valid.shape, y_valid.shape)\n",
    "print(x_train.shape, y_train.shape)\n",
    "print(x_test.shape, y_test.shape)"
   ]
  },
  {
   "cell_type": "code",
   "execution_count": 4,
   "metadata": {},
   "outputs": [],
   "source": [
    "from sklearn.preprocessing import StandardScaler\n",
    "\n",
    "scaler = StandardScaler()\n",
    "x_train_scaled = scaler.fit_transform(\n",
    "    x_train.astype(np.float32).reshape(-1, 1)).reshape(-1, 28, 28, 1)\n",
    "x_valid_scaled = scaler.transform(\n",
    "    x_valid.astype(np.float32).reshape(-1, 1)).reshape(-1, 28, 28, 1)\n",
    "x_test_scaled = scaler.transform(\n",
    "    x_test.astype(np.float32).reshape(-1, 1)).reshape(-1, 28, 28, 1)\n"
   ]
  },
  {
   "cell_type": "code",
   "execution_count": 12,
   "metadata": {},
   "outputs": [],
   "source": [
    "def make_dataset(images, labels, epochs, batch_size,shuffle=True):\n",
    "    dataset = tf.data.Dataset.from_tensor_slices((images, labels))\n",
    "    if shuffle:\n",
    "        dataset = dataset.shuffle(10000)\n",
    "    dataset = dataset.repeat(epochs).batch(batch_size).prefetch(50)\n",
    "    return dataset\n",
    "\n",
    "batch_size = 256\n",
    "epochs = 100\n",
    "\n",
    "train_dataset = make_dataset(x_train_scaled, y_train, epochs, batch_size)"
   ]
  },
  {
   "cell_type": "code",
   "execution_count": 13,
   "metadata": {},
   "outputs": [
    {
     "name": "stdout",
     "output_type": "stream",
     "text": [
      "INFO:tensorflow:Using default config.\n",
      "WARNING:tensorflow:Using temporary folder as model directory: C:\\Users\\A\\AppData\\Local\\Temp\\tmp2tvyl4d_\n",
      "INFO:tensorflow:Using the Keras model provided.\n",
      "INFO:tensorflow:Using config: {'_model_dir': 'C:\\\\Users\\\\A\\\\AppData\\\\Local\\\\Temp\\\\tmp2tvyl4d_', '_tf_random_seed': None, '_save_summary_steps': 100, '_save_checkpoints_steps': None, '_save_checkpoints_secs': 600, '_session_config': allow_soft_placement: true\n",
      "graph_options {\n",
      "  rewrite_options {\n",
      "    meta_optimizer_iterations: ONE\n",
      "  }\n",
      "}\n",
      ", '_keep_checkpoint_max': 5, '_keep_checkpoint_every_n_hours': 10000, '_log_step_count_steps': 100, '_train_distribute': None, '_device_fn': None, '_protocol': None, '_eval_distribute': None, '_experimental_distribute': None, '_experimental_max_worker_delay_secs': None, '_service': None, '_cluster_spec': <tensorflow.python.training.server_lib.ClusterSpec object at 0x0000025BB3403518>, '_task_type': 'worker', '_task_id': 0, '_global_id_in_cluster': 0, '_master': '', '_evaluation_master': '', '_is_chief': True, '_num_ps_replicas': 0, '_num_worker_replicas': 1}\n"
     ]
    }
   ],
   "source": [
    "model = keras.models.Sequential()\n",
    "model.add(keras.layers.Conv2D(filters=128, kernel_size=3,\n",
    "                              padding='same',\n",
    "                              activation='relu',\n",
    "                              input_shape=(28, 28, 1)))\n",
    "model.add(keras.layers.Conv2D(filters=128, kernel_size=3,\n",
    "                              padding='same',\n",
    "                              activation='relu'))\n",
    "model.add(keras.layers.MaxPool2D(pool_size=2))\n",
    "model.add(keras.layers.Conv2D(filters=256, kernel_size=3,\n",
    "                              padding='same',\n",
    "                              activation='relu'))\n",
    "model.add(keras.layers.Conv2D(filters=256, kernel_size=3,\n",
    "                              padding='same',\n",
    "                              activation='relu'))\n",
    "model.add(keras.layers.MaxPool2D(pool_size=2))\n",
    "model.add(keras.layers.Conv2D(filters=512, kernel_size=3,\n",
    "                              padding='same',\n",
    "                              activation='relu'))\n",
    "model.add(keras.layers.Conv2D(filters=512, kernel_size=3,\n",
    "                              padding='same',\n",
    "                              activation='relu'))\n",
    "model.add(keras.layers.MaxPool2D(pool_size=2))\n",
    "model.add(keras.layers.Flatten())\n",
    "model.add(keras.layers.Dense(512, activation='relu'))\n",
    "model.add(keras.layers.Dense(10, activation=\"softmax\"))\n",
    "\n",
    "model.compile(loss=\"sparse_categorical_crossentropy\",\n",
    "              optimizer = \"sgd\",\n",
    "              metrics = [\"accuracy\"])\n",
    "estimator = keras.estimator.model_to_estimator(model)"
   ]
  },
  {
   "cell_type": "code",
   "execution_count": 14,
   "metadata": {},
   "outputs": [
    {
     "name": "stdout",
     "output_type": "stream",
     "text": [
      "Model: \"sequential_3\"\n",
      "_________________________________________________________________\n",
      "Layer (type)                 Output Shape              Param #   \n",
      "=================================================================\n",
      "conv2d_18 (Conv2D)           (None, 28, 28, 128)       1280      \n",
      "_________________________________________________________________\n",
      "conv2d_19 (Conv2D)           (None, 28, 28, 128)       147584    \n",
      "_________________________________________________________________\n",
      "max_pooling2d_9 (MaxPooling2 (None, 14, 14, 128)       0         \n",
      "_________________________________________________________________\n",
      "conv2d_20 (Conv2D)           (None, 14, 14, 256)       295168    \n",
      "_________________________________________________________________\n",
      "conv2d_21 (Conv2D)           (None, 14, 14, 256)       590080    \n",
      "_________________________________________________________________\n",
      "max_pooling2d_10 (MaxPooling (None, 7, 7, 256)         0         \n",
      "_________________________________________________________________\n",
      "conv2d_22 (Conv2D)           (None, 7, 7, 512)         1180160   \n",
      "_________________________________________________________________\n",
      "conv2d_23 (Conv2D)           (None, 7, 7, 512)         2359808   \n",
      "_________________________________________________________________\n",
      "max_pooling2d_11 (MaxPooling (None, 3, 3, 512)         0         \n",
      "_________________________________________________________________\n",
      "flatten_3 (Flatten)          (None, 4608)              0         \n",
      "_________________________________________________________________\n",
      "dense_6 (Dense)              (None, 512)               2359808   \n",
      "_________________________________________________________________\n",
      "dense_7 (Dense)              (None, 10)                5130      \n",
      "=================================================================\n",
      "Total params: 6,939,018\n",
      "Trainable params: 6,939,018\n",
      "Non-trainable params: 0\n",
      "_________________________________________________________________\n"
     ]
    }
   ],
   "source": [
    "model.summary()"
   ]
  },
  {
   "cell_type": "code",
   "execution_count": 15,
   "metadata": {},
   "outputs": [],
   "source": [
    "# logdir = './cnn-selu-callbacks'\n",
    "# if not os.path.exists(logdir):\n",
    "#     os.mkdir(logdir)\n",
    "# output_model_file = os.path.join(logdir,\n",
    "#                                  \"fashion_mnist_model.h5\")\n",
    "\n",
    "# callbacks = [\n",
    "#     keras.callbacks.TensorBoard(logdir),\n",
    "#     keras.callbacks.ModelCheckpoint(output_model_file,\n",
    "#                                     save_best_only = True),\n",
    "#     keras.callbacks.EarlyStopping(patience=5, min_delta=1e-3),\n",
    "# ]\n",
    "# history = model.fit(x_train_scaled, y_train, epochs=10,\n",
    "#                     validation_data=(x_valid_scaled, y_valid),\n",
    "#                     callbacks = callbacks)\n",
    "\n",
    "# history = model.fit(train_dataset,\n",
    "#                     steps_per_epoch=x_train_scaled.shape[0] //batch_size, \n",
    "#                     epochs=10)"
   ]
  },
  {
   "cell_type": "code",
   "execution_count": 16,
   "metadata": {},
   "outputs": [
    {
     "name": "stdout",
     "output_type": "stream",
     "text": [
      "INFO:tensorflow:Calling model_fn.\n",
      "INFO:tensorflow:Done calling model_fn.\n",
      "INFO:tensorflow:Warm-starting with WarmStartSettings: WarmStartSettings(ckpt_to_initialize_from='C:\\\\Users\\\\A\\\\AppData\\\\Local\\\\Temp\\\\tmp2tvyl4d_\\\\keras\\\\keras_model.ckpt', vars_to_warm_start='.*', var_name_to_vocab_info={}, var_name_to_prev_var_name={})\n",
      "INFO:tensorflow:Warm-starting from: C:\\Users\\A\\AppData\\Local\\Temp\\tmp2tvyl4d_\\keras\\keras_model.ckpt\n",
      "INFO:tensorflow:Warm-starting variables only in TRAINABLE_VARIABLES.\n",
      "INFO:tensorflow:Warm-started 16 variables.\n",
      "INFO:tensorflow:Create CheckpointSaverHook.\n",
      "INFO:tensorflow:Graph was finalized.\n",
      "INFO:tensorflow:Running local_init_op.\n",
      "INFO:tensorflow:Done running local_init_op.\n",
      "INFO:tensorflow:Saving checkpoints for 0 into C:\\Users\\A\\AppData\\Local\\Temp\\tmp2tvyl4d_\\model.ckpt.\n",
      "INFO:tensorflow:loss = 2.3005505, step = 0\n",
      "INFO:tensorflow:global_step/sec: 12.1065\n",
      "INFO:tensorflow:loss = 1.8237247, step = 100 (8.260 sec)\n",
      "INFO:tensorflow:global_step/sec: 12.4773\n",
      "INFO:tensorflow:loss = 0.89793366, step = 200 (8.015 sec)\n",
      "INFO:tensorflow:global_step/sec: 12.473\n",
      "INFO:tensorflow:loss = 0.8737709, step = 300 (8.018 sec)\n",
      "INFO:tensorflow:global_step/sec: 13.2045\n",
      "INFO:tensorflow:loss = 0.62808, step = 400 (7.572 sec)\n",
      "INFO:tensorflow:global_step/sec: 13.1713\n",
      "INFO:tensorflow:loss = 0.67207724, step = 500 (7.592 sec)\n",
      "INFO:tensorflow:global_step/sec: 13.1319\n",
      "INFO:tensorflow:loss = 0.59309685, step = 600 (7.615 sec)\n",
      "INFO:tensorflow:global_step/sec: 13.1412\n",
      "INFO:tensorflow:loss = 0.6229634, step = 700 (7.610 sec)\n",
      "INFO:tensorflow:global_step/sec: 13.1245\n",
      "INFO:tensorflow:loss = 0.63999116, step = 800 (7.620 sec)\n",
      "INFO:tensorflow:global_step/sec: 13.1011\n",
      "INFO:tensorflow:loss = 0.5679411, step = 900 (7.634 sec)\n",
      "INFO:tensorflow:global_step/sec: 12.7119\n",
      "INFO:tensorflow:loss = 0.51628387, step = 1000 (7.866 sec)\n",
      "INFO:tensorflow:global_step/sec: 12.3822\n",
      "INFO:tensorflow:loss = 0.43371406, step = 1100 (8.077 sec)\n",
      "INFO:tensorflow:global_step/sec: 12.3686\n",
      "INFO:tensorflow:loss = 0.479268, step = 1200 (8.083 sec)\n",
      "INFO:tensorflow:global_step/sec: 12.4547\n",
      "INFO:tensorflow:loss = 0.48175097, step = 1300 (8.030 sec)\n",
      "INFO:tensorflow:global_step/sec: 12.9557\n",
      "INFO:tensorflow:loss = 0.4102089, step = 1400 (7.719 sec)\n",
      "INFO:tensorflow:global_step/sec: 13.0379\n",
      "INFO:tensorflow:loss = 0.527342, step = 1500 (7.670 sec)\n",
      "INFO:tensorflow:global_step/sec: 13.0267\n",
      "INFO:tensorflow:loss = 0.4072166, step = 1600 (7.676 sec)\n",
      "INFO:tensorflow:global_step/sec: 12.6857\n",
      "INFO:tensorflow:loss = 0.42491645, step = 1700 (7.884 sec)\n",
      "INFO:tensorflow:global_step/sec: 12.9582\n",
      "INFO:tensorflow:loss = 0.43561468, step = 1800 (7.717 sec)\n",
      "INFO:tensorflow:global_step/sec: 13.0132\n",
      "INFO:tensorflow:loss = 0.4750676, step = 1900 (7.685 sec)\n",
      "INFO:tensorflow:global_step/sec: 13.0122\n",
      "INFO:tensorflow:loss = 0.45291913, step = 2000 (7.685 sec)\n",
      "INFO:tensorflow:global_step/sec: 13.0137\n",
      "INFO:tensorflow:loss = 0.46160385, step = 2100 (7.684 sec)\n",
      "INFO:tensorflow:global_step/sec: 12.8272\n",
      "INFO:tensorflow:loss = 0.36609012, step = 2200 (7.795 sec)\n",
      "INFO:tensorflow:global_step/sec: 13.027\n",
      "INFO:tensorflow:loss = 0.345735, step = 2300 (7.676 sec)\n",
      "INFO:tensorflow:global_step/sec: 12.5991\n",
      "INFO:tensorflow:loss = 0.36733514, step = 2400 (7.938 sec)\n",
      "INFO:tensorflow:global_step/sec: 12.2834\n",
      "INFO:tensorflow:loss = 0.3014261, step = 2500 (8.141 sec)\n",
      "INFO:tensorflow:global_step/sec: 12.2038\n",
      "INFO:tensorflow:loss = 0.30072582, step = 2600 (8.193 sec)\n",
      "INFO:tensorflow:global_step/sec: 12.3112\n",
      "INFO:tensorflow:loss = 0.32641962, step = 2700 (8.126 sec)\n",
      "INFO:tensorflow:global_step/sec: 12.3105\n",
      "INFO:tensorflow:loss = 0.4011434, step = 2800 (8.120 sec)\n",
      "INFO:tensorflow:global_step/sec: 12.3412\n",
      "INFO:tensorflow:loss = 0.3007296, step = 2900 (8.103 sec)\n",
      "INFO:tensorflow:global_step/sec: 12.3576\n",
      "INFO:tensorflow:loss = 0.2881711, step = 3000 (8.093 sec)\n",
      "INFO:tensorflow:global_step/sec: 12.3614\n",
      "INFO:tensorflow:loss = 0.30789015, step = 3100 (8.089 sec)\n",
      "INFO:tensorflow:global_step/sec: 12.3146\n",
      "INFO:tensorflow:loss = 0.3472172, step = 3200 (8.120 sec)\n",
      "INFO:tensorflow:global_step/sec: 12.3421\n",
      "INFO:tensorflow:loss = 0.29536244, step = 3300 (8.103 sec)\n",
      "INFO:tensorflow:global_step/sec: 12.3289\n",
      "INFO:tensorflow:loss = 0.39797434, step = 3400 (8.111 sec)\n",
      "INFO:tensorflow:global_step/sec: 12.3311\n",
      "INFO:tensorflow:loss = 0.25552356, step = 3500 (8.109 sec)\n",
      "INFO:tensorflow:global_step/sec: 12.3267\n",
      "INFO:tensorflow:loss = 0.30874032, step = 3600 (8.112 sec)\n",
      "INFO:tensorflow:global_step/sec: 12.2849\n",
      "INFO:tensorflow:loss = 0.2843462, step = 3700 (8.141 sec)\n",
      "INFO:tensorflow:global_step/sec: 12.3446\n",
      "INFO:tensorflow:loss = 0.2686436, step = 3800 (8.101 sec)\n",
      "INFO:tensorflow:global_step/sec: 12.3385\n",
      "INFO:tensorflow:loss = 0.30039668, step = 3900 (8.105 sec)\n",
      "INFO:tensorflow:global_step/sec: 12.3379\n",
      "INFO:tensorflow:loss = 0.17867272, step = 4000 (8.105 sec)\n",
      "INFO:tensorflow:global_step/sec: 12.3456\n",
      "INFO:tensorflow:loss = 0.2294122, step = 4100 (8.100 sec)\n",
      "INFO:tensorflow:global_step/sec: 12.3171\n",
      "INFO:tensorflow:loss = 0.26025367, step = 4200 (8.120 sec)\n",
      "INFO:tensorflow:global_step/sec: 12.3201\n",
      "INFO:tensorflow:loss = 0.26530153, step = 4300 (8.116 sec)\n",
      "INFO:tensorflow:global_step/sec: 12.3397\n",
      "INFO:tensorflow:loss = 0.29294863, step = 4400 (8.103 sec)\n",
      "INFO:tensorflow:global_step/sec: 12.3336\n",
      "INFO:tensorflow:loss = 0.30518317, step = 4500 (8.108 sec)\n",
      "INFO:tensorflow:global_step/sec: 12.3269\n",
      "INFO:tensorflow:loss = 0.21853842, step = 4600 (8.112 sec)\n",
      "INFO:tensorflow:global_step/sec: 12.3297\n",
      "INFO:tensorflow:loss = 0.25974932, step = 4700 (8.111 sec)\n",
      "INFO:tensorflow:global_step/sec: 12.2973\n",
      "INFO:tensorflow:loss = 0.18720517, step = 4800 (8.132 sec)\n",
      "INFO:tensorflow:global_step/sec: 12.3291\n",
      "INFO:tensorflow:loss = 0.1903817, step = 4900 (8.112 sec)\n",
      "INFO:tensorflow:Saving checkpoints for 5000 into C:\\Users\\A\\AppData\\Local\\Temp\\tmp2tvyl4d_\\model.ckpt.\n",
      "INFO:tensorflow:Loss for final step: 0.1892848.\n"
     ]
    },
    {
     "data": {
      "text/plain": [
       "<tensorflow_estimator.python.estimator.estimator.Estimator at 0x25ba30ca710>"
      ]
     },
     "execution_count": 16,
     "metadata": {},
     "output_type": "execute_result"
    }
   ],
   "source": [
    "estimator.train(\n",
    "    input_fn = lambda: make_dataset(x_train_scaled, y_train, epochs, batch_size),\n",
    "    max_steps=5000,\n",
    "#     saving_listeners=None,\n",
    ")"
   ]
  },
  {
   "cell_type": "code",
   "execution_count": 18,
   "metadata": {},
   "outputs": [
    {
     "name": "stdout",
     "output_type": "stream",
     "text": [
      "Executing op __inference_keras_scratch_graph_4214 in device <unspecified>\n",
      " 9760/10000 [============================>.] - ETA: 0s - loss: 2.3016 - accuracy: 0.1022Executing op __inference_keras_scratch_graph_4214 in device <unspecified>\n",
      "10000/10000 [==============================] - 3s 277us/sample - loss: 2.3016 - accuracy: 0.1021\n"
     ]
    },
    {
     "data": {
      "text/plain": [
       "[2.301611869430542, 0.1021]"
      ]
     },
     "execution_count": 18,
     "metadata": {},
     "output_type": "execute_result"
    }
   ],
   "source": [
    "model.evaluate(x_test_scaled, y_test)"
   ]
  },
  {
   "cell_type": "code",
   "execution_count": null,
   "metadata": {},
   "outputs": [],
   "source": []
  },
  {
   "cell_type": "code",
   "execution_count": null,
   "metadata": {},
   "outputs": [],
   "source": []
  }
 ],
 "metadata": {
  "kernelspec": {
   "display_name": "Python 3",
   "language": "python",
   "name": "python3"
  },
  "language_info": {
   "codemirror_mode": {
    "name": "ipython",
    "version": 3
   },
   "file_extension": ".py",
   "mimetype": "text/x-python",
   "name": "python",
   "nbconvert_exporter": "python",
   "pygments_lexer": "ipython3",
   "version": "3.6.7"
  }
 },
 "nbformat": 4,
 "nbformat_minor": 2
}

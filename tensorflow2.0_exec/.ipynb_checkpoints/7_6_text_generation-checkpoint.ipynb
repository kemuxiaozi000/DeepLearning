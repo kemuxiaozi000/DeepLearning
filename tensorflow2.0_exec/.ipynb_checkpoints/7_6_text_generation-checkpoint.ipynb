{
 "cells": [
  {
   "cell_type": "code",
   "execution_count": 3,
   "metadata": {},
   "outputs": [
    {
     "name": "stdout",
     "output_type": "stream",
     "text": [
      "2.0.0-beta1\n",
      "sys.version_info(major=3, minor=6, micro=7, releaselevel='final', serial=0)\n",
      "matplotlib 3.1.2\n",
      "numpy 1.16.2\n",
      "pandas 0.25.3\n",
      "sklearn 0.22\n",
      "tensorflow 2.0.0-beta1\n",
      "tensorflow.python.keras.api._v2.keras 2.2.4-tf\n"
     ]
    }
   ],
   "source": [
    "import matplotlib as mpl\n",
    "import matplotlib.pyplot as plt\n",
    "%matplotlib inline\n",
    "import numpy as np\n",
    "import sklearn\n",
    "import pandas as pd\n",
    "import os\n",
    "import sys\n",
    "import time\n",
    "import tensorflow as tf\n",
    "\n",
    "from tensorflow import keras\n",
    "\n",
    "print(tf.__version__)\n",
    "print(sys.version_info)\n",
    "for module in mpl, np, pd, sklearn, tf, keras:\n",
    "    print(module.__name__, module.__version__)"
   ]
  },
  {
   "cell_type": "code",
   "execution_count": 4,
   "metadata": {},
   "outputs": [
    {
     "name": "stdout",
     "output_type": "stream",
     "text": [
      "C:\\Users\\A\\.keras\\datasets\\shakespeare.txt\n",
      "1115394\n",
      "First Citizen:\n",
      "Before we proceed any further, hear me speak.\n",
      "\n",
      "All:\n",
      "Speak, speak.\n",
      "\n",
      "First Citizen:\n",
      "You\n"
     ]
    }
   ],
   "source": [
    "path_to_file = tf.keras.utils.get_file(\n",
    "    'shakespeare.txt', 'https://storage.googleapis.com/download.tensorflow.org/data/shakespeare.txt')\n",
    "print(path_to_file)\n",
    "text = open(path_to_file, \"r\").read()\n",
    "print(len(text))\n",
    "print(text[0:100])"
   ]
  },
  {
   "cell_type": "code",
   "execution_count": 5,
   "metadata": {},
   "outputs": [],
   "source": [
    "# 1. generate vocab\n",
    "# 2. build mapping  char -> id\n",
    "# 3. data -> id data\n",
    "# 4. 预测下一个字符的模型  abcd - > bcd<eos>"
   ]
  },
  {
   "cell_type": "markdown",
   "metadata": {},
   "source": [
    "#### 1. generate vocab"
   ]
  },
  {
   "cell_type": "code",
   "execution_count": 6,
   "metadata": {},
   "outputs": [
    {
     "name": "stdout",
     "output_type": "stream",
     "text": [
      "['\\n', ' ', '!', '$', '&', \"'\", ',', '-', '.', '3', ':', ';', '?', 'A', 'B', 'C', 'D', 'E', 'F', 'G', 'H', 'I', 'J', 'K', 'L', 'M', 'N', 'O', 'P', 'Q', 'R', 'S', 'T', 'U', 'V', 'W', 'X', 'Y', 'Z', 'a', 'b', 'c', 'd', 'e', 'f', 'g', 'h', 'i', 'j', 'k', 'l', 'm', 'n', 'o', 'p', 'q', 'r', 's', 't', 'u', 'v', 'w', 'x', 'y', 'z']\n"
     ]
    }
   ],
   "source": [
    "vocab = sorted(set(text))\n",
    "print(vocab)"
   ]
  },
  {
   "cell_type": "markdown",
   "metadata": {},
   "source": [
    "#### 2. build mapping  char <=> id"
   ]
  },
  {
   "cell_type": "code",
   "execution_count": 7,
   "metadata": {},
   "outputs": [
    {
     "name": "stdout",
     "output_type": "stream",
     "text": [
      "{'\\n': 0, ' ': 1, '!': 2, '$': 3, '&': 4, \"'\": 5, ',': 6, '-': 7, '.': 8, '3': 9, ':': 10, ';': 11, '?': 12, 'A': 13, 'B': 14, 'C': 15, 'D': 16, 'E': 17, 'F': 18, 'G': 19, 'H': 20, 'I': 21, 'J': 22, 'K': 23, 'L': 24, 'M': 25, 'N': 26, 'O': 27, 'P': 28, 'Q': 29, 'R': 30, 'S': 31, 'T': 32, 'U': 33, 'V': 34, 'W': 35, 'X': 36, 'Y': 37, 'Z': 38, 'a': 39, 'b': 40, 'c': 41, 'd': 42, 'e': 43, 'f': 44, 'g': 45, 'h': 46, 'i': 47, 'j': 48, 'k': 49, 'l': 50, 'm': 51, 'n': 52, 'o': 53, 'p': 54, 'q': 55, 'r': 56, 's': 57, 't': 58, 'u': 59, 'v': 60, 'w': 61, 'x': 62, 'y': 63, 'z': 64}\n"
     ]
    }
   ],
   "source": [
    "# enumerate() 会对每一个元素生成一个index,\n",
    "char2idx = {char :idx for idx,char in enumerate(vocab) }\n",
    "print(char2idx)"
   ]
  },
  {
   "cell_type": "code",
   "execution_count": 8,
   "metadata": {},
   "outputs": [
    {
     "name": "stdout",
     "output_type": "stream",
     "text": [
      "['\\n' ' ' '!' '$' '&' \"'\" ',' '-' '.' '3' ':' ';' '?' 'A' 'B' 'C' 'D' 'E'\n",
      " 'F' 'G' 'H' 'I' 'J' 'K' 'L' 'M' 'N' 'O' 'P' 'Q' 'R' 'S' 'T' 'U' 'V' 'W'\n",
      " 'X' 'Y' 'Z' 'a' 'b' 'c' 'd' 'e' 'f' 'g' 'h' 'i' 'j' 'k' 'l' 'm' 'n' 'o'\n",
      " 'p' 'q' 'r' 's' 't' 'u' 'v' 'w' 'x' 'y' 'z']\n"
     ]
    }
   ],
   "source": [
    "idx2char = np.array(vocab)\n",
    "print(idx2char)"
   ]
  },
  {
   "cell_type": "markdown",
   "metadata": {},
   "source": [
    "#### 3. data => id data"
   ]
  },
  {
   "cell_type": "code",
   "execution_count": 9,
   "metadata": {},
   "outputs": [
    {
     "name": "stdout",
     "output_type": "stream",
     "text": [
      "[18 47 56 57 58  1 15 47 58 47 64 43 52 10  0 14 43 44 53 56 43  1 61 43\n",
      "  1 54 56 53 41 43 43 42  1 39 52 63  1 44 59 56 58 46 43 56  6  1 46 43\n",
      " 39 56  1 51 43  1 57 54 43 39 49  8  0  0 13 50 50 10  0 31 54 43 39 49\n",
      "  6  1 57 54 43 39 49  8  0  0 18 47 56 57 58  1 15 47 58 47 64 43 52 10\n",
      "  0 37 53 59]\n"
     ]
    }
   ],
   "source": [
    "text_as_int = np.array([char2idx[c] for c in text])\n",
    "print(text_as_int[0:100])"
   ]
  },
  {
   "cell_type": "markdown",
   "metadata": {},
   "source": [
    "#### 4. make dataset"
   ]
  },
  {
   "cell_type": "code",
   "execution_count": 10,
   "metadata": {},
   "outputs": [
    {
     "name": "stdout",
     "output_type": "stream",
     "text": [
      "tf.Tensor(18, shape=(), dtype=int32) F\n",
      "tf.Tensor(47, shape=(), dtype=int32) i\n",
      "tf.Tensor(\n",
      "[18 47 56 57 58  1 15 47 58 47 64 43 52 10  0 14 43 44 53 56 43  1 61 43\n",
      "  1 54 56 53 41 43 43 42  1 39 52 63  1 44 59 56 58 46 43 56  6  1 46 43\n",
      " 39 56  1 51 43  1 57 54 43 39 49  8  0  0 13 50 50 10  0 31 54 43 39 49\n",
      "  6  1 57 54 43 39 49  8  0  0 18 47 56 57 58  1 15 47 58 47 64 43 52 10\n",
      "  0 37 53 59  1], shape=(101,), dtype=int32)\n",
      "'First Citizen:\\nBefore we proceed any further, hear me speak.\\n\\nAll:\\nSpeak, speak.\\n\\nFirst Citizen:\\nYou '\n",
      "tf.Tensor(\n",
      "[39 56 43  1 39 50 50  1 56 43 57 53 50 60 43 42  1 56 39 58 46 43 56  1\n",
      " 58 53  1 42 47 43  1 58 46 39 52  1 58 53  1 44 39 51 47 57 46 12  0  0\n",
      " 13 50 50 10  0 30 43 57 53 50 60 43 42  8  1 56 43 57 53 50 60 43 42  8\n",
      "  0  0 18 47 56 57 58  1 15 47 58 47 64 43 52 10  0 18 47 56 57 58  6  1\n",
      " 63 53 59  1 49], shape=(101,), dtype=int32)\n",
      "'are all resolved rather to die than to famish?\\n\\nAll:\\nResolved. resolved.\\n\\nFirst Citizen:\\nFirst, you k'\n"
     ]
    }
   ],
   "source": [
    "# 样本抽取,用dataset的方式\n",
    "char_dataset = tf.data.Dataset.from_tensor_slices(text_as_int)\n",
    "seq_length = 100\n",
    "seq_dataset = char_dataset.batch(seq_length + 1, \n",
    "                                 drop_remainder = True)\n",
    "\n",
    "for ch_id in char_dataset.take(2):\n",
    "    print(ch_id, idx2char[ch_id.numpy()])\n",
    "\n",
    "for seq_id in seq_dataset.take(2):\n",
    "    print(seq_id)\n",
    "#     print(\"\".join(idx2char[seq_id.numpy()]))\n",
    "    print(repr(\"\".join(idx2char[seq_id.numpy()])))"
   ]
  },
  {
   "cell_type": "markdown",
   "metadata": {},
   "source": [
    "#### 5. dataset中的每个batch(0:100) 拆分成（0：99）和（1：100）"
   ]
  },
  {
   "cell_type": "code",
   "execution_count": 11,
   "metadata": {},
   "outputs": [],
   "source": [
    "# 把字符集分配成输入和输出，作为训练样本\n",
    "def split_input_target(id_text):\n",
    "    \"\"\"\n",
    "    abcde -> abcd,bcde\n",
    "    \"\"\"\n",
    "    return id_text[0:-1], id_text[1:]\n"
   ]
  },
  {
   "cell_type": "code",
   "execution_count": 12,
   "metadata": {},
   "outputs": [
    {
     "name": "stdout",
     "output_type": "stream",
     "text": [
      "[18 47 56 57 58  1 15 47 58 47 64 43 52 10  0 14 43 44 53 56 43  1 61 43\n",
      "  1 54 56 53 41 43 43 42  1 39 52 63  1 44 59 56 58 46 43 56  6  1 46 43\n",
      " 39 56  1 51 43  1 57 54 43 39 49  8  0  0 13 50 50 10  0 31 54 43 39 49\n",
      "  6  1 57 54 43 39 49  8  0  0 18 47 56 57 58  1 15 47 58 47 64 43 52 10\n",
      "  0 37 53 59]\n",
      "[47 56 57 58  1 15 47 58 47 64 43 52 10  0 14 43 44 53 56 43  1 61 43  1\n",
      " 54 56 53 41 43 43 42  1 39 52 63  1 44 59 56 58 46 43 56  6  1 46 43 39\n",
      " 56  1 51 43  1 57 54 43 39 49  8  0  0 13 50 50 10  0 31 54 43 39 49  6\n",
      "  1 57 54 43 39 49  8  0  0 18 47 56 57 58  1 15 47 58 47 64 43 52 10  0\n",
      " 37 53 59  1]\n",
      "[39 56 43  1 39 50 50  1 56 43 57 53 50 60 43 42  1 56 39 58 46 43 56  1\n",
      " 58 53  1 42 47 43  1 58 46 39 52  1 58 53  1 44 39 51 47 57 46 12  0  0\n",
      " 13 50 50 10  0 30 43 57 53 50 60 43 42  8  1 56 43 57 53 50 60 43 42  8\n",
      "  0  0 18 47 56 57 58  1 15 47 58 47 64 43 52 10  0 18 47 56 57 58  6  1\n",
      " 63 53 59  1]\n",
      "[56 43  1 39 50 50  1 56 43 57 53 50 60 43 42  1 56 39 58 46 43 56  1 58\n",
      " 53  1 42 47 43  1 58 46 39 52  1 58 53  1 44 39 51 47 57 46 12  0  0 13\n",
      " 50 50 10  0 30 43 57 53 50 60 43 42  8  1 56 43 57 53 50 60 43 42  8  0\n",
      "  0 18 47 56 57 58  1 15 47 58 47 64 43 52 10  0 18 47 56 57 58  6  1 63\n",
      " 53 59  1 49]\n"
     ]
    }
   ],
   "source": [
    "seq_dataset = seq_dataset.map(split_input_target)\n",
    "\n",
    "for item_input, item_output in seq_dataset.take(2):\n",
    "    print(item_input.numpy())\n",
    "    print(item_output.numpy())\n",
    "    "
   ]
  },
  {
   "cell_type": "markdown",
   "metadata": {},
   "source": [
    "#### 6. 模型建立"
   ]
  },
  {
   "cell_type": "code",
   "execution_count": 13,
   "metadata": {},
   "outputs": [],
   "source": [
    "batch_size = 64\n",
    "buffer_size = 10000\n",
    "\n",
    "seq_dataset = seq_dataset.shuffle(buffer_size).batch(\n",
    "    batch_size, drop_remainder = True\n",
    ")"
   ]
  },
  {
   "cell_type": "code",
   "execution_count": 14,
   "metadata": {},
   "outputs": [
    {
     "name": "stdout",
     "output_type": "stream",
     "text": [
      "First Citizen:\n",
      "Before we proceed any further, hear me speak.\n",
      "\n",
      "All:\n",
      "Speak, speak.\n",
      "\n",
      "First Citizen:\n",
      "You\n",
      "Model: \"sequential\"\n",
      "_________________________________________________________________\n",
      "Layer (type)                 Output Shape              Param #   \n",
      "=================================================================\n",
      "embedding (Embedding)        (64, None, 256)           16640     \n",
      "_________________________________________________________________\n",
      "simple_rnn (SimpleRNN)       (64, None, 1024)          1311744   \n",
      "_________________________________________________________________\n",
      "dense (Dense)                (64, None, 65)            66625     \n",
      "=================================================================\n",
      "Total params: 1,395,009\n",
      "Trainable params: 1,395,009\n",
      "Non-trainable params: 0\n",
      "_________________________________________________________________\n"
     ]
    }
   ],
   "source": [
    "print(text[0:100])\n",
    "vocab_size = len(vocab)\n",
    "embedding_dim = 256\n",
    "rnn_units = 1024\n",
    "\n",
    "def build_model(vocab_size, embedding_dim, rnn_units, batch_size):\n",
    "    model = keras.models.Sequential([\n",
    "        keras.layers.Embedding(vocab_size, embedding_dim, \n",
    "                               batch_input_shape=[batch_size, None]),\n",
    "        keras.layers.SimpleRNN(units = rnn_units,\n",
    "                               return_sequences = True),\n",
    "        keras.layers.Dense(vocab_size)\n",
    "    ])\n",
    "    return model\n",
    "model = build_model( vocab_size = vocab_size,\n",
    "                     embedding_dim = embedding_dim,\n",
    "                     rnn_units = rnn_units,\n",
    "                     batch_size = batch_size)\n",
    "\n",
    "model.summary()"
   ]
  },
  {
   "cell_type": "markdown",
   "metadata": {},
   "source": [
    "#### 7. 模型未经过训练，但可以用模型去做预测（把model当函数来用）"
   ]
  },
  {
   "cell_type": "code",
   "execution_count": 16,
   "metadata": {},
   "outputs": [
    {
     "name": "stdout",
     "output_type": "stream",
     "text": [
      "(64, 100, 65)\n"
     ]
    }
   ],
   "source": [
    "for input_example_batch, target_example_batch in seq_dataset.take(1):\n",
    "    example_batch_predictions = model(input_example_batch)\n",
    "    print(example_batch_predictions.shape)"
   ]
  },
  {
   "cell_type": "code",
   "execution_count": 17,
   "metadata": {},
   "outputs": [
    {
     "name": "stdout",
     "output_type": "stream",
     "text": [
      "tf.Tensor(\n",
      "[[35]\n",
      " [27]\n",
      " [45]\n",
      " [54]\n",
      " [44]\n",
      " [53]\n",
      " [56]\n",
      " [ 1]\n",
      " [11]\n",
      " [ 6]\n",
      " [14]\n",
      " [ 1]\n",
      " [40]\n",
      " [39]\n",
      " [31]\n",
      " [43]\n",
      " [ 1]\n",
      " [38]\n",
      " [15]\n",
      " [30]\n",
      " [40]\n",
      " [36]\n",
      " [14]\n",
      " [ 9]\n",
      " [39]\n",
      " [37]\n",
      " [33]\n",
      " [56]\n",
      " [16]\n",
      " [19]\n",
      " [61]\n",
      " [23]\n",
      " [30]\n",
      " [40]\n",
      " [38]\n",
      " [55]\n",
      " [15]\n",
      " [ 0]\n",
      " [47]\n",
      " [48]\n",
      " [20]\n",
      " [11]\n",
      " [25]\n",
      " [30]\n",
      " [57]\n",
      " [50]\n",
      " [35]\n",
      " [ 5]\n",
      " [59]\n",
      " [ 1]\n",
      " [62]\n",
      " [ 2]\n",
      " [53]\n",
      " [29]\n",
      " [37]\n",
      " [64]\n",
      " [14]\n",
      " [ 3]\n",
      " [24]\n",
      " [52]\n",
      " [25]\n",
      " [31]\n",
      " [43]\n",
      " [ 3]\n",
      " [53]\n",
      " [30]\n",
      " [11]\n",
      " [31]\n",
      " [46]\n",
      " [ 5]\n",
      " [24]\n",
      " [45]\n",
      " [52]\n",
      " [47]\n",
      " [ 8]\n",
      " [ 9]\n",
      " [36]\n",
      " [ 3]\n",
      " [54]\n",
      " [17]\n",
      " [50]\n",
      " [37]\n",
      " [ 3]\n",
      " [17]\n",
      " [40]\n",
      " [54]\n",
      " [ 6]\n",
      " [ 0]\n",
      " [39]\n",
      " [12]\n",
      " [22]\n",
      " [40]\n",
      " [21]\n",
      " [24]\n",
      " [24]\n",
      " [38]\n",
      " [55]\n",
      " [29]\n",
      " [ 9]\n",
      " [25]], shape=(100, 1), dtype=int64)\n",
      "tf.Tensor(\n",
      "[35 27 45 54 44 53 56  1 11  6 14  1 40 39 31 43  1 38 15 30 40 36 14  9\n",
      " 39 37 33 56 16 19 61 23 30 40 38 55 15  0 47 48 20 11 25 30 57 50 35  5\n",
      " 59  1 62  2 53 29 37 64 14  3 24 52 25 31 43  3 53 30 11 31 46  5 24 45\n",
      " 52 47  8  9 36  3 54 17 50 37  3 17 40 54  6  0 39 12 22 40 21 24 24 38\n",
      " 55 29  9 25], shape=(100,), dtype=int64)\n"
     ]
    }
   ],
   "source": [
    "# 随机采样 random sampling\n",
    "# greedy/ random 不同策略，无好坏之分\n",
    "# 模型最后一层没有激活函数，所以是logits\n",
    "# logits 是对于分类任务来说，在计算softmax之前的值\n",
    "\n",
    "sample_indics = tf.random.categorical( \n",
    "    logits = example_batch_predictions[0],\n",
    "    num_samples = 1,\n",
    "    dtype=None,\n",
    "    seed=None,\n",
    "    name=None)\n",
    "print(sample_indics)\n",
    "\n",
    "# example_batch_predictions[0].shape -> (100,65)\n",
    "# -> (100, 1) \n",
    "\n",
    "# 去掉squeeze维度\n",
    "sample_indics = tf.squeeze(sample_indics, axis = -1)\n",
    "print(sample_indics)"
   ]
  },
  {
   "cell_type": "code",
   "execution_count": 18,
   "metadata": {},
   "outputs": [
    {
     "name": "stdout",
     "output_type": "stream",
     "text": [
      "input: 'rs must:\\nBut I shall live, my lord, to give them thanks\\nThat were the cause of my imprisonment.\\n\\nGLO'\n",
      "\n",
      "output: 's must:\\nBut I shall live, my lord, to give them thanks\\nThat were the cause of my imprisonment.\\n\\nGLOU'\n",
      "\n",
      "prediction: \"WOgpfor ;,B baSe ZCRbXB3aYUrDGwKRbZqC\\nijH;MRslW'u x!oQYzB$LnMSe$oR;Sh'Lgni.3X$pElY$Ebp,\\na?JbILLZqQ3M\"\n"
     ]
    }
   ],
   "source": [
    "print(\"input:\", repr(\"\".join(idx2char[input_example_batch[0]])))\n",
    "print()\n",
    "print(\"output:\", repr(\"\".join(idx2char[target_example_batch[0]])))\n",
    "print()\n",
    "print(\"prediction:\", repr(\"\".join(idx2char[sample_indics])))"
   ]
  },
  {
   "cell_type": "code",
   "execution_count": 33,
   "metadata": {},
   "outputs": [
    {
     "name": "stdout",
     "output_type": "stream",
     "text": [
      "(64, 100)\n",
      "4.1796827\n"
     ]
    }
   ],
   "source": [
    "def loss(labels, logits):\n",
    "    return keras.losses.sparse_categorical_crossentropy(labels, \n",
    "                                                      logits, \n",
    "                                                      from_logits = True)\n",
    "\n",
    "model.compile(optimizer = \"adam\", loss = loss)\n",
    "example_loss = loss(target_example_batch, example_batch_predictions)\n",
    "print(example_loss.shape)\n",
    "print(example_loss.numpy().mean())"
   ]
  },
  {
   "cell_type": "markdown",
   "metadata": {},
   "source": [
    "#### 8. 模型训练"
   ]
  },
  {
   "cell_type": "code",
   "execution_count": 35,
   "metadata": {},
   "outputs": [
    {
     "name": "stdout",
     "output_type": "stream",
     "text": [
      "Epoch 1/100\n",
      "172/172 [==============================] - 105s 611ms/step - loss: 2.8092\n",
      "Epoch 2/100\n",
      "172/172 [==============================] - 105s 612ms/step - loss: 2.1439\n",
      "Epoch 3/100\n",
      "172/172 [==============================] - 105s 611ms/step - loss: 1.9144\n",
      "Epoch 4/100\n",
      "172/172 [==============================] - 106s 614ms/step - loss: 1.7663\n",
      "Epoch 5/100\n",
      "172/172 [==============================] - 105s 612ms/step - loss: 1.6633\n",
      "Epoch 6/100\n",
      "172/172 [==============================] - 104s 602ms/step - loss: 1.5889\n",
      "Epoch 7/100\n",
      "172/172 [==============================] - 103s 602ms/step - loss: 1.5343\n",
      "Epoch 8/100\n",
      "172/172 [==============================] - 103s 600ms/step - loss: 1.4916\n",
      "Epoch 9/100\n",
      "172/172 [==============================] - 103s 601ms/step - loss: 1.4582\n",
      "Epoch 10/100\n",
      "172/172 [==============================] - 105s 609ms/step - loss: 1.4297\n",
      "Epoch 11/100\n",
      "172/172 [==============================] - 104s 603ms/step - loss: 1.4045\n",
      "Epoch 12/100\n",
      "172/172 [==============================] - 104s 607ms/step - loss: 1.3834\n",
      "Epoch 13/100\n",
      "172/172 [==============================] - 104s 606ms/step - loss: 1.3647\n",
      "Epoch 14/100\n",
      "172/172 [==============================] - 104s 604ms/step - loss: 1.3497\n",
      "Epoch 15/100\n",
      "172/172 [==============================] - 104s 604ms/step - loss: 1.3382\n",
      "Epoch 16/100\n",
      "172/172 [==============================] - 104s 607ms/step - loss: 1.3266\n",
      "Epoch 17/100\n",
      "172/172 [==============================] - 105s 611ms/step - loss: 1.3149\n",
      "Epoch 18/100\n",
      "172/172 [==============================] - 104s 604ms/step - loss: 1.3030\n",
      "Epoch 19/100\n",
      "172/172 [==============================] - 104s 607ms/step - loss: 1.2939\n",
      "Epoch 20/100\n",
      "172/172 [==============================] - 104s 603ms/step - loss: 1.2861\n",
      "Epoch 21/100\n",
      "172/172 [==============================] - 105s 608ms/step - loss: 1.2784\n",
      "Epoch 22/100\n",
      "172/172 [==============================] - 105s 608ms/step - loss: 1.2727\n",
      "Epoch 23/100\n",
      "172/172 [==============================] - 104s 605ms/step - loss: 1.2680\n",
      "Epoch 24/100\n",
      "172/172 [==============================] - 104s 605ms/step - loss: 1.2641\n",
      "Epoch 25/100\n",
      "172/172 [==============================] - 104s 606ms/step - loss: 1.2587\n",
      "Epoch 26/100\n",
      "172/172 [==============================] - 104s 604ms/step - loss: 1.2487\n",
      "Epoch 27/100\n",
      "172/172 [==============================] - 104s 607ms/step - loss: 1.2405\n",
      "Epoch 28/100\n",
      "172/172 [==============================] - 104s 605ms/step - loss: 1.2372\n",
      "Epoch 29/100\n",
      "172/172 [==============================] - 104s 604ms/step - loss: 1.2335\n",
      "Epoch 30/100\n",
      "172/172 [==============================] - 104s 606ms/step - loss: 1.2261\n",
      "Epoch 31/100\n",
      "172/172 [==============================] - 104s 606ms/step - loss: 1.2213\n",
      "Epoch 32/100\n",
      "172/172 [==============================] - 104s 603ms/step - loss: 1.2189\n",
      "Epoch 33/100\n",
      "172/172 [==============================] - 104s 607ms/step - loss: 1.2190\n",
      "Epoch 34/100\n",
      "172/172 [==============================] - 104s 604ms/step - loss: 1.2168\n",
      "Epoch 35/100\n",
      "172/172 [==============================] - 104s 606ms/step - loss: 1.2109\n",
      "Epoch 36/100\n",
      "172/172 [==============================] - 104s 607ms/step - loss: 1.2044\n",
      "Epoch 37/100\n",
      "172/172 [==============================] - 104s 606ms/step - loss: 1.2025\n",
      "Epoch 38/100\n",
      "172/172 [==============================] - 104s 606ms/step - loss: 1.2016\n",
      "Epoch 39/100\n",
      "172/172 [==============================] - 105s 608ms/step - loss: 1.2033\n",
      "Epoch 40/100\n",
      "172/172 [==============================] - 104s 607ms/step - loss: 1.2006\n",
      "Epoch 41/100\n",
      "172/172 [==============================] - 104s 607ms/step - loss: 1.1973\n",
      "Epoch 42/100\n",
      "172/172 [==============================] - 105s 609ms/step - loss: 1.1953\n",
      "Epoch 43/100\n",
      "172/172 [==============================] - 104s 603ms/step - loss: 1.1890\n",
      "Epoch 44/100\n",
      "172/172 [==============================] - 104s 605ms/step - loss: 1.1823\n",
      "Epoch 45/100\n",
      "172/172 [==============================] - 104s 605ms/step - loss: 1.1762\n",
      "Epoch 46/100\n",
      "172/172 [==============================] - 104s 604ms/step - loss: 1.1744\n",
      "Epoch 47/100\n",
      "172/172 [==============================] - 104s 605ms/step - loss: 1.1702\n",
      "Epoch 48/100\n",
      "172/172 [==============================] - 104s 607ms/step - loss: 1.1708\n",
      "Epoch 49/100\n",
      "172/172 [==============================] - 104s 603ms/step - loss: 1.1684\n",
      "Epoch 50/100\n",
      "172/172 [==============================] - 104s 606ms/step - loss: 1.1651\n",
      "Epoch 51/100\n",
      "172/172 [==============================] - 104s 604ms/step - loss: 1.1649\n",
      "Epoch 52/100\n",
      "172/172 [==============================] - 104s 605ms/step - loss: 1.1642\n",
      "Epoch 53/100\n",
      "172/172 [==============================] - 104s 606ms/step - loss: 1.1653\n",
      "Epoch 54/100\n",
      "172/172 [==============================] - 103s 601ms/step - loss: 1.1645\n",
      "Epoch 55/100\n",
      "172/172 [==============================] - 104s 605ms/step - loss: 1.1643\n",
      "Epoch 56/100\n",
      "172/172 [==============================] - 104s 605ms/step - loss: 1.1617\n",
      "Epoch 57/100\n",
      "172/172 [==============================] - 104s 604ms/step - loss: 1.1591\n",
      "Epoch 58/100\n",
      "172/172 [==============================] - 104s 606ms/step - loss: 1.1572\n",
      "Epoch 59/100\n",
      "172/172 [==============================] - 104s 606ms/step - loss: 1.1557\n",
      "Epoch 60/100\n",
      "172/172 [==============================] - 104s 605ms/step - loss: 1.1553\n",
      "Epoch 61/100\n",
      "172/172 [==============================] - 104s 607ms/step - loss: 1.1542\n",
      "Epoch 62/100\n",
      "172/172 [==============================] - 104s 607ms/step - loss: 1.1508\n",
      "Epoch 63/100\n",
      "172/172 [==============================] - 104s 605ms/step - loss: 1.1503\n",
      "Epoch 64/100\n",
      "172/172 [==============================] - 104s 605ms/step - loss: 1.1488\n",
      "Epoch 65/100\n",
      "172/172 [==============================] - 104s 608ms/step - loss: 1.1505\n",
      "Epoch 66/100\n",
      "172/172 [==============================] - 104s 607ms/step - loss: 1.1494\n",
      "Epoch 67/100\n",
      "172/172 [==============================] - 104s 606ms/step - loss: 1.1457\n",
      "Epoch 68/100\n",
      "172/172 [==============================] - 105s 610ms/step - loss: 1.1454\n",
      "Epoch 69/100\n",
      "172/172 [==============================] - 104s 607ms/step - loss: 1.1448\n",
      "Epoch 70/100\n",
      "172/172 [==============================] - 104s 605ms/step - loss: 1.1429\n",
      "Epoch 71/100\n",
      "172/172 [==============================] - 104s 606ms/step - loss: 1.1433\n",
      "Epoch 72/100\n",
      "172/172 [==============================] - 104s 607ms/step - loss: 1.1451\n",
      "Epoch 73/100\n",
      "172/172 [==============================] - 104s 606ms/step - loss: 1.1453\n",
      "Epoch 74/100\n",
      "172/172 [==============================] - 104s 607ms/step - loss: 1.1488\n",
      "Epoch 75/100\n",
      "172/172 [==============================] - 105s 608ms/step - loss: 1.1460\n",
      "Epoch 76/100\n",
      "172/172 [==============================] - 104s 607ms/step - loss: 1.1461\n",
      "Epoch 77/100\n",
      "172/172 [==============================] - 104s 606ms/step - loss: 1.1425\n",
      "Epoch 78/100\n",
      "172/172 [==============================] - 104s 606ms/step - loss: 1.1478\n",
      "Epoch 79/100\n",
      "172/172 [==============================] - 104s 607ms/step - loss: 1.1508\n",
      "Epoch 80/100\n",
      "172/172 [==============================] - 105s 608ms/step - loss: 1.1495\n",
      "Epoch 81/100\n",
      "172/172 [==============================] - 104s 607ms/step - loss: 1.1519\n",
      "Epoch 82/100\n",
      "172/172 [==============================] - 104s 605ms/step - loss: 1.1526\n",
      "Epoch 83/100\n",
      "172/172 [==============================] - 105s 609ms/step - loss: 1.1530\n",
      "Epoch 84/100\n",
      "172/172 [==============================] - 105s 609ms/step - loss: 1.1585\n",
      "Epoch 85/100\n",
      "172/172 [==============================] - 105s 609ms/step - loss: 1.1549\n",
      "Epoch 86/100\n",
      "172/172 [==============================] - 105s 608ms/step - loss: 1.1583\n",
      "Epoch 87/100\n",
      "172/172 [==============================] - 105s 612ms/step - loss: 1.1668\n",
      "Epoch 88/100\n",
      "172/172 [==============================] - 105s 610ms/step - loss: 1.1663\n",
      "Epoch 89/100\n",
      "172/172 [==============================] - 105s 610ms/step - loss: 1.1660\n",
      "Epoch 90/100\n",
      "172/172 [==============================] - 105s 610ms/step - loss: 1.1673\n",
      "Epoch 91/100\n",
      "172/172 [==============================] - 105s 613ms/step - loss: 1.1682\n",
      "Epoch 92/100\n",
      "172/172 [==============================] - 106s 613ms/step - loss: 1.1710\n",
      "Epoch 93/100\n",
      "172/172 [==============================] - 105s 611ms/step - loss: 1.1712\n",
      "Epoch 94/100\n",
      "172/172 [==============================] - 105s 612ms/step - loss: 1.1749\n",
      "Epoch 95/100\n",
      "172/172 [==============================] - 105s 611ms/step - loss: 1.1798\n",
      "Epoch 96/100\n",
      "172/172 [==============================] - 105s 608ms/step - loss: 1.1753\n",
      "Epoch 97/100\n",
      "172/172 [==============================] - 105s 608ms/step - loss: 1.1839\n",
      "Epoch 98/100\n",
      "172/172 [==============================] - 105s 608ms/step - loss: 1.1844\n",
      "Epoch 99/100\n",
      "172/172 [==============================] - 104s 606ms/step - loss: 1.1925\n",
      "Epoch 100/100\n",
      "172/172 [==============================] - 105s 609ms/step - loss: 1.1935\n"
     ]
    }
   ],
   "source": [
    "output_dir = \"./text_generation_checkpoints\"\n",
    "if not os.path.exists(output_dir):\n",
    "    os.mkdir(output_dir)\n",
    "checkpoint_prefix = os.path.join(output_dir, \"ckpt_{epoch}\")\n",
    "checkpoint_callback = keras.callbacks.ModelCheckpoint(\n",
    "    filepath = checkpoint_prefix,\n",
    "#     monitor='val_loss',\n",
    "#     verbose=0,\n",
    "#     save_best_only=False,\n",
    "    save_weights_only=True,\n",
    "#     mode='auto',\n",
    "#     save_freq='epoch',\n",
    "#     load_weights_on_restart=False\n",
    ")\n",
    "\n",
    "epochs = 100\n",
    "\n",
    "history = model.fit(seq_dataset, epochs = epochs,\n",
    "                   callbacks= [checkpoint_callback])"
   ]
  },
  {
   "cell_type": "markdown",
   "metadata": {},
   "source": [
    "#### 9. 重载模型（利用checkpoint）"
   ]
  },
  {
   "cell_type": "code",
   "execution_count": 19,
   "metadata": {},
   "outputs": [
    {
     "data": {
      "text/plain": [
       "'.text_generation_checkpoints\\\\ckpt_100'"
      ]
     },
     "execution_count": 19,
     "metadata": {},
     "output_type": "execute_result"
    }
   ],
   "source": [
    "tf.train.latest_checkpoint(output_dir)"
   ]
  },
  {
   "cell_type": "code",
   "execution_count": 20,
   "metadata": {},
   "outputs": [
    {
     "name": "stdout",
     "output_type": "stream",
     "text": [
      "Model: \"sequential_1\"\n",
      "_________________________________________________________________\n",
      "Layer (type)                 Output Shape              Param #   \n",
      "=================================================================\n",
      "embedding_1 (Embedding)      (1, None, 256)            16640     \n",
      "_________________________________________________________________\n",
      "simple_rnn_1 (SimpleRNN)     (1, None, 1024)           1311744   \n",
      "_________________________________________________________________\n",
      "dense_1 (Dense)              (1, None, 65)             66625     \n",
      "=================================================================\n",
      "Total params: 1,395,009\n",
      "Trainable params: 1,395,009\n",
      "Non-trainable params: 0\n",
      "_________________________________________________________________\n"
     ]
    }
   ],
   "source": [
    "model2 = build_model(vocab_size = vocab_size,\n",
    "                     embedding_dim = embedding_dim,\n",
    "                     rnn_units = rnn_units,\n",
    "                     batch_size = 1)\n",
    "model2.load_weights(tf.train.latest_checkpoint(output_dir))\n",
    "model2.build(tf.TensorShape([1,None]))\n",
    "\n",
    "# start ch sequence A,\n",
    "# A -> model -> b\n",
    "# A.append(b) -> B\n",
    "# B -> model-> c\n",
    "# B.append(c) -> C\n",
    "model2.summary()\n"
   ]
  },
  {
   "cell_type": "code",
   "execution_count": 27,
   "metadata": {},
   "outputs": [
    {
     "name": "stdout",
     "output_type": "stream",
     "text": [
      "All: My me be, fu, d angr? d KI t ten.\n",
      "\n",
      "A:\n",
      "TI if; waratise, g d athey tofie brre tyous I fopraldel ty,\n",
      "Whe andas were:\n",
      "And he mithe, my deed myoulet chacaleanershe'se. es\n",
      "Where bowe w whar fue pr?\n",
      "I yes qu an inoche'ds, pu at git; y o ar n dus be ou-child whe\n",
      "RISToseaichqushanote t gandome thieeat as d s\n",
      "A'thie\n",
      "TEls mery:\n",
      "Ay thasif,\n",
      "ARCI ty SCllouthothe\n",
      "Cyouche o he frte arifau,\n",
      "CAN avigowam'die, ur the d l st mblounouturesththar.\n",
      "He s th n ato metcinor w my,\n",
      "\n",
      "I dind nd s byoupengheaming, uprongivit bryel ale gilonore t ase tce'lo?\n",
      "Tofonf ity f!\n",
      "SBY--hie thif s ty ybe A:\n",
      "He u,\n",
      "LI donth'te ne w he ase th\n",
      "ARIINGe y.\n",
      "Whano?\n",
      "CA Hinowh l we, ashothe quen:\n",
      "CLAS:\n",
      "CA:\n",
      "Toper, hine s ard hels;\n",
      "I G anof itir.\n",
      "He iland wliow ainoupe hieey IOLORYoourose, op;\n",
      "INonithavemese wotomivit hoce dove van h hieichoun'\n",
      "Why her lo he CHe hit nd nkee! m, gches l t o sshif hte ifadiouth'Hetoboun s ghinth ane ou, tanoust t f? t, d inds gean Thet bllouldif Tidielo en:\n",
      "BRD: issagans\n",
      "T:\n",
      "Th ar t t.\n",
      "LING whet'letory, hifa\n"
     ]
    }
   ],
   "source": [
    "def generate_text(model,start_string, num_generate = 1000):\n",
    "    input_eval = [char2idx[ch] for ch in start_string]\n",
    "    input_eval= tf.expand_dims(input_eval, 0)\n",
    "    \n",
    "    text_generated = []\n",
    "    model.reset_states()\n",
    "    for _ in range(num_generate):\n",
    "        # 1.model inference ->predictions\n",
    "        # 2.sample\n",
    "        # 3.update input_eval\n",
    "        \n",
    "        # predictions : [batch_size, input_eval_len, vocab_size]\n",
    "        predictions = model(input_eval)\n",
    "        # predictions : [input_eval_len, vocab_size]   消掉batch_size的维度\n",
    "        predictions = tf.squeeze(predictions, 0)\n",
    "        # predicetd_ids : [input_eval_len, 1]\n",
    "        # a b c -> b c d ,只用最后一个 predicetd_ids 就是d\n",
    "        predicted_id = tf.random.categorical(\n",
    "            predictions, num_samples = 1\n",
    "        )[-1,0].numpy()\n",
    "        text_generated.append(idx2char[predicted_id])\n",
    "        # 为什么不在input_eval后面添加predicted_id，而是直接替换  => 为了防止低效\n",
    "        # s, x -> rnn -> s', y  \n",
    "        input_eval = tf.expand_dims([predicted_id],0)\n",
    "    return start_string + \"\".join(text_generated)\n",
    "new_text = generate_text(model2, \"All: \")\n",
    "print(new_text)"
   ]
  },
  {
   "cell_type": "code",
   "execution_count": null,
   "metadata": {},
   "outputs": [],
   "source": []
  }
 ],
 "metadata": {
  "kernelspec": {
   "display_name": "Python 3",
   "language": "python",
   "name": "python3"
  },
  "language_info": {
   "codemirror_mode": {
    "name": "ipython",
    "version": 3
   },
   "file_extension": ".py",
   "mimetype": "text/x-python",
   "name": "python",
   "nbconvert_exporter": "python",
   "pygments_lexer": "ipython3",
   "version": "3.6.7"
  }
 },
 "nbformat": 4,
 "nbformat_minor": 2
}

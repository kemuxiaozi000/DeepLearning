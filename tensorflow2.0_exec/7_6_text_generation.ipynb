{
 "cells": [
  {
   "cell_type": "code",
   "execution_count": 1,
   "metadata": {},
   "outputs": [
    {
     "name": "stdout",
     "output_type": "stream",
     "text": [
      "2.0.0-beta1\n",
      "sys.version_info(major=3, minor=6, micro=7, releaselevel='final', serial=0)\n",
      "matplotlib 3.1.2\n",
      "numpy 1.16.2\n",
      "pandas 0.25.3\n",
      "sklearn 0.22\n",
      "tensorflow 2.0.0-beta1\n",
      "tensorflow.python.keras.api._v2.keras 2.2.4-tf\n"
     ]
    }
   ],
   "source": [
    "import matplotlib as mpl\n",
    "import matplotlib.pyplot as plt\n",
    "%matplotlib inline\n",
    "import numpy as np\n",
    "import sklearn\n",
    "import pandas as pd\n",
    "import os\n",
    "import sys\n",
    "import time\n",
    "import tensorflow as tf\n",
    "\n",
    "from tensorflow import keras\n",
    "\n",
    "print(tf.__version__)\n",
    "print(sys.version_info)\n",
    "for module in mpl, np, pd, sklearn, tf, keras:\n",
    "    print(module.__name__, module.__version__)"
   ]
  },
  {
   "cell_type": "code",
   "execution_count": 2,
   "metadata": {},
   "outputs": [
    {
     "name": "stdout",
     "output_type": "stream",
     "text": [
      "C:\\Users\\A\\.keras\\datasets\\shakespeare.txt\n",
      "1115394\n",
      "First Citizen:\n",
      "Before we proceed any further, hear me speak.\n",
      "\n",
      "All:\n",
      "Speak, speak.\n",
      "\n",
      "First Citizen:\n",
      "You\n"
     ]
    }
   ],
   "source": [
    "path_to_file = tf.keras.utils.get_file(\n",
    "    'shakespeare.txt', 'https://storage.googleapis.com/download.tensorflow.org/data/shakespeare.txt')\n",
    "print(path_to_file)\n",
    "text = open(path_to_file, \"r\").read()\n",
    "print(len(text))\n",
    "print(text[0:100])"
   ]
  },
  {
   "cell_type": "code",
   "execution_count": 3,
   "metadata": {},
   "outputs": [],
   "source": [
    "# 1. generate vocab\n",
    "# 2. build mapping  char -> id\n",
    "# 3. data -> id data\n",
    "# 4. 预测下一个字符的模型  abcd - > bcd<eos>"
   ]
  },
  {
   "cell_type": "markdown",
   "metadata": {},
   "source": [
    "#### 1. generate vocab"
   ]
  },
  {
   "cell_type": "code",
   "execution_count": 4,
   "metadata": {},
   "outputs": [
    {
     "name": "stdout",
     "output_type": "stream",
     "text": [
      "['\\n', ' ', '!', '$', '&', \"'\", ',', '-', '.', '3', ':', ';', '?', 'A', 'B', 'C', 'D', 'E', 'F', 'G', 'H', 'I', 'J', 'K', 'L', 'M', 'N', 'O', 'P', 'Q', 'R', 'S', 'T', 'U', 'V', 'W', 'X', 'Y', 'Z', 'a', 'b', 'c', 'd', 'e', 'f', 'g', 'h', 'i', 'j', 'k', 'l', 'm', 'n', 'o', 'p', 'q', 'r', 's', 't', 'u', 'v', 'w', 'x', 'y', 'z']\n"
     ]
    }
   ],
   "source": [
    "vocab = sorted(set(text))\n",
    "print(vocab)"
   ]
  },
  {
   "cell_type": "markdown",
   "metadata": {},
   "source": [
    "#### 2. build mapping  char <=> id"
   ]
  },
  {
   "cell_type": "code",
   "execution_count": 5,
   "metadata": {},
   "outputs": [
    {
     "name": "stdout",
     "output_type": "stream",
     "text": [
      "{'\\n': 0, ' ': 1, '!': 2, '$': 3, '&': 4, \"'\": 5, ',': 6, '-': 7, '.': 8, '3': 9, ':': 10, ';': 11, '?': 12, 'A': 13, 'B': 14, 'C': 15, 'D': 16, 'E': 17, 'F': 18, 'G': 19, 'H': 20, 'I': 21, 'J': 22, 'K': 23, 'L': 24, 'M': 25, 'N': 26, 'O': 27, 'P': 28, 'Q': 29, 'R': 30, 'S': 31, 'T': 32, 'U': 33, 'V': 34, 'W': 35, 'X': 36, 'Y': 37, 'Z': 38, 'a': 39, 'b': 40, 'c': 41, 'd': 42, 'e': 43, 'f': 44, 'g': 45, 'h': 46, 'i': 47, 'j': 48, 'k': 49, 'l': 50, 'm': 51, 'n': 52, 'o': 53, 'p': 54, 'q': 55, 'r': 56, 's': 57, 't': 58, 'u': 59, 'v': 60, 'w': 61, 'x': 62, 'y': 63, 'z': 64}\n"
     ]
    }
   ],
   "source": [
    "# enumerate() 会对每一个元素生成一个index,\n",
    "char2idx = {char :idx for idx,char in enumerate(vocab) }\n",
    "print(char2idx)"
   ]
  },
  {
   "cell_type": "code",
   "execution_count": 6,
   "metadata": {},
   "outputs": [
    {
     "name": "stdout",
     "output_type": "stream",
     "text": [
      "['\\n' ' ' '!' '$' '&' \"'\" ',' '-' '.' '3' ':' ';' '?' 'A' 'B' 'C' 'D' 'E'\n",
      " 'F' 'G' 'H' 'I' 'J' 'K' 'L' 'M' 'N' 'O' 'P' 'Q' 'R' 'S' 'T' 'U' 'V' 'W'\n",
      " 'X' 'Y' 'Z' 'a' 'b' 'c' 'd' 'e' 'f' 'g' 'h' 'i' 'j' 'k' 'l' 'm' 'n' 'o'\n",
      " 'p' 'q' 'r' 's' 't' 'u' 'v' 'w' 'x' 'y' 'z']\n"
     ]
    }
   ],
   "source": [
    "idx2char = np.array(vocab)\n",
    "print(idx2char)"
   ]
  },
  {
   "cell_type": "markdown",
   "metadata": {},
   "source": [
    "#### 3. data => id data"
   ]
  },
  {
   "cell_type": "code",
   "execution_count": 7,
   "metadata": {},
   "outputs": [
    {
     "name": "stdout",
     "output_type": "stream",
     "text": [
      "[18 47 56 57 58  1 15 47 58 47 64 43 52 10  0 14 43 44 53 56 43  1 61 43\n",
      "  1 54 56 53 41 43 43 42  1 39 52 63  1 44 59 56 58 46 43 56  6  1 46 43\n",
      " 39 56  1 51 43  1 57 54 43 39 49  8  0  0 13 50 50 10  0 31 54 43 39 49\n",
      "  6  1 57 54 43 39 49  8  0  0 18 47 56 57 58  1 15 47 58 47 64 43 52 10\n",
      "  0 37 53 59]\n"
     ]
    }
   ],
   "source": [
    "text_as_int = np.array([char2idx[c] for c in text])\n",
    "print(text_as_int[0:100])"
   ]
  },
  {
   "cell_type": "markdown",
   "metadata": {},
   "source": [
    "#### 4. make dataset"
   ]
  },
  {
   "cell_type": "code",
   "execution_count": 8,
   "metadata": {},
   "outputs": [
    {
     "name": "stdout",
     "output_type": "stream",
     "text": [
      "tf.Tensor(18, shape=(), dtype=int32) F\n",
      "tf.Tensor(47, shape=(), dtype=int32) i\n",
      "tf.Tensor(\n",
      "[18 47 56 57 58  1 15 47 58 47 64 43 52 10  0 14 43 44 53 56 43  1 61 43\n",
      "  1 54 56 53 41 43 43 42  1 39 52 63  1 44 59 56 58 46 43 56  6  1 46 43\n",
      " 39 56  1 51 43  1 57 54 43 39 49  8  0  0 13 50 50 10  0 31 54 43 39 49\n",
      "  6  1 57 54 43 39 49  8  0  0 18 47 56 57 58  1 15 47 58 47 64 43 52 10\n",
      "  0 37 53 59  1], shape=(101,), dtype=int32)\n",
      "'First Citizen:\\nBefore we proceed any further, hear me speak.\\n\\nAll:\\nSpeak, speak.\\n\\nFirst Citizen:\\nYou '\n",
      "tf.Tensor(\n",
      "[39 56 43  1 39 50 50  1 56 43 57 53 50 60 43 42  1 56 39 58 46 43 56  1\n",
      " 58 53  1 42 47 43  1 58 46 39 52  1 58 53  1 44 39 51 47 57 46 12  0  0\n",
      " 13 50 50 10  0 30 43 57 53 50 60 43 42  8  1 56 43 57 53 50 60 43 42  8\n",
      "  0  0 18 47 56 57 58  1 15 47 58 47 64 43 52 10  0 18 47 56 57 58  6  1\n",
      " 63 53 59  1 49], shape=(101,), dtype=int32)\n",
      "'are all resolved rather to die than to famish?\\n\\nAll:\\nResolved. resolved.\\n\\nFirst Citizen:\\nFirst, you k'\n"
     ]
    }
   ],
   "source": [
    "# 样本抽取,用dataset的方式\n",
    "char_dataset = tf.data.Dataset.from_tensor_slices(text_as_int)\n",
    "seq_length = 100\n",
    "seq_dataset = char_dataset.batch(seq_length + 1, \n",
    "                                 drop_remainder = True)\n",
    "\n",
    "for ch_id in char_dataset.take(2):\n",
    "    print(ch_id, idx2char[ch_id.numpy()])\n",
    "\n",
    "for seq_id in seq_dataset.take(2):\n",
    "    print(seq_id)\n",
    "#     print(\"\".join(idx2char[seq_id.numpy()]))\n",
    "    print(repr(\"\".join(idx2char[seq_id.numpy()])))"
   ]
  },
  {
   "cell_type": "markdown",
   "metadata": {},
   "source": [
    "#### 5. dataset中的每个batch(0:100) 拆分成（0：99）和（1：100）"
   ]
  },
  {
   "cell_type": "code",
   "execution_count": 9,
   "metadata": {},
   "outputs": [],
   "source": [
    "# 把字符集分配成输入和输出，作为训练样本\n",
    "def split_input_target(id_text):\n",
    "    \"\"\"\n",
    "    abcde -> abcd,bcde\n",
    "    \"\"\"\n",
    "    return id_text[0:-1], id_text[1:]\n"
   ]
  },
  {
   "cell_type": "code",
   "execution_count": 10,
   "metadata": {},
   "outputs": [
    {
     "name": "stdout",
     "output_type": "stream",
     "text": [
      "[18 47 56 57 58  1 15 47 58 47 64 43 52 10  0 14 43 44 53 56 43  1 61 43\n",
      "  1 54 56 53 41 43 43 42  1 39 52 63  1 44 59 56 58 46 43 56  6  1 46 43\n",
      " 39 56  1 51 43  1 57 54 43 39 49  8  0  0 13 50 50 10  0 31 54 43 39 49\n",
      "  6  1 57 54 43 39 49  8  0  0 18 47 56 57 58  1 15 47 58 47 64 43 52 10\n",
      "  0 37 53 59]\n",
      "[47 56 57 58  1 15 47 58 47 64 43 52 10  0 14 43 44 53 56 43  1 61 43  1\n",
      " 54 56 53 41 43 43 42  1 39 52 63  1 44 59 56 58 46 43 56  6  1 46 43 39\n",
      " 56  1 51 43  1 57 54 43 39 49  8  0  0 13 50 50 10  0 31 54 43 39 49  6\n",
      "  1 57 54 43 39 49  8  0  0 18 47 56 57 58  1 15 47 58 47 64 43 52 10  0\n",
      " 37 53 59  1]\n",
      "[39 56 43  1 39 50 50  1 56 43 57 53 50 60 43 42  1 56 39 58 46 43 56  1\n",
      " 58 53  1 42 47 43  1 58 46 39 52  1 58 53  1 44 39 51 47 57 46 12  0  0\n",
      " 13 50 50 10  0 30 43 57 53 50 60 43 42  8  1 56 43 57 53 50 60 43 42  8\n",
      "  0  0 18 47 56 57 58  1 15 47 58 47 64 43 52 10  0 18 47 56 57 58  6  1\n",
      " 63 53 59  1]\n",
      "[56 43  1 39 50 50  1 56 43 57 53 50 60 43 42  1 56 39 58 46 43 56  1 58\n",
      " 53  1 42 47 43  1 58 46 39 52  1 58 53  1 44 39 51 47 57 46 12  0  0 13\n",
      " 50 50 10  0 30 43 57 53 50 60 43 42  8  1 56 43 57 53 50 60 43 42  8  0\n",
      "  0 18 47 56 57 58  1 15 47 58 47 64 43 52 10  0 18 47 56 57 58  6  1 63\n",
      " 53 59  1 49]\n"
     ]
    }
   ],
   "source": [
    "seq_dataset = seq_dataset.map(split_input_target)\n",
    "\n",
    "for item_input, item_output in seq_dataset.take(2):\n",
    "    print(item_input.numpy())\n",
    "    print(item_output.numpy())\n",
    "    "
   ]
  },
  {
   "cell_type": "markdown",
   "metadata": {},
   "source": [
    "#### 6. 模型建立"
   ]
  },
  {
   "cell_type": "code",
   "execution_count": 11,
   "metadata": {},
   "outputs": [],
   "source": [
    "batch_size = 64\n",
    "buffer_size = 10000\n",
    "\n",
    "seq_dataset = seq_dataset.shuffle(buffer_size).batch(\n",
    "    batch_size, drop_remainder = True\n",
    ")"
   ]
  },
  {
   "cell_type": "code",
   "execution_count": 12,
   "metadata": {},
   "outputs": [
    {
     "name": "stdout",
     "output_type": "stream",
     "text": [
      "First Citizen:\n",
      "Before we proceed any further, hear me speak.\n",
      "\n",
      "All:\n",
      "Speak, speak.\n",
      "\n",
      "First Citizen:\n",
      "You\n",
      "Model: \"sequential\"\n",
      "_________________________________________________________________\n",
      "Layer (type)                 Output Shape              Param #   \n",
      "=================================================================\n",
      "embedding (Embedding)        (64, None, 256)           16640     \n",
      "_________________________________________________________________\n",
      "simple_rnn (SimpleRNN)       (64, None, 1024)          1311744   \n",
      "_________________________________________________________________\n",
      "dense (Dense)                (64, None, 65)            66625     \n",
      "=================================================================\n",
      "Total params: 1,395,009\n",
      "Trainable params: 1,395,009\n",
      "Non-trainable params: 0\n",
      "_________________________________________________________________\n"
     ]
    }
   ],
   "source": [
    "print(text[0:100])\n",
    "vocab_size = len(vocab)\n",
    "embedding_dim = 256\n",
    "rnn_units = 1024\n",
    "\n",
    "def build_model(vocab_size, embedding_dim, rnn_units, batch_size):\n",
    "    model = keras.models.Sequential([\n",
    "        keras.layers.Embedding(vocab_size, embedding_dim, \n",
    "                               batch_input_shape=[batch_size, None]),\n",
    "        keras.layers.SimpleRNN(units = rnn_units,\n",
    "                               return_sequences = True),\n",
    "        keras.layers.Dense(vocab_size)\n",
    "    ])\n",
    "    return model\n",
    "model = build_model( vocab_size = vocab_size,\n",
    "                     embedding_dim = embedding_dim,\n",
    "                     rnn_units = rnn_units,\n",
    "                     batch_size = batch_size)\n",
    "\n",
    "model.summary()"
   ]
  },
  {
   "cell_type": "markdown",
   "metadata": {},
   "source": [
    "#### 7. 模型未经过训练，但可以用模型去做预测（把model当函数来用）"
   ]
  },
  {
   "cell_type": "code",
   "execution_count": 13,
   "metadata": {},
   "outputs": [
    {
     "name": "stdout",
     "output_type": "stream",
     "text": [
      "(64, 100, 65)\n"
     ]
    }
   ],
   "source": [
    "for input_example_batch, target_example_batch in seq_dataset.take(1):\n",
    "    example_batch_predictions = model(input_example_batch)\n",
    "    print(example_batch_predictions.shape)"
   ]
  },
  {
   "cell_type": "code",
   "execution_count": 14,
   "metadata": {},
   "outputs": [
    {
     "name": "stdout",
     "output_type": "stream",
     "text": [
      "tf.Tensor(\n",
      "[[36]\n",
      " [35]\n",
      " [ 5]\n",
      " [40]\n",
      " [58]\n",
      " [60]\n",
      " [ 1]\n",
      " [ 4]\n",
      " [30]\n",
      " [16]\n",
      " [64]\n",
      " [20]\n",
      " [36]\n",
      " [18]\n",
      " [44]\n",
      " [32]\n",
      " [11]\n",
      " [23]\n",
      " [38]\n",
      " [51]\n",
      " [ 5]\n",
      " [ 4]\n",
      " [57]\n",
      " [10]\n",
      " [60]\n",
      " [29]\n",
      " [34]\n",
      " [53]\n",
      " [41]\n",
      " [46]\n",
      " [23]\n",
      " [ 4]\n",
      " [ 8]\n",
      " [48]\n",
      " [37]\n",
      " [14]\n",
      " [ 9]\n",
      " [40]\n",
      " [59]\n",
      " [34]\n",
      " [42]\n",
      " [26]\n",
      " [10]\n",
      " [ 3]\n",
      " [33]\n",
      " [62]\n",
      " [45]\n",
      " [60]\n",
      " [36]\n",
      " [39]\n",
      " [34]\n",
      " [39]\n",
      " [23]\n",
      " [60]\n",
      " [50]\n",
      " [47]\n",
      " [50]\n",
      " [ 9]\n",
      " [44]\n",
      " [36]\n",
      " [18]\n",
      " [45]\n",
      " [22]\n",
      " [49]\n",
      " [22]\n",
      " [51]\n",
      " [46]\n",
      " [59]\n",
      " [33]\n",
      " [47]\n",
      " [63]\n",
      " [ 5]\n",
      " [33]\n",
      " [22]\n",
      " [24]\n",
      " [38]\n",
      " [52]\n",
      " [32]\n",
      " [36]\n",
      " [52]\n",
      " [10]\n",
      " [27]\n",
      " [23]\n",
      " [61]\n",
      " [63]\n",
      " [20]\n",
      " [27]\n",
      " [53]\n",
      " [17]\n",
      " [61]\n",
      " [12]\n",
      " [23]\n",
      " [18]\n",
      " [16]\n",
      " [56]\n",
      " [62]\n",
      " [52]\n",
      " [39]\n",
      " [31]\n",
      " [60]], shape=(100, 1), dtype=int64)\n",
      "tf.Tensor(\n",
      "[36 35  5 40 58 60  1  4 30 16 64 20 36 18 44 32 11 23 38 51  5  4 57 10\n",
      " 60 29 34 53 41 46 23  4  8 48 37 14  9 40 59 34 42 26 10  3 33 62 45 60\n",
      " 36 39 34 39 23 60 50 47 50  9 44 36 18 45 22 49 22 51 46 59 33 47 63  5\n",
      " 33 22 24 38 52 32 36 52 10 27 23 61 63 20 27 53 17 61 12 23 18 16 56 62\n",
      " 52 39 31 60], shape=(100,), dtype=int64)\n"
     ]
    }
   ],
   "source": [
    "# 随机采样 random sampling\n",
    "# greedy/ random 不同策略，无好坏之分\n",
    "# 模型最后一层没有激活函数，所以是logits\n",
    "# logits 是对于分类任务来说，在计算softmax之前的值\n",
    "\n",
    "sample_indics = tf.random.categorical( \n",
    "    logits = example_batch_predictions[0],\n",
    "    num_samples = 1,\n",
    "    dtype=None,\n",
    "    seed=None,\n",
    "    name=None)\n",
    "print(sample_indics)\n",
    "\n",
    "# example_batch_predictions[0].shape -> (100,65)\n",
    "# -> (100, 1) \n",
    "\n",
    "# 去掉squeeze维度\n",
    "sample_indics = tf.squeeze(sample_indics, axis = -1)\n",
    "print(sample_indics)"
   ]
  },
  {
   "cell_type": "code",
   "execution_count": 15,
   "metadata": {},
   "outputs": [
    {
     "name": "stdout",
     "output_type": "stream",
     "text": [
      "input: 'er to bring it thee,\\nSo fearful were they of infection.\\n\\nFRIAR LAURENCE:\\nUnhappy fortune! by my brot'\n",
      "\n",
      "output: 'r to bring it thee,\\nSo fearful were they of infection.\\n\\nFRIAR LAURENCE:\\nUnhappy fortune! by my broth'\n",
      "\n",
      "prediction: \"XW'btv &RDzHXFfT;KZm'&s:vQVochK&.jYB3buVdN:$UxgvXaVaKvlil3fXFgJkJmhuUiy'UJLZnTXn:OKwyHOoEw?KFDrxnaSv\"\n"
     ]
    }
   ],
   "source": [
    "print(\"input:\", repr(\"\".join(idx2char[input_example_batch[0]])))\n",
    "print()\n",
    "print(\"output:\", repr(\"\".join(idx2char[target_example_batch[0]])))\n",
    "print()\n",
    "print(\"prediction:\", repr(\"\".join(idx2char[sample_indics])))"
   ]
  },
  {
   "cell_type": "code",
   "execution_count": 16,
   "metadata": {},
   "outputs": [
    {
     "name": "stdout",
     "output_type": "stream",
     "text": [
      "(64, 100)\n",
      "4.1892185\n"
     ]
    }
   ],
   "source": [
    "def loss(labels, logits):\n",
    "    return keras.losses.sparse_categorical_crossentropy(labels, \n",
    "                                                      logits, \n",
    "                                                      from_logits = True)\n",
    "\n",
    "model.compile(optimizer = \"adam\", loss = loss)\n",
    "example_loss = loss(target_example_batch, example_batch_predictions)\n",
    "print(example_loss.shape)\n",
    "print(example_loss.numpy().mean())"
   ]
  },
  {
   "cell_type": "markdown",
   "metadata": {},
   "source": [
    "#### 8. 模型训练"
   ]
  },
  {
   "cell_type": "code",
   "execution_count": 17,
   "metadata": {},
   "outputs": [
    {
     "name": "stdout",
     "output_type": "stream",
     "text": [
      "Epoch 1/100\n",
      "172/172 [==============================] - 101s 584ms/step - loss: 2.7536\n",
      "Epoch 2/100\n",
      "172/172 [==============================] - 101s 586ms/step - loss: 2.0734\n",
      "Epoch 3/100\n",
      "172/172 [==============================] - 100s 583ms/step - loss: 1.8419\n",
      "Epoch 4/100\n",
      "172/172 [==============================] - 100s 581ms/step - loss: 1.6963\n",
      "Epoch 5/100\n",
      "172/172 [==============================] - 101s 588ms/step - loss: 1.6006\n",
      "Epoch 6/100\n",
      "172/172 [==============================] - 100s 584ms/step - loss: 1.5328\n",
      "Epoch 7/100\n",
      "172/172 [==============================] - 100s 580ms/step - loss: 1.4827\n",
      "Epoch 8/100\n",
      "172/172 [==============================] - 101s 585ms/step - loss: 1.4435\n",
      "Epoch 9/100\n",
      "172/172 [==============================] - 101s 589ms/step - loss: 1.4114\n",
      "Epoch 10/100\n",
      "172/172 [==============================] - 101s 590ms/step - loss: 1.3836\n",
      "Epoch 11/100\n",
      "172/172 [==============================] - 102s 592ms/step - loss: 1.3611\n",
      "Epoch 12/100\n",
      "172/172 [==============================] - 101s 589ms/step - loss: 1.3442\n",
      "Epoch 13/100\n",
      "172/172 [==============================] - 101s 586ms/step - loss: 1.3247\n",
      "Epoch 14/100\n",
      "172/172 [==============================] - 100s 583ms/step - loss: 1.3102\n",
      "Epoch 15/100\n",
      "172/172 [==============================] - 100s 583ms/step - loss: 1.3003\n",
      "Epoch 16/100\n",
      "172/172 [==============================] - 100s 583ms/step - loss: 1.2883\n",
      "Epoch 17/100\n",
      "172/172 [==============================] - 101s 585ms/step - loss: 1.2779\n",
      "Epoch 18/100\n",
      "172/172 [==============================] - 101s 586ms/step - loss: 1.2663\n",
      "Epoch 19/100\n",
      "172/172 [==============================] - 101s 586ms/step - loss: 1.2577\n",
      "Epoch 20/100\n",
      "172/172 [==============================] - 100s 583ms/step - loss: 1.2500\n",
      "Epoch 21/100\n",
      "172/172 [==============================] - 101s 586ms/step - loss: 1.2407\n",
      "Epoch 22/100\n",
      "172/172 [==============================] - 100s 582ms/step - loss: 1.2322\n",
      "Epoch 23/100\n",
      "172/172 [==============================] - 100s 583ms/step - loss: 1.2311\n",
      "Epoch 24/100\n",
      "172/172 [==============================] - 101s 586ms/step - loss: 1.2304\n",
      "Epoch 25/100\n",
      "172/172 [==============================] - 100s 583ms/step - loss: 1.2224\n",
      "Epoch 26/100\n",
      "172/172 [==============================] - 100s 579ms/step - loss: 1.2168\n",
      "Epoch 27/100\n",
      "172/172 [==============================] - 99s 578ms/step - loss: 1.2115\n",
      "Epoch 28/100\n",
      "172/172 [==============================] - 100s 580ms/step - loss: 1.2057\n",
      "Epoch 29/100\n",
      "172/172 [==============================] - 100s 580ms/step - loss: 1.2021\n",
      "Epoch 30/100\n",
      "172/172 [==============================] - 100s 581ms/step - loss: 1.1990\n",
      "Epoch 31/100\n",
      "172/172 [==============================] - 100s 582ms/step - loss: 1.1950\n",
      "Epoch 32/100\n",
      "172/172 [==============================] - 100s 579ms/step - loss: 1.1954\n",
      "Epoch 33/100\n",
      "172/172 [==============================] - 100s 583ms/step - loss: 1.1930\n",
      "Epoch 34/100\n",
      "172/172 [==============================] - 100s 584ms/step - loss: 1.1864\n",
      "Epoch 35/100\n",
      "172/172 [==============================] - 100s 580ms/step - loss: 1.1823\n",
      "Epoch 36/100\n",
      "172/172 [==============================] - 100s 580ms/step - loss: 1.1798\n",
      "Epoch 37/100\n",
      "172/172 [==============================] - 100s 584ms/step - loss: 1.1765\n",
      "Epoch 38/100\n",
      "172/172 [==============================] - 100s 583ms/step - loss: 1.1690\n",
      "Epoch 39/100\n",
      "172/172 [==============================] - 101s 586ms/step - loss: 1.1648\n",
      "Epoch 40/100\n",
      "172/172 [==============================] - 100s 584ms/step - loss: 1.1604\n",
      "Epoch 41/100\n",
      "172/172 [==============================] - 100s 581ms/step - loss: 1.1588\n",
      "Epoch 42/100\n",
      "172/172 [==============================] - 100s 583ms/step - loss: 1.1594\n",
      "Epoch 43/100\n",
      "172/172 [==============================] - 99s 577ms/step - loss: 1.1609\n",
      "Epoch 44/100\n",
      "172/172 [==============================] - 99s 578ms/step - loss: 1.1563\n",
      "Epoch 45/100\n",
      "172/172 [==============================] - 100s 581ms/step - loss: 1.1519\n",
      "Epoch 46/100\n",
      "172/172 [==============================] - 100s 582ms/step - loss: 1.1511\n",
      "Epoch 47/100\n",
      "172/172 [==============================] - 100s 583ms/step - loss: 1.1490\n",
      "Epoch 48/100\n",
      "172/172 [==============================] - 101s 584ms/step - loss: 1.1460\n",
      "Epoch 49/100\n",
      "172/172 [==============================] - 100s 582ms/step - loss: 1.1471\n",
      "Epoch 50/100\n",
      "172/172 [==============================] - 100s 583ms/step - loss: 1.1453\n",
      "Epoch 51/100\n",
      "172/172 [==============================] - 101s 586ms/step - loss: 1.1436\n",
      "Epoch 52/100\n",
      "172/172 [==============================] - 100s 581ms/step - loss: 1.1413\n",
      "Epoch 53/100\n",
      "172/172 [==============================] - 100s 584ms/step - loss: 1.1397\n",
      "Epoch 54/100\n",
      "172/172 [==============================] - 100s 579ms/step - loss: 1.1386\n",
      "Epoch 55/100\n",
      "172/172 [==============================] - 101s 585ms/step - loss: 1.1363\n",
      "Epoch 56/100\n",
      "172/172 [==============================] - 101s 584ms/step - loss: 1.1340\n",
      "Epoch 57/100\n",
      "172/172 [==============================] - 100s 584ms/step - loss: 1.1301\n",
      "Epoch 58/100\n",
      "172/172 [==============================] - 100s 579ms/step - loss: 1.1303\n",
      "Epoch 59/100\n",
      "172/172 [==============================] - 99s 577ms/step - loss: 1.1290\n",
      "Epoch 60/100\n",
      "172/172 [==============================] - 99s 578ms/step - loss: 1.1327\n",
      "Epoch 61/100\n",
      "172/172 [==============================] - 100s 584ms/step - loss: 1.1329\n",
      "Epoch 62/100\n",
      "172/172 [==============================] - 101s 588ms/step - loss: 1.1305\n",
      "Epoch 63/100\n",
      "172/172 [==============================] - 100s 582ms/step - loss: 1.1301\n",
      "Epoch 64/100\n",
      "172/172 [==============================] - 100s 580ms/step - loss: 1.1326\n",
      "Epoch 65/100\n",
      "172/172 [==============================] - 100s 582ms/step - loss: 1.1371\n",
      "Epoch 66/100\n",
      "172/172 [==============================] - 101s 586ms/step - loss: 1.1348\n",
      "Epoch 67/100\n",
      "172/172 [==============================] - 100s 581ms/step - loss: 1.1353\n",
      "Epoch 68/100\n",
      "172/172 [==============================] - 99s 577ms/step - loss: 1.1348\n",
      "Epoch 69/100\n",
      "172/172 [==============================] - 100s 580ms/step - loss: 1.1376\n",
      "Epoch 70/100\n",
      "172/172 [==============================] - 101s 588ms/step - loss: 1.1380\n",
      "Epoch 71/100\n",
      "172/172 [==============================] - 100s 583ms/step - loss: 1.1455\n",
      "Epoch 72/100\n",
      "172/172 [==============================] - 101s 586ms/step - loss: 1.1405\n",
      "Epoch 73/100\n",
      "172/172 [==============================] - 102s 593ms/step - loss: 1.1451\n",
      "Epoch 74/100\n",
      "172/172 [==============================] - 102s 592ms/step - loss: 1.1481\n",
      "Epoch 75/100\n",
      "172/172 [==============================] - 100s 583ms/step - loss: 1.1436\n",
      "Epoch 76/100\n",
      "172/172 [==============================] - 100s 583ms/step - loss: 1.1441\n",
      "Epoch 77/100\n",
      "172/172 [==============================] - 101s 586ms/step - loss: 1.1476\n",
      "Epoch 78/100\n",
      "172/172 [==============================] - 101s 585ms/step - loss: 1.1520\n",
      "Epoch 79/100\n",
      "172/172 [==============================] - 101s 585ms/step - loss: 1.1539\n",
      "Epoch 80/100\n",
      "172/172 [==============================] - 100s 582ms/step - loss: 1.1552\n",
      "Epoch 81/100\n",
      "172/172 [==============================] - 100s 584ms/step - loss: 1.1585\n",
      "Epoch 82/100\n",
      "172/172 [==============================] - 100s 584ms/step - loss: 1.1588\n",
      "Epoch 83/100\n",
      "172/172 [==============================] - 100s 581ms/step - loss: 1.1639\n",
      "Epoch 84/100\n",
      "172/172 [==============================] - 101s 587ms/step - loss: 1.1658\n",
      "Epoch 85/100\n",
      "172/172 [==============================] - 101s 588ms/step - loss: 1.1662\n",
      "Epoch 86/100\n",
      "172/172 [==============================] - 101s 586ms/step - loss: 1.1705\n",
      "Epoch 87/100\n",
      "172/172 [==============================] - 100s 583ms/step - loss: 1.1727\n",
      "Epoch 88/100\n",
      "172/172 [==============================] - 100s 582ms/step - loss: 1.1759\n",
      "Epoch 89/100\n",
      "172/172 [==============================] - 99s 575ms/step - loss: 1.1820\n",
      "Epoch 90/100\n",
      "172/172 [==============================] - 100s 579ms/step - loss: 1.1970\n",
      "Epoch 91/100\n",
      "172/172 [==============================] - 100s 582ms/step - loss: 1.1893\n",
      "Epoch 92/100\n",
      "172/172 [==============================] - 100s 583ms/step - loss: 1.1863\n",
      "Epoch 93/100\n",
      "172/172 [==============================] - 100s 582ms/step - loss: 1.1867\n",
      "Epoch 94/100\n",
      "172/172 [==============================] - 99s 578ms/step - loss: 1.1921\n",
      "Epoch 95/100\n"
     ]
    },
    {
     "name": "stdout",
     "output_type": "stream",
     "text": [
      "172/172 [==============================] - 100s 581ms/step - loss: 1.1976\n",
      "Epoch 96/100\n",
      "172/172 [==============================] - 98s 572ms/step - loss: 1.1937\n",
      "Epoch 97/100\n",
      "172/172 [==============================] - 100s 579ms/step - loss: 1.1997\n",
      "Epoch 98/100\n",
      "172/172 [==============================] - 99s 575ms/step - loss: 1.2048\n",
      "Epoch 99/100\n",
      "172/172 [==============================] - 99s 575ms/step - loss: 1.2053\n",
      "Epoch 100/100\n",
      "172/172 [==============================] - 99s 576ms/step - loss: 1.2089\n"
     ]
    }
   ],
   "source": [
    "output_dir = \"./text_generation_checkpoints\"\n",
    "if not os.path.exists(output_dir):\n",
    "    os.mkdir(output_dir)\n",
    "checkpoint_prefix = os.path.join(output_dir, \"ckpt_{epoch}\")\n",
    "checkpoint_callback = keras.callbacks.ModelCheckpoint(\n",
    "    filepath = checkpoint_prefix,\n",
    "#     monitor='val_loss',\n",
    "#     verbose=0,\n",
    "#     save_best_only=False,\n",
    "    save_weights_only=True,\n",
    "#     mode='auto',\n",
    "#     save_freq='epoch',\n",
    "#     load_weights_on_restart=False\n",
    ")\n",
    "\n",
    "epochs = 100\n",
    "\n",
    "history = model.fit(seq_dataset, epochs = epochs,\n",
    "                   callbacks= [checkpoint_callback])"
   ]
  },
  {
   "cell_type": "markdown",
   "metadata": {},
   "source": [
    "#### 9. 重载模型（利用checkpoint）"
   ]
  },
  {
   "cell_type": "code",
   "execution_count": 18,
   "metadata": {},
   "outputs": [
    {
     "data": {
      "text/plain": [
       "'./text_generation_checkpoints\\\\ckpt_100'"
      ]
     },
     "execution_count": 18,
     "metadata": {},
     "output_type": "execute_result"
    }
   ],
   "source": [
    "tf.train.latest_checkpoint(output_dir)"
   ]
  },
  {
   "cell_type": "code",
   "execution_count": 19,
   "metadata": {},
   "outputs": [
    {
     "name": "stdout",
     "output_type": "stream",
     "text": [
      "Model: \"sequential_1\"\n",
      "_________________________________________________________________\n",
      "Layer (type)                 Output Shape              Param #   \n",
      "=================================================================\n",
      "embedding_1 (Embedding)      (1, None, 256)            16640     \n",
      "_________________________________________________________________\n",
      "simple_rnn_1 (SimpleRNN)     (1, None, 1024)           1311744   \n",
      "_________________________________________________________________\n",
      "dense_1 (Dense)              (1, None, 65)             66625     \n",
      "=================================================================\n",
      "Total params: 1,395,009\n",
      "Trainable params: 1,395,009\n",
      "Non-trainable params: 0\n",
      "_________________________________________________________________\n"
     ]
    }
   ],
   "source": [
    "model2 = build_model(vocab_size = vocab_size,\n",
    "                     embedding_dim = embedding_dim,\n",
    "                     rnn_units = rnn_units,\n",
    "                     batch_size = 1)\n",
    "model2.load_weights(tf.train.latest_checkpoint(output_dir))\n",
    "model2.build(tf.TensorShape([1,None]))\n",
    "\n",
    "# start ch sequence A,\n",
    "# A -> model -> b\n",
    "# A.append(b) -> B\n",
    "# B -> model-> c\n",
    "# B.append(c) -> C\n",
    "model2.summary()\n"
   ]
  },
  {
   "cell_type": "code",
   "execution_count": 20,
   "metadata": {},
   "outputs": [
    {
     "name": "stdout",
     "output_type": "stream",
     "text": [
      "All: frore JUSe f h cupll h hougrre.\n",
      "\n",
      "\n",
      "DY:\n",
      "Fo st lof iesal t re:\n",
      "Ayo ownd s g!---\n",
      "Th tht th oue s ang s cesing f m, thand.\n",
      "CHey,\n",
      "my\n",
      "Thoumerind thout, gochyofukixtomooth,\n",
      "An o has\n",
      "wanou an out w t VI nd d.\n",
      "V:\n",
      "Anikngous thowhait\n",
      "LULI t t?\n",
      "Se wathore thon rmusise\n",
      "Wh onyof to d s aveakispok f wantonithandesa--th:\n",
      "IIIN:\n",
      "Weyesiceainentore arore?\n",
      "Adit w,\n",
      "Why mathe y mive, oupe inelir ie f ce ngesthillitowngempra-g; o,\n",
      "AMN tr y\n",
      "O:\n",
      "\n",
      "CAss y ansent and tut, dd tonditime ussse,\n",
      "blandisorowaveree, fothodove sunove twang atou a fughofildotth!\n",
      "\n",
      "\n",
      "Chy ddle O:\n",
      "\n",
      "WhINUSchethth angamy g h, Whothave, ougll bove ug? e, are chithinckers oke ' Mat t.\n",
      "TExf ne,\n",
      "Soriton theas,\n",
      "SII ys acat, f and th sead uprmenorthy wfront d ag,\n",
      "MO-\n",
      "\n",
      "\n",
      "\n",
      "I'd brise,\n",
      "To th y'\n",
      "tithad mod t t, jupe ngs! o, s, INEldetl?\n",
      "TA thow maty bavew;\n",
      "S:\n",
      "Mat nd l. iamy, merase:\n",
      "ELLELLLOMyowal anopag ime wnounane t, y. g,\n",
      "Ataitthere n. bereear f bare, orore\n",
      "\n",
      "\n",
      "Hinollos athast, tl e ce! I tonilire a y'st.\n",
      "Tofey moren,\n",
      "\n",
      "Awnesupppl tix d INA: mewobreshe intl'\n"
     ]
    }
   ],
   "source": [
    "def generate_text(model,start_string, num_generate = 1000):\n",
    "    input_eval = [char2idx[ch] for ch in start_string]\n",
    "    input_eval= tf.expand_dims(input_eval, 0)\n",
    "    \n",
    "    text_generated = []\n",
    "    model.reset_states()\n",
    "    for _ in range(num_generate):\n",
    "        # 1.model inference ->predictions\n",
    "        # 2.sample\n",
    "        # 3.update input_eval\n",
    "        \n",
    "        # predictions : [batch_size, input_eval_len, vocab_size]\n",
    "        predictions = model(input_eval)\n",
    "        # predictions : [input_eval_len, vocab_size]   消掉batch_size的维度\n",
    "        predictions = tf.squeeze(predictions, 0)\n",
    "        # predicetd_ids : [input_eval_len, 1]\n",
    "        # a b c -> b c d ,只用最后一个 predicetd_ids 就是d\n",
    "        predicted_id = tf.random.categorical(\n",
    "            predictions, num_samples = 1\n",
    "        )[-1,0].numpy()\n",
    "        text_generated.append(idx2char[predicted_id])\n",
    "        # 为什么不在input_eval后面添加predicted_id，而是直接替换  => 为了防止低效\n",
    "        # s, x -> rnn -> s', y  \n",
    "        input_eval = tf.expand_dims([predicted_id],0)\n",
    "    return start_string + \"\".join(text_generated)\n",
    "new_text = generate_text(model2, \"All: \")\n",
    "print(new_text)"
   ]
  },
  {
   "cell_type": "code",
   "execution_count": null,
   "metadata": {},
   "outputs": [],
   "source": []
  },
  {
   "cell_type": "code",
   "execution_count": null,
   "metadata": {},
   "outputs": [],
   "source": []
  },
  {
   "cell_type": "code",
   "execution_count": null,
   "metadata": {},
   "outputs": [],
   "source": []
  },
  {
   "cell_type": "code",
   "execution_count": null,
   "metadata": {},
   "outputs": [],
   "source": []
  }
 ],
 "metadata": {
  "kernelspec": {
   "display_name": "Python 3",
   "language": "python",
   "name": "python3"
  },
  "language_info": {
   "codemirror_mode": {
    "name": "ipython",
    "version": 3
   },
   "file_extension": ".py",
   "mimetype": "text/x-python",
   "name": "python",
   "nbconvert_exporter": "python",
   "pygments_lexer": "ipython3",
   "version": "3.6.7"
  }
 },
 "nbformat": 4,
 "nbformat_minor": 2
}

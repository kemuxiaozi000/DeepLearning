{
 "cells": [
  {
   "cell_type": "code",
   "execution_count": 1,
   "metadata": {},
   "outputs": [
    {
     "name": "stdout",
     "output_type": "stream",
     "text": [
      "2.0.0-beta1\n",
      "sys.version_info(major=3, minor=6, micro=7, releaselevel='final', serial=0)\n",
      "matplotlib 3.1.2\n",
      "numpy 1.16.2\n",
      "pandas 0.25.3\n",
      "sklearn 0.22\n",
      "tensorflow 2.0.0-beta1\n",
      "tensorflow.python.keras.api._v2.keras 2.2.4-tf\n"
     ]
    }
   ],
   "source": [
    "import matplotlib as mpl\n",
    "import matplotlib.pyplot as plt\n",
    "%matplotlib inline\n",
    "import numpy as np\n",
    "import sklearn\n",
    "import pandas as pd\n",
    "import os\n",
    "import sys\n",
    "import time\n",
    "import tensorflow as tf\n",
    "\n",
    "from tensorflow import keras\n",
    "\n",
    "print(tf.__version__)\n",
    "print(sys.version_info)\n",
    "for module in mpl, np, pd, sklearn, tf, keras:\n",
    "    print(module.__name__, module.__version__)\n"
   ]
  },
  {
   "cell_type": "code",
   "execution_count": 2,
   "metadata": {},
   "outputs": [
    {
     "name": "stdout",
     "output_type": "stream",
     "text": [
      "1\n"
     ]
    }
   ],
   "source": [
    "tf.debugging.set_log_device_placement(True)\n",
    "gpus = tf.config.experimental.list_physical_devices(\"GPU\")\n",
    "# tf.config.experimental.set_virtual_device_configuration(\n",
    "#     gpus[0],\n",
    "#     [tf.config.experimental.VirtualDeviceConfiguration(memory_limit=1024),\n",
    "#      tf.config.experimental.VirtualDeviceConfiguration(memory_limit=1024),\n",
    "#      tf.config.experimental.VirtualDeviceConfiguration(memory_limit=1024),\n",
    "#      tf.config.experimental.VirtualDeviceConfiguration(memory_limit=1024)]\n",
    "# )\n",
    "\n",
    "# logical_gpus = tf.config.experimental.list_logical_devices(\"GPU\")\n",
    "# print(len(logical_gpus))\n",
    "# tf.config.experimental.set_visible_devices(logical_gpus[0], \"GPU\")\n",
    "for gpu in gpus:\n",
    "    tf.config.experimental.set_memory_growth(gpu,True)\n",
    "logical_gpus = tf.config.experimental.list_logical_devices(\"GPU\")\n",
    "print(len(logical_gpus))"
   ]
  },
  {
   "cell_type": "code",
   "execution_count": 3,
   "metadata": {},
   "outputs": [
    {
     "name": "stdout",
     "output_type": "stream",
     "text": [
      "(5000, 28, 28) (5000,)\n",
      "(55000, 28, 28) (55000,)\n",
      "(10000, 28, 28) (10000,)\n"
     ]
    }
   ],
   "source": [
    "fashion_mnist = keras.datasets.fashion_mnist\n",
    "(x_train_all, y_train_all), (x_test, y_test) = fashion_mnist.load_data()\n",
    "x_valid, x_train = x_train_all[:5000], x_train_all[5000:]\n",
    "y_valid, y_train = y_train_all[:5000], y_train_all[5000:]\n",
    "\n",
    "print(x_valid.shape, y_valid.shape)\n",
    "print(x_train.shape, y_train.shape)\n",
    "print(x_test.shape, y_test.shape)"
   ]
  },
  {
   "cell_type": "code",
   "execution_count": 4,
   "metadata": {},
   "outputs": [],
   "source": [
    "from sklearn.preprocessing import StandardScaler\n",
    "\n",
    "scaler = StandardScaler()\n",
    "x_train_scaled = scaler.fit_transform(\n",
    "    x_train.astype(np.float32).reshape(-1, 1)).reshape(-1, 28, 28, 1)\n",
    "x_valid_scaled = scaler.transform(\n",
    "    x_valid.astype(np.float32).reshape(-1, 1)).reshape(-1, 28, 28, 1)\n",
    "x_test_scaled = scaler.transform(\n",
    "    x_test.astype(np.float32).reshape(-1, 1)).reshape(-1, 28, 28, 1)\n"
   ]
  },
  {
   "cell_type": "code",
   "execution_count": 5,
   "metadata": {},
   "outputs": [
    {
     "name": "stdout",
     "output_type": "stream",
     "text": [
      "Executing op TensorSliceDataset in device /job:localhost/replica:0/task:0/device:CPU:0\n",
      "Executing op ShuffleDataset in device /job:localhost/replica:0/task:0/device:CPU:0\n",
      "Executing op RepeatDataset in device /job:localhost/replica:0/task:0/device:CPU:0\n",
      "Executing op BatchDatasetV2 in device /job:localhost/replica:0/task:0/device:CPU:0\n",
      "Executing op PrefetchDataset in device /job:localhost/replica:0/task:0/device:CPU:0\n"
     ]
    }
   ],
   "source": [
    "def make_dataset(images, labels, epochs, batch_size,shuffle=True):\n",
    "    dataset = tf.data.Dataset.from_tensor_slices((images, labels))\n",
    "    if shuffle:\n",
    "        dataset = dataset.shuffle(10000)\n",
    "    dataset = dataset.repeat(epochs).batch(batch_size).prefetch(50)\n",
    "    return dataset\n",
    "\n",
    "batch_size = 256\n",
    "# epochs = 10\n",
    "epochs = 1\n",
    "train_dataset = make_dataset(x_train_scaled, y_train, epochs, batch_size)\n",
    "valid_dataset = make_dataset(x_valid_scaled, y_valid, epochs, batch_size)"
   ]
  },
  {
   "cell_type": "code",
   "execution_count": 6,
   "metadata": {},
   "outputs": [
    {
     "name": "stdout",
     "output_type": "stream",
     "text": [
      "Executing op RandomUniform in device /job:localhost/replica:0/task:0/device:GPU:0\n",
      "Executing op Sub in device /job:localhost/replica:0/task:0/device:GPU:0\n",
      "Executing op Mul in device /job:localhost/replica:0/task:0/device:GPU:0\n",
      "Executing op Add in device /job:localhost/replica:0/task:0/device:GPU:0\n",
      "Executing op VarHandleOp in device /job:localhost/replica:0/task:0/device:GPU:0\n",
      "Executing op VarIsInitializedOp in device /job:localhost/replica:0/task:0/device:GPU:0\n",
      "Executing op LogicalNot in device /job:localhost/replica:0/task:0/device:GPU:0\n",
      "Executing op Assert in device /job:localhost/replica:0/task:0/device:GPU:0\n",
      "Executing op AssignVariableOp in device /job:localhost/replica:0/task:0/device:GPU:0\n",
      "Executing op Fill in device /job:localhost/replica:0/task:0/device:GPU:0\n",
      "Executing op VarHandleOp in device /job:localhost/replica:0/task:0/device:GPU:0\n",
      "Executing op VarHandleOp in device /job:localhost/replica:0/task:0/device:GPU:0\n",
      "Executing op VarHandleOp in device /job:localhost/replica:0/task:0/device:GPU:0\n",
      "Executing op VarHandleOp in device /job:localhost/replica:0/task:0/device:GPU:0\n",
      "Executing op VarHandleOp in device /job:localhost/replica:0/task:0/device:GPU:0\n",
      "Executing op VarHandleOp in device /job:localhost/replica:0/task:0/device:GPU:0\n",
      "Executing op VarHandleOp in device /job:localhost/replica:0/task:0/device:GPU:0\n",
      "Executing op VarHandleOp in device /job:localhost/replica:0/task:0/device:GPU:0\n",
      "Executing op VarHandleOp in device /job:localhost/replica:0/task:0/device:GPU:0\n",
      "Executing op VarHandleOp in device /job:localhost/replica:0/task:0/device:GPU:0\n",
      "Executing op VarHandleOp in device /job:localhost/replica:0/task:0/device:GPU:0\n",
      "Executing op VarHandleOp in device /job:localhost/replica:0/task:0/device:GPU:0\n"
     ]
    }
   ],
   "source": [
    "model = keras.models.Sequential()\n",
    "model.add(keras.layers.Conv2D(filters=128, kernel_size=3,\n",
    "                              padding='same',\n",
    "                              activation='relu',\n",
    "                              input_shape=(28, 28, 1)))\n",
    "model.add(keras.layers.Conv2D(filters=128, kernel_size=3,\n",
    "                              padding='same',\n",
    "                              activation='relu'))\n",
    "model.add(keras.layers.MaxPool2D(pool_size=2))\n",
    "model.add(keras.layers.Conv2D(filters=256, kernel_size=3,\n",
    "                              padding='same',\n",
    "                              activation='relu'))\n",
    "model.add(keras.layers.Conv2D(filters=256, kernel_size=3,\n",
    "                              padding='same',\n",
    "                              activation='relu'))\n",
    "model.add(keras.layers.MaxPool2D(pool_size=2))\n",
    "model.add(keras.layers.Conv2D(filters=512, kernel_size=3,\n",
    "                              padding='same',\n",
    "                              activation='relu'))\n",
    "model.add(keras.layers.Conv2D(filters=512, kernel_size=3,\n",
    "                              padding='same',\n",
    "                              activation='relu'))\n",
    "model.add(keras.layers.MaxPool2D(pool_size=2))\n",
    "model.add(keras.layers.Flatten())\n",
    "model.add(keras.layers.Dense(512, activation='relu'))\n",
    "model.add(keras.layers.Dense(10, activation=\"softmax\"))\n",
    "\n",
    "model.compile(loss=\"sparse_categorical_crossentropy\",\n",
    "              optimizer = \"sgd\",\n",
    "              metrics = [\"accuracy\"])"
   ]
  },
  {
   "cell_type": "code",
   "execution_count": 7,
   "metadata": {},
   "outputs": [
    {
     "name": "stdout",
     "output_type": "stream",
     "text": [
      "Model: \"sequential\"\n",
      "_________________________________________________________________\n",
      "Layer (type)                 Output Shape              Param #   \n",
      "=================================================================\n",
      "conv2d (Conv2D)              (None, 28, 28, 128)       1280      \n",
      "_________________________________________________________________\n",
      "conv2d_1 (Conv2D)            (None, 28, 28, 128)       147584    \n",
      "_________________________________________________________________\n",
      "max_pooling2d (MaxPooling2D) (None, 14, 14, 128)       0         \n",
      "_________________________________________________________________\n",
      "conv2d_2 (Conv2D)            (None, 14, 14, 256)       295168    \n",
      "_________________________________________________________________\n",
      "conv2d_3 (Conv2D)            (None, 14, 14, 256)       590080    \n",
      "_________________________________________________________________\n",
      "max_pooling2d_1 (MaxPooling2 (None, 7, 7, 256)         0         \n",
      "_________________________________________________________________\n",
      "conv2d_4 (Conv2D)            (None, 7, 7, 512)         1180160   \n",
      "_________________________________________________________________\n",
      "conv2d_5 (Conv2D)            (None, 7, 7, 512)         2359808   \n",
      "_________________________________________________________________\n",
      "max_pooling2d_2 (MaxPooling2 (None, 3, 3, 512)         0         \n",
      "_________________________________________________________________\n",
      "flatten (Flatten)            (None, 4608)              0         \n",
      "_________________________________________________________________\n",
      "dense (Dense)                (None, 512)               2359808   \n",
      "_________________________________________________________________\n",
      "dense_1 (Dense)              (None, 10)                5130      \n",
      "=================================================================\n",
      "Total params: 6,939,018\n",
      "Trainable params: 6,939,018\n",
      "Non-trainable params: 0\n",
      "_________________________________________________________________\n"
     ]
    }
   ],
   "source": [
    "model.summary()"
   ]
  },
  {
   "cell_type": "code",
   "execution_count": 8,
   "metadata": {},
   "outputs": [],
   "source": [
    "# logdir = './cnn-selu-callbacks'\n",
    "# if not os.path.exists(logdir):\n",
    "#     os.mkdir(logdir)\n",
    "# output_model_file = os.path.join(logdir,\n",
    "#                                  \"fashion_mnist_model.h5\")\n",
    "\n",
    "# callbacks = [\n",
    "#     keras.callbacks.TensorBoard(logdir),\n",
    "#     keras.callbacks.ModelCheckpoint(output_model_file,\n",
    "#                                     save_best_only = True),\n",
    "#     keras.callbacks.EarlyStopping(patience=5, min_delta=1e-3),\n",
    "# ]\n",
    "# history = model.fit(x_train_scaled, y_train, epochs=10,\n",
    "#                     validation_data=(x_valid_scaled, y_valid),\n",
    "#                     callbacks = callbacks)\n",
    "# history = model.fit(train_dataset,\n",
    "#                     steps_per_epoch=x_train_scaled.shape[0] //batch_size, \n",
    "#                     epochs=10)"
   ]
  },
  {
   "cell_type": "markdown",
   "metadata": {},
   "source": [
    "### 实现自定义"
   ]
  },
  {
   "cell_type": "code",
   "execution_count": 21,
   "metadata": {},
   "outputs": [
    {
     "name": "stdout",
     "output_type": "stream",
     "text": [
      "WARNING:tensorflow:Entity <function train_step at 0x00000121432F8268> could not be transformed and will be executed as-is. Please report this to the AutoGraph team. When filing the bug, set the verbosity to 10 (on Linux, `export AUTOGRAPH_VERBOSITY=10`) and attach the full output. Cause: converting <function train_step at 0x00000121432F8268>: AssertionError: Bad argument number for Name: 3, expecting 4\n",
      "WARNING: Entity <function train_step at 0x00000121432F8268> could not be transformed and will be executed as-is. Please report this to the AutoGraph team. When filing the bug, set the verbosity to 10 (on Linux, `export AUTOGRAPH_VERBOSITY=10`) and attach the full output. Cause: converting <function train_step at 0x00000121432F8268>: AssertionError: Bad argument number for Name: 3, expecting 4\n",
      "Executing op VarHandleOp in device /job:localhost/replica:0/task:0/device:GPU:0\n",
      "Executing op VarHandleOp in device /job:localhost/replica:0/task:0/device:GPU:0\n",
      "Executing op VarHandleOp in device /job:localhost/replica:0/task:0/device:GPU:0\n",
      "Executing op VarHandleOp in device /job:localhost/replica:0/task:0/device:GPU:0\n",
      "WARNING:tensorflow:Entity <function Function._initialize_uninitialized_variables.<locals>.initialize_variables at 0x00000121432F8AE8> could not be transformed and will be executed as-is. Please report this to the AutoGraph team. When filing the bug, set the verbosity to 10 (on Linux, `export AUTOGRAPH_VERBOSITY=10`) and attach the full output. Cause: converting <function Function._initialize_uninitialized_variables.<locals>.initialize_variables at 0x00000121432F8AE8>: AttributeError: module 'gast' has no attribute 'Num'\n",
      "WARNING: Entity <function Function._initialize_uninitialized_variables.<locals>.initialize_variables at 0x00000121432F8AE8> could not be transformed and will be executed as-is. Please report this to the AutoGraph team. When filing the bug, set the verbosity to 10 (on Linux, `export AUTOGRAPH_VERBOSITY=10`) and attach the full output. Cause: converting <function Function._initialize_uninitialized_variables.<locals>.initialize_variables at 0x00000121432F8AE8>: AttributeError: module 'gast' has no attribute 'Num'\n",
      "Executing op __inference_initialize_variables_891728 in device <unspecified>\n",
      "WARNING:tensorflow:Entity <function train_step at 0x00000121432F8268> could not be transformed and will be executed as-is. Please report this to the AutoGraph team. When filing the bug, set the verbosity to 10 (on Linux, `export AUTOGRAPH_VERBOSITY=10`) and attach the full output. Cause: converting <function train_step at 0x00000121432F8268>: AssertionError: Bad argument number for Name: 3, expecting 4\n",
      "WARNING: Entity <function train_step at 0x00000121432F8268> could not be transformed and will be executed as-is. Please report this to the AutoGraph team. When filing the bug, set the verbosity to 10 (on Linux, `export AUTOGRAPH_VERBOSITY=10`) and attach the full output. Cause: converting <function train_step at 0x00000121432F8268>: AssertionError: Bad argument number for Name: 3, expecting 4\n",
      "Executing op __inference_train_step_891923 in device <unspecified>\n",
      "total_loss: 56.479, num_batches: 214, avg_loss: 0.264, time: 0.002WARNING:tensorflow:Entity <function train_step at 0x00000121432F8268> could not be transformed and will be executed as-is. Please report this to the AutoGraph team. When filing the bug, set the verbosity to 10 (on Linux, `export AUTOGRAPH_VERBOSITY=10`) and attach the full output. Cause: converting <function train_step at 0x00000121432F8268>: AssertionError: Bad argument number for Name: 3, expecting 4\n",
      "WARNING: Entity <function train_step at 0x00000121432F8268> could not be transformed and will be executed as-is. Please report this to the AutoGraph team. When filing the bug, set the verbosity to 10 (on Linux, `export AUTOGRAPH_VERBOSITY=10`) and attach the full output. Cause: converting <function train_step at 0x00000121432F8268>: AssertionError: Bad argument number for Name: 3, expecting 4\n",
      "Executing op __inference_train_step_893831 in device <unspecified>\n",
      "total_loss: 56.767, num_batches: 215, avg_loss: 0.264, time: 1.171WARNING:tensorflow:Entity <function test_step at 0x00000121430D9B70> could not be transformed and will be executed as-is. Please report this to the AutoGraph team. When filing the bug, set the verbosity to 10 (on Linux, `export AUTOGRAPH_VERBOSITY=10`) and attach the full output. Cause: converting <function test_step at 0x00000121430D9B70>: AttributeError: module 'gast' has no attribute 'Str'\n",
      "WARNING: Entity <function test_step at 0x00000121430D9B70> could not be transformed and will be executed as-is. Please report this to the AutoGraph team. When filing the bug, set the verbosity to 10 (on Linux, `export AUTOGRAPH_VERBOSITY=10`) and attach the full output. Cause: converting <function test_step at 0x00000121430D9B70>: AttributeError: module 'gast' has no attribute 'Str'\n",
      "Executing op __inference_test_step_893952 in device <unspecified>\n",
      "WARNING:tensorflow:Entity <function test_step at 0x00000121430D9B70> could not be transformed and will be executed as-is. Please report this to the AutoGraph team. When filing the bug, set the verbosity to 10 (on Linux, `export AUTOGRAPH_VERBOSITY=10`) and attach the full output. Cause: converting <function test_step at 0x00000121430D9B70>: AttributeError: module 'gast' has no attribute 'Str'\n",
      "WARNING: Entity <function test_step at 0x00000121430D9B70> could not be transformed and will be executed as-is. Please report this to the AutoGraph team. When filing the bug, set the verbosity to 10 (on Linux, `export AUTOGRAPH_VERBOSITY=10`) and attach the full output. Cause: converting <function test_step at 0x00000121430D9B70>: AttributeError: module 'gast' has no attribute 'Str'\n",
      "Executing op __inference_test_step_894095 in device <unspecified>\n",
      "Epoch : 1, Loss: 0.264, Acc: 0.902, Val_loss: 0.316, Val_Acc: 0.885, total\n",
      "Epoch : 2, Loss: 0.258, Acc: 0.903, Val_loss: 0.314, Val_Acc: 0.886, total\n",
      "Epoch : 3, Loss: 0.253, Acc: 0.906, Val_loss: 0.314, Val_Acc: 0.884, total\n",
      "Epoch : 4, Loss: 0.247, Acc: 0.908, Val_loss: 0.314, Val_Acc: 0.884, total\n",
      "Epoch : 5, Loss: 0.242, Acc: 0.910, Val_loss: 0.311, Val_Acc: 0.886, total\n",
      "Epoch : 6, Loss: 0.237, Acc: 0.912, Val_loss: 0.308, Val_Acc: 0.888, total\n",
      "Epoch : 7, Loss: 0.233, Acc: 0.914, Val_loss: 0.312, Val_Acc: 0.887, total\n",
      "Epoch : 8, Loss: 0.227, Acc: 0.916, Val_loss: 0.311, Val_Acc: 0.888, total\n",
      "Epoch : 9, Loss: 0.223, Acc: 0.917, Val_loss: 0.320, Val_Acc: 0.885, total\n",
      "Epoch : 10, Loss: 0.218, Acc: 0.919, Val_loss: 0.324, Val_Acc: 0.884, total\n",
      "Total time: 202.606\n"
     ]
    }
   ],
   "source": [
    "# 自定义损失函数\n",
    "# train_step\n",
    "# test_step\n",
    "# for loop train\n",
    "\n",
    "loss_func = keras.losses.SparseCategoricalCrossentropy(\n",
    "    reduction= keras.losses.Reduction.SUM_OVER_BATCH_SIZE\n",
    ")\n",
    "\n",
    "test_loss = keras.metrics.Mean(name = \"test_loss\")\n",
    "train_accuracy = keras.metrics.SparseCategoricalAccuracy(name = \"train_accuracy\")\n",
    "test_accuracy = keras.metrics.SparseCategoricalAccuracy(name = \"test_accuracy\")\n",
    "\n",
    "optimizer = keras.optimizers.SGD(lr=0.01)\n",
    "@tf.function\n",
    "def train_step(inputs):\n",
    "    images, labels = inputs\n",
    "    with tf.GradientTape() as tape:\n",
    "        predictions = model(images, training= True)\n",
    "        loss = loss_func(labels, predictions)\n",
    "    gradients = tape.gradient(loss, model.trainable_variables)\n",
    "    optimizer.apply_gradients(zip(gradients, model.trainable_variables))\n",
    "    train_accuracy.update_state(labels, predictions)\n",
    "    return loss\n",
    "@tf.function    \n",
    "def test_step(inputs):\n",
    "    images, labels = inputs\n",
    "    predictions = model(images)\n",
    "    t_loss = loss_func(labels, predictions)\n",
    "    test_loss.update_state(t_loss)\n",
    "    test_accuracy.update_state(labels, predictions)\n",
    "epoch_new = 10\n",
    "total_start_time = time.time()\n",
    "for epoch in range(epoch_new):\n",
    "    total_loss = 0.0\n",
    "    num_batches = 0\n",
    "    \n",
    "    for x in train_dataset:\n",
    "        start_time = time.time()\n",
    "        total_loss += train_step(x)\n",
    "        run_time = time.time() - start_time\n",
    "        num_batches +=1\n",
    "        print(\"\\rtotal_loss: %3.3f, num_batches: %d, avg_loss: %3.3f, time: %3.3f\" \n",
    "              % (total_loss, num_batches, total_loss/num_batches, run_time), end = \"\")\n",
    "    train_loss = total_loss / num_batches\n",
    "    for x in valid_dataset:\n",
    "        test_step(x)\n",
    "    print(\"\\rEpoch : %d, Loss: %3.3f, Acc: %3.3f, Val_loss: %3.3f, Val_Acc: %3.3f, total\"\n",
    "              %(epoch + 1, train_loss, train_accuracy.result(), \n",
    "                test_loss.result(), test_accuracy.result()))\n",
    "    train_accuracy.reset_states()\n",
    "    test_loss.reset_states()\n",
    "    test_accuracy.reset_states()\n",
    "print(\"Total time: %3.3f\" %(time.time() - total_start_time))"
   ]
  },
  {
   "cell_type": "code",
   "execution_count": 17,
   "metadata": {},
   "outputs": [
    {
     "ename": "NameError",
     "evalue": "name 'history' is not defined",
     "output_type": "error",
     "traceback": [
      "\u001b[1;31m---------------------------------------------------------------------------\u001b[0m",
      "\u001b[1;31mNameError\u001b[0m                                 Traceback (most recent call last)",
      "\u001b[1;32m<ipython-input-17-3a082fe5c6a1>\u001b[0m in \u001b[0;36m<module>\u001b[1;34m\u001b[0m\n\u001b[0;32m      5\u001b[0m     \u001b[0mplt\u001b[0m\u001b[1;33m.\u001b[0m\u001b[0mshow\u001b[0m\u001b[1;33m(\u001b[0m\u001b[1;33m)\u001b[0m\u001b[1;33m\u001b[0m\u001b[1;33m\u001b[0m\u001b[0m\n\u001b[0;32m      6\u001b[0m \u001b[1;33m\u001b[0m\u001b[0m\n\u001b[1;32m----> 7\u001b[1;33m \u001b[0mplot_learning_curves\u001b[0m\u001b[1;33m(\u001b[0m\u001b[0mhistory\u001b[0m\u001b[1;33m)\u001b[0m\u001b[1;33m\u001b[0m\u001b[1;33m\u001b[0m\u001b[0m\n\u001b[0m",
      "\u001b[1;31mNameError\u001b[0m: name 'history' is not defined"
     ]
    }
   ],
   "source": [
    "def plot_learning_curves(history):\n",
    "    pd.DataFrame(history.history).plot(figsize=(8, 5))\n",
    "    plt.grid(True)\n",
    "    plt.gca().set_ylim(0, 1)\n",
    "    plt.show()\n",
    "\n",
    "plot_learning_curves(history)"
   ]
  },
  {
   "cell_type": "code",
   "execution_count": 18,
   "metadata": {},
   "outputs": [
    {
     "name": "stdout",
     "output_type": "stream",
     "text": [
      "Executing op __inference_keras_scratch_graph_889553 in device <unspecified>\n",
      " 9952/10000 [============================>.] - ETA: 0s - loss: 0.3396 - accuracy: 0.8772Executing op __inference_keras_scratch_graph_889553 in device <unspecified>\n",
      "10000/10000 [==============================] - 3s 322us/sample - loss: 0.3394 - accuracy: 0.8771\n"
     ]
    },
    {
     "data": {
      "text/plain": [
       "[0.3394184042930603, 0.8771]"
      ]
     },
     "execution_count": 18,
     "metadata": {},
     "output_type": "execute_result"
    }
   ],
   "source": [
    "model.evaluate(x_test_scaled, y_test)"
   ]
  },
  {
   "cell_type": "code",
   "execution_count": 23,
   "metadata": {},
   "outputs": [],
   "source": [
    "# 不用tf.function\n",
    "# Total time: 231.208\n",
    "# 用tf.function\n",
    "# Total time: 202.606"
   ]
  },
  {
   "cell_type": "code",
   "execution_count": null,
   "metadata": {},
   "outputs": [],
   "source": []
  }
 ],
 "metadata": {
  "kernelspec": {
   "display_name": "Python 3",
   "language": "python",
   "name": "python3"
  },
  "language_info": {
   "codemirror_mode": {
    "name": "ipython",
    "version": 3
   },
   "file_extension": ".py",
   "mimetype": "text/x-python",
   "name": "python",
   "nbconvert_exporter": "python",
   "pygments_lexer": "ipython3",
   "version": "3.6.7"
  }
 },
 "nbformat": 4,
 "nbformat_minor": 2
}

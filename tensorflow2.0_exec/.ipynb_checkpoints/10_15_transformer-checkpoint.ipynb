{
 "cells": [
  {
   "cell_type": "code",
   "execution_count": 1,
   "metadata": {},
   "outputs": [
    {
     "data": {
      "text/plain": [
       "'\\n1. preprocessing data\\n\\n2. tools\\n2.1 generates position embedding\\n2.2 create mask (padding, decoder)\\n2.3 scaled_dot_product_attention\\n\\n3.build model\\n3.1 multiheadAttention\\n3.2 EncoderLayer\\n3.3 DecoderLayer\\n3.4 EncoderModel\\n3.5 DecoderModel\\n3.6 Transformer\\n\\n4 train\\n4.1 initialize model\\n4.2 define loss optimizer, learning_rate schedule\\n4.3 train_step\\n4.4 train process\\n\\n6 evalution\\n7 visualize results(attention)\\n'"
      ]
     },
     "execution_count": 1,
     "metadata": {},
     "output_type": "execute_result"
    }
   ],
   "source": [
    "\"\"\"\n",
    "1. preprocessing data\n",
    "\n",
    "2. tools\n",
    "2.1 generates position embedding\n",
    "2.2 create mask (padding, decoder)\n",
    "2.3 scaled_dot_product_attention\n",
    "\n",
    "3.build model\n",
    "3.1 multiheadAttention\n",
    "3.2 EncoderLayer\n",
    "3.3 DecoderLayer\n",
    "3.4 EncoderModel\n",
    "3.5 DecoderModel\n",
    "3.6 Transformer\n",
    "\n",
    "4 train\n",
    "4.1 initialize model\n",
    "4.2 define loss optimizer, learning_rate schedule\n",
    "4.3 train_step\n",
    "4.4 train process\n",
    "\n",
    "6 evalution\n",
    "7 visualize results(attention)\n",
    "\"\"\""
   ]
  },
  {
   "cell_type": "code",
   "execution_count": 2,
   "metadata": {},
   "outputs": [
    {
     "name": "stdout",
     "output_type": "stream",
     "text": [
      "2.0.0-beta1\n",
      "sys.version_info(major=3, minor=6, micro=7, releaselevel='final', serial=0)\n",
      "matplotlib 3.1.2\n",
      "numpy 1.16.2\n",
      "pandas 0.25.3\n",
      "sklearn 0.22\n",
      "tensorflow 2.0.0-beta1\n",
      "tensorflow.python.keras.api._v2.keras 2.2.4-tf\n"
     ]
    }
   ],
   "source": [
    "import matplotlib as mpl\n",
    "import matplotlib.pyplot as plt\n",
    "%matplotlib inline\n",
    "import numpy as np\n",
    "import sklearn\n",
    "import pandas as pd\n",
    "import os\n",
    "import sys\n",
    "import time\n",
    "import tensorflow as tf\n",
    "\n",
    "from tensorflow import keras\n",
    "\n",
    "print(tf.__version__)\n",
    "print(sys.version_info)\n",
    "for module in mpl, np, pd, sklearn, tf, keras:\n",
    "    print(module.__name__, module.__version__)"
   ]
  },
  {
   "cell_type": "code",
   "execution_count": 3,
   "metadata": {},
   "outputs": [
    {
     "name": "stdout",
     "output_type": "stream",
     "text": [
      "[PhysicalDevice(name='/physical_device:GPU:0', device_type='GPU')]\n"
     ]
    }
   ],
   "source": [
    "gpus = tf.config.experimental.list_physical_devices('GPU')\n",
    "print(gpus)\n",
    "for gpu in gpus:\n",
    "    tf.config.experimental.set_memory_growth(gpu, True)"
   ]
  },
  {
   "cell_type": "markdown",
   "metadata": {},
   "source": [
    "### 1. preprocessing data"
   ]
  },
  {
   "cell_type": "code",
   "execution_count": 4,
   "metadata": {},
   "outputs": [
    {
     "name": "stdout",
     "output_type": "stream",
     "text": [
      "tfds.core.DatasetInfo(\n",
      "    name='ted_hrlr_translate',\n",
      "    version=1.0.0,\n",
      "    description='Data sets derived from TED talk transcripts for comparing similar language pairs\n",
      "where one is high resource and the other is low resource.\n",
      "',\n",
      "    homepage='https://github.com/neulab/word-embeddings-for-nmt',\n",
      "    features=Translation({\n",
      "        'en': Text(shape=(), dtype=tf.string),\n",
      "        'pt': Text(shape=(), dtype=tf.string),\n",
      "    }),\n",
      "    total_num_examples=54781,\n",
      "    splits={\n",
      "        'test': 1803,\n",
      "        'train': 51785,\n",
      "        'validation': 1193,\n",
      "    },\n",
      "    supervised_keys=('pt', 'en'),\n",
      "    citation=\"\"\"@inproceedings{Ye2018WordEmbeddings,\n",
      "      author  = {Ye, Qi and Devendra, Sachan and Matthieu, Felix and Sarguna, Padmanabhan and Graham, Neubig},\n",
      "      title   = {When and Why are pre-trained word embeddings useful for Neural Machine Translation},\n",
      "      booktitle = {HLT-NAACL},\n",
      "      year    = {2018},\n",
      "      }\"\"\",\n",
      "    redistribution_info=,\n",
      ")\n",
      "\n"
     ]
    }
   ],
   "source": [
    "import tensorflow_datasets as tfds\n",
    "examples, info = tfds.load(\"ted_hrlr_translate/pt_to_en\",\n",
    "                           with_info = True,\n",
    "                          as_supervised = True)\n",
    "train_examples, val_examples = examples[\"train\"], examples[\"validation\"]\n",
    "print(info)"
   ]
  },
  {
   "cell_type": "code",
   "execution_count": 5,
   "metadata": {},
   "outputs": [
    {
     "name": "stdout",
     "output_type": "stream",
     "text": [
      "b'e quando melhoramos a procura , tiramos a \\xc3\\xbanica vantagem da impress\\xc3\\xa3o , que \\xc3\\xa9 a serendipidade .'\n",
      "b'and when you improve searchability , you actually take away the one advantage of print , which is serendipity .'\n",
      "\n",
      "b'mas e se estes fatores fossem ativos ?'\n",
      "b'but what if it were active ?'\n",
      "\n",
      "b'mas eles n\\xc3\\xa3o tinham a curiosidade de me testar .'\n",
      "b\"but they did n't test for curiosity .\"\n",
      "\n",
      "b'e esta rebeldia consciente \\xc3\\xa9 a raz\\xc3\\xa3o pela qual eu , como agn\\xc3\\xb3stica , posso ainda ter f\\xc3\\xa9 .'\n",
      "b'and this conscious defiance is why i , as an agnostic , can still have faith .'\n",
      "\n",
      "b\"`` `` '' podem usar tudo sobre a mesa no meu corpo . ''\"\n",
      "b'you can use everything on the table on me .'\n",
      "\n"
     ]
    }
   ],
   "source": [
    "for pt, en in train_examples.take(5):\n",
    "    print(pt.numpy())\n",
    "    print(en.numpy())\n",
    "    print()"
   ]
  },
  {
   "cell_type": "code",
   "execution_count": 6,
   "metadata": {},
   "outputs": [],
   "source": [
    "# 转成subword\n",
    "en_tokenizer = tfds.features.text.SubwordTextEncoder.build_from_corpus(\n",
    "    (en.numpy() for pt , en in train_examples),\n",
    "    target_vocab_size = 2 ** 13\n",
    ")\n",
    "pt_tokenizer = tfds.features.text.SubwordTextEncoder.build_from_corpus(\n",
    "    (pt.numpy() for pt , en in train_examples),\n",
    "    target_vocab_size = 2 ** 13\n",
    ")"
   ]
  },
  {
   "cell_type": "code",
   "execution_count": 7,
   "metadata": {},
   "outputs": [
    {
     "name": "stdout",
     "output_type": "stream",
     "text": [
      "Tokenized string is [7915, 1248, 7946, 7194, 13, 2799, 7877]\n",
      "Origin string is Transformer is awesome.\n",
      "7915 -> 'T'\n",
      "1248 -> 'ran'\n",
      "7946 -> 's'\n",
      "7194 -> 'former '\n",
      "13 -> 'is '\n",
      "2799 -> 'awesome'\n",
      "7877 -> '.'\n"
     ]
    }
   ],
   "source": [
    "sample_string = \"Transformer is awesome.\"\n",
    "tokenized_string = en_tokenizer.encode(sample_string)\n",
    "print(\"Tokenized string is {}\".format(tokenized_string))\n",
    "\n",
    "origin_string = en_tokenizer.decode(tokenized_string)\n",
    "print(\"Origin string is {}\".format(origin_string))\n",
    "\n",
    "# \"{} -> '{}'\" 在内部加一层引号保留空格\n",
    "for token in tokenized_string:\n",
    "    print(\"{} -> '{}'\".format(token, en_tokenizer.decode([token])))"
   ]
  },
  {
   "cell_type": "code",
   "execution_count": 8,
   "metadata": {},
   "outputs": [],
   "source": [
    "buffer_size = 20000\n",
    "batch_size = 64\n",
    "max_length = 40\n",
    "\n",
    "# 利用tokenizer将string转成subword并加上起始终止标志符\n",
    "def encode_to_subword(pt_sentence, en_sentence):\n",
    "    # 加上前缀和后缀，相当于<start>\n",
    "    pt_sequence = [pt_tokenizer.vocab_size] \\\n",
    "    + pt_tokenizer.encode(pt_sentence.numpy()) \\\n",
    "    + [pt_tokenizer.vocab_size+1]\n",
    "    \n",
    "    en_sequence = [en_tokenizer.vocab_size] \\\n",
    "    + en_tokenizer.encode(en_sentence.numpy()) \\\n",
    "    + [en_tokenizer.vocab_size+1]\n",
    "    return pt_sequence, en_sequence\n",
    "\n",
    "# \n",
    "def filter_by_max_length(pt, en):\n",
    "    return tf.logical_and(tf.size(pt) <= max_length, \n",
    "                         tf.size(en) <= max_length)\n",
    "\n",
    "# 封装python函数\n",
    "def tf_encoder_to_subword(pt_sentence, en_sentence):\n",
    "    return tf.py_function(encode_to_subword,\n",
    "                         [pt_sentence, en_sentence],\n",
    "                         [tf.int64, tf.int64])\n",
    "\n",
    "train_dataset = train_examples.map(tf_encoder_to_subword)\n",
    "train_dataset = train_dataset.filter(filter_by_max_length)\n",
    "train_dataset = train_dataset.shuffle(batch_size).padded_batch(\n",
    "    batch_size, padded_shapes=([-1], [-1])) # 在当前两个维度上都取最高的那个值\n",
    "\n",
    "valid_dataset = val_examples.map(tf_encoder_to_subword)\n",
    "valid_dataset = valid_dataset.filter(filter_by_max_length)\n",
    "valid_dataset = valid_dataset.shuffle(batch_size).padded_batch(\n",
    "    batch_size, padded_shapes=([-1], [-1])) # 在当前两个维度上都取最高的那个值"
   ]
  },
  {
   "cell_type": "code",
   "execution_count": 9,
   "metadata": {},
   "outputs": [
    {
     "name": "stdout",
     "output_type": "stream",
     "text": [
      "WARNING:tensorflow:The dtype of the watched tensor must be floating (e.g. tf.float32), got tf.string\n"
     ]
    },
    {
     "name": "stderr",
     "output_type": "stream",
     "text": [
      "WARNING:tensorflow:The dtype of the watched tensor must be floating (e.g. tf.float32), got tf.string\n"
     ]
    },
    {
     "name": "stdout",
     "output_type": "stream",
     "text": [
      "WARNING:tensorflow:The dtype of the watched tensor must be floating (e.g. tf.float32), got tf.string\n"
     ]
    },
    {
     "name": "stderr",
     "output_type": "stream",
     "text": [
      "WARNING:tensorflow:The dtype of the watched tensor must be floating (e.g. tf.float32), got tf.string\n"
     ]
    },
    {
     "name": "stdout",
     "output_type": "stream",
     "text": [
      "WARNING:tensorflow:The dtype of the watched tensor must be floating (e.g. tf.float32), got tf.string\n"
     ]
    },
    {
     "name": "stderr",
     "output_type": "stream",
     "text": [
      "WARNING:tensorflow:The dtype of the watched tensor must be floating (e.g. tf.float32), got tf.string\n"
     ]
    },
    {
     "name": "stdout",
     "output_type": "stream",
     "text": [
      "WARNING:tensorflow:The dtype of the watched tensor must be floating (e.g. tf.float32), got tf.string\n"
     ]
    },
    {
     "name": "stderr",
     "output_type": "stream",
     "text": [
      "WARNING:tensorflow:The dtype of the watched tensor must be floating (e.g. tf.float32), got tf.string\n"
     ]
    },
    {
     "name": "stdout",
     "output_type": "stream",
     "text": [
      "WARNING:tensorflow:The dtype of the watched tensor must be floating (e.g. tf.float32), got tf.string\n"
     ]
    },
    {
     "name": "stderr",
     "output_type": "stream",
     "text": [
      "WARNING:tensorflow:The dtype of the watched tensor must be floating (e.g. tf.float32), got tf.string\n"
     ]
    },
    {
     "name": "stdout",
     "output_type": "stream",
     "text": [
      "(64, 39) (64, 31)\n",
      "(64, 38) (64, 40)\n",
      "(64, 39) (64, 39)\n",
      "(64, 38) (64, 36)\n",
      "(64, 40) (64, 35)\n"
     ]
    }
   ],
   "source": [
    "for pt_batch, en_batch in valid_dataset.take(5):\n",
    "    print(pt_batch.shape, en_batch.shape)"
   ]
  },
  {
   "cell_type": "markdown",
   "metadata": {},
   "source": [
    "### 2.tools"
   ]
  },
  {
   "cell_type": "markdown",
   "metadata": {},
   "source": [
    "#### 2.1 generates position embedding"
   ]
  },
  {
   "cell_type": "code",
   "execution_count": 10,
   "metadata": {},
   "outputs": [
    {
     "name": "stdout",
     "output_type": "stream",
     "text": [
      "(1, 50, 512)\n"
     ]
    }
   ],
   "source": [
    "# PE (pos,2i) = sin(pos / 10000 ^ (2i/d_model))\n",
    "# PE (pos,2i+1) = cos(pos / 10000 ^ (2i/d_model))\n",
    "# pos [sentence_length, 1]\n",
    "# i.shape : [1,d_model] \n",
    "# result : [sentence_length, d_model]  \n",
    "def get_angles(pos, i, d_model):\n",
    "    angle_rates = 1 / np.power(10000, 2 *(i//2)/np.float32(d_model))\n",
    "    return pos * angle_rates\n",
    "\n",
    "def get_position_embedding(sentence_length, d_model):\n",
    "    angle_rads = get_angles(np.arange(sentence_length)[:, np.newaxis],\n",
    "                           np.arange(d_model)[np.newaxis, :],\n",
    "                           d_model)\n",
    "    # sines.shape : [sentence_length, d_model / 2]\n",
    "    # cosenes.shape : [sentence_length, d_model / 2]\n",
    "    sines = np.sin(angle_rads[:, 0::2])\n",
    "    cosines = np.cos(angle_rads[:, 1::2])\n",
    "    \n",
    "    # position_embedding.shape: [sentence_length, d_model]\n",
    "    position_embedding = np.concatenate([sines, cosines], axis = -1)\n",
    "    \n",
    "    # position_embedding.shape: [1,sentence_length, d_model]\n",
    "    position_embedding = position_embedding[np.newaxis, ... ]\n",
    "    \n",
    "    return tf.cast(position_embedding, dtype=tf.float32)\n",
    "\n",
    "position_embedding = get_position_embedding(50,512)\n",
    "print(position_embedding.shape)\n",
    "    \n"
   ]
  },
  {
   "cell_type": "code",
   "execution_count": 11,
   "metadata": {},
   "outputs": [
    {
     "data": {
      "image/png": "[encoded data removed]",
      "text/plain": [
       "<Figure size 432x288 with 2 Axes>"
      ]
     },
     "metadata": {
      "needs_background": "light"
     },
     "output_type": "display_data"
    }
   ],
   "source": [
    "def plot_position_embedding(position_embedding):\n",
    "    plt.pcolormesh(position_embedding[0], cmap = \"RdBu\")\n",
    "    plt.xlabel(\"Depth\")\n",
    "    plt.xlim((0,512))\n",
    "    plt.ylabel(\"Position\")\n",
    "    plt.colorbar()\n",
    "    plt.show()\n",
    "plot_position_embedding(position_embedding)"
   ]
  },
  {
   "cell_type": "markdown",
   "metadata": {},
   "source": [
    "#### 2.2 mask(1.padding mask, 2.look ahead)"
   ]
  },
  {
   "cell_type": "code",
   "execution_count": 12,
   "metadata": {},
   "outputs": [
    {
     "data": {
      "text/plain": [
       "<tf.Tensor: id=313655, shape=(3, 1, 1, 5), dtype=float32, numpy=\n",
       "array([[[[0., 0., 1., 1., 0.]]],\n",
       "\n",
       "\n",
       "       [[[0., 0., 0., 1., 1.]]],\n",
       "\n",
       "\n",
       "       [[[1., 1., 1., 0., 0.]]]], dtype=float32)>"
      ]
     },
     "execution_count": 12,
     "metadata": {},
     "output_type": "execute_result"
    }
   ],
   "source": [
    "def create_padding_mask(batch_data):\n",
    "    padding_mask = tf.cast(tf.math.equal(batch_data, 0), tf.float32)\n",
    "    return padding_mask[:, tf.newaxis, tf.newaxis, :]\n",
    "\n",
    "x = tf.constant([[7,6,0,0,1], [1,2,3,0,0], [0,0,0,4,5]])\n",
    "create_padding_mask(x)\n",
    "# 并没有取反， 0的时候取1"
   ]
  },
  {
   "cell_type": "code",
   "execution_count": 13,
   "metadata": {},
   "outputs": [
    {
     "data": {
      "text/plain": [
       "<tf.Tensor: id=313664, shape=(3, 3), dtype=float32, numpy=\n",
       "array([[0., 1., 1.],\n",
       "       [0., 0., 1.],\n",
       "       [0., 0., 0.]], dtype=float32)>"
      ]
     },
     "execution_count": 13,
     "metadata": {},
     "output_type": "execute_result"
    }
   ],
   "source": [
    "# 在decode中不让前词看到后词\n",
    "# attention_weights:\n",
    "#  [  [1,2,3],\n",
    "#     [4,5,6],\n",
    "#     [4,5,6] ]\n",
    "# =>\n",
    "#  [  [1,0,0],\n",
    "#     [4,5,0],\n",
    "#     [4,5,6] ]\n",
    "# mask.shape : (seq_len, seq_len)\n",
    "def create_look_ahead_mask(size):\n",
    "    mask = 1 - tf.linalg.band_part(tf.ones((size, size)), -1, 0)\n",
    "    return mask #(seq_len, seq_len)\n",
    "\n",
    "create_look_ahead_mask(3)"
   ]
  },
  {
   "cell_type": "markdown",
   "metadata": {},
   "source": [
    "#### 2.3 scaled_dot_product_attention "
   ]
  },
  {
   "cell_type": "code",
   "execution_count": 14,
   "metadata": {},
   "outputs": [],
   "source": [
    "def scaled_dot_product_attention(q,k,v,mask):\n",
    "    \"\"\"\n",
    "    Args:\n",
    "    - q: shape == (..., seq_len_q, depth)\n",
    "    - k: shape == (..., seq_len_k, depth)\n",
    "    - v: shape == (..., seq_len_v, depth_v)\n",
    "    - seq_len_k == seq_len_v\n",
    "    - mask: shape == (..., seq_len_q, seq_len_k)\n",
    "    Returns:\n",
    "    - output:weighted sum\n",
    "    - attention_weights: weights of attention\n",
    "    \"\"\"\n",
    "    # q和kT要作矩阵乘法， 所以最后一维depth相等\n",
    "    # k和v是key value 对应 \n",
    "    \n",
    "    # shape: (..., seq_len_q, seq_len_k)\n",
    "    matmul_qk = tf.matmul(q,k,transpose_b = True)\n",
    "    \n",
    "    # k 的最后一维depth\n",
    "    dk = tf.cast(tf.shape(k)[-1], tf.float32)\n",
    "    scaled_attention_logits = matmul_qk / tf.math.sqrt(dk)\n",
    "    \n",
    "    # 为什么加一个很小的数\n",
    "    #  softmax 一个很小的数会无限接近0，mask里为0的地方不会变\n",
    "    if mask is not None:\n",
    "        scaled_attention_logits += (mask * -1e9)\n",
    "        \n",
    "    # 在seq_len_k维度上做softmax\n",
    "    attention_weights = tf.nn.softmax(scaled_attention_logits, axis = -1)\n",
    "    \n",
    "    # shape: (..., seq_len_q, depth_v)\n",
    "    output = tf.matmul(attention_weights, v)\n",
    "    \n",
    "    return output, attention_weights\n",
    "\n",
    "def print_scaled_dot_product_attention(q,k,v):\n",
    "    temp_out, temp_att = scaled_dot_product_attention(q,k,v,None)\n",
    "    print(\"Attention weights are :\")\n",
    "    print(temp_att)\n",
    "    print(\"Output is : \")\n",
    "    print(temp_out)\n",
    "    \n",
    "    "
   ]
  },
  {
   "cell_type": "code",
   "execution_count": 15,
   "metadata": {},
   "outputs": [
    {
     "name": "stdout",
     "output_type": "stream",
     "text": [
      "Attention weights are :\n",
      "tf.Tensor([[0. 1. 0. 0.]], shape=(1, 4), dtype=float32)\n",
      "Output is : \n",
      "tf.Tensor([[10.  0.]], shape=(1, 2), dtype=float32)\n"
     ]
    }
   ],
   "source": [
    "temp_q1 = tf.constant([[0,10,0]], dtype = tf.float32) # (1,3)\n",
    "temp_k = tf.constant([[10,0,0],\n",
    "                      [0,10,0],\n",
    "                      [0,0,10],\n",
    "                      [0,0,10]], dtype = tf.float32) # (4,3)\n",
    "temp_v = tf.constant([[1,0],\n",
    "                      [10,0],\n",
    "                      [100,5],\n",
    "                      [1000,6]], dtype = tf.float32) # (4,2)\n",
    "# 无限接近于0的数打印就是0\n",
    "np.set_printoptions(suppress=True)\n",
    "print_scaled_dot_product_attention(temp_q1,temp_k,temp_v)\n"
   ]
  },
  {
   "cell_type": "code",
   "execution_count": 16,
   "metadata": {},
   "outputs": [
    {
     "name": "stdout",
     "output_type": "stream",
     "text": [
      "Attention weights are :\n",
      "tf.Tensor([[0.  0.  0.5 0.5]], shape=(1, 4), dtype=float32)\n",
      "Output is : \n",
      "tf.Tensor([[550.    5.5]], shape=(1, 2), dtype=float32)\n"
     ]
    }
   ],
   "source": [
    "temp_q2 = tf.constant([[0,0,10]], dtype = tf.float32) # (1,3)、\n",
    "print_scaled_dot_product_attention(temp_q2,temp_k,temp_v)"
   ]
  },
  {
   "cell_type": "code",
   "execution_count": 17,
   "metadata": {},
   "outputs": [
    {
     "name": "stdout",
     "output_type": "stream",
     "text": [
      "Attention weights are :\n",
      "tf.Tensor([[0.5 0.5 0.  0. ]], shape=(1, 4), dtype=float32)\n",
      "Output is : \n",
      "tf.Tensor([[5.5 0. ]], shape=(1, 2), dtype=float32)\n"
     ]
    }
   ],
   "source": [
    "temp_q3 = tf.constant([[10,10,0]], dtype = tf.float32) # (1,3)\n",
    "print_scaled_dot_product_attention(temp_q3,temp_k,temp_v)"
   ]
  },
  {
   "cell_type": "code",
   "execution_count": 18,
   "metadata": {},
   "outputs": [
    {
     "name": "stdout",
     "output_type": "stream",
     "text": [
      "Attention weights are :\n",
      "tf.Tensor(\n",
      "[[0.  0.  0.5 0.5]\n",
      " [0.  1.  0.  0. ]\n",
      " [0.5 0.5 0.  0. ]], shape=(3, 4), dtype=float32)\n",
      "Output is : \n",
      "tf.Tensor(\n",
      "[[550.    5.5]\n",
      " [ 10.    0. ]\n",
      " [  5.5   0. ]], shape=(3, 2), dtype=float32)\n"
     ]
    }
   ],
   "source": [
    "temp_q4 =  tf.constant([[0,0,10],\n",
    "                        [0,10,0],\n",
    "                        [10,10,0]], \n",
    "                        dtype = tf.float32) # (1,3)\n",
    "print_scaled_dot_product_attention(temp_q4,temp_k,temp_v)"
   ]
  },
  {
   "cell_type": "markdown",
   "metadata": {},
   "source": [
    "### 3.build model"
   ]
  },
  {
   "cell_type": "markdown",
   "metadata": {},
   "source": [
    "#### 3.1 MultiHeadAttention"
   ]
  },
  {
   "cell_type": "code",
   "execution_count": 19,
   "metadata": {},
   "outputs": [
    {
     "name": "stdout",
     "output_type": "stream",
     "text": [
      "(1, 60, 512)\n",
      "(1, 8, 60, 60)\n"
     ]
    }
   ],
   "source": [
    "class MultiHeadAttention(keras.layers.Layer):\n",
    "    \"\"\"\n",
    "    理论\n",
    "    x -> Wq0 -> q0\n",
    "    x -> Wk0 -> k0\n",
    "    x -> Wv0 -> v0\n",
    "    实际\n",
    "    q -> Wq0 -> q0\n",
    "    k -> Wk0 -> k0\n",
    "    v -> Wv0 -> v0\n",
    "    \n",
    "    q -> Wq -> Q -> split -> q0,q1,q2...\n",
    "    \"\"\"\n",
    "    \n",
    "    def __init__(self, d_model, num_heads):\n",
    "        super(MultiHeadAttention, self).__init__()\n",
    "        self.num_heads = num_heads\n",
    "        self.d_model = d_model\n",
    "        assert self.d_model % self.num_heads == 0\n",
    "        self.depth =d_model // self.num_heads\n",
    "        \n",
    "        self.WQ = keras.layers.Dense(self.d_model)\n",
    "        self.WK = keras.layers.Dense(self.d_model)        \n",
    "        self.WV = keras.layers.Dense(self.d_model)\n",
    "        \n",
    "        self.dense = keras.layers.Dense(self.d_model)\n",
    "        \n",
    "    def call(self, q, k, v, mask):\n",
    "        batch_size = tf.shape(q)[0]\n",
    "        # 输入之前入果做self_attention shape: (batch_size, seq_len, word_embedding.dims)\n",
    "        # 如果是中间的层次 shape：(batch_size, seq_len, 上一步输出的dim)\n",
    "        q = self.WQ(q) # q.shape: (batch_size, seq_len_q, d_model)\n",
    "        k = self.WK(k) # k.shape: (batch_size, seq_len_kv, d_model)\n",
    "        v = self.WV(v) # v.shape: (batch_size, seq_len_kv, d_model)\n",
    "        \n",
    "        \n",
    "        # q.shape: (batch_size, num_heads, seq_length_q, depth)\n",
    "        q = self.split_heads(q, batch_size)\n",
    "        # k.shape: (batch_size, num_heads, seq_length_kv, depth)\n",
    "        k = self.split_heads(k, batch_size)\n",
    "        # v.shape: (batch_size, num_heads, seq_length_kv, depth)\n",
    "        v = self.split_heads(v, batch_size)\n",
    "        \n",
    "        # 为何要维度切换\n",
    "        # 因为计算attention地时候用的是后两维去计算\n",
    "        # 所以需要先把num_heads这一维先换到前面去\n",
    "        \n",
    "        \n",
    "        # scaled_attention_outputs.shape : (batch_size, num_heads, seq_length_q, depth)\n",
    "        # attention_weights.shape : (batch_size, num_heads, seq_length_q, seq_length_kv)\n",
    "        scaled_attention_outputs, attention_weights = scaled_dot_product_attention(q,k,v,mask)\n",
    "        \n",
    "        # scaled_attention_outputs.shape : (batch_size, seq_length_q, num_heads, depth)\n",
    "        scaled_attention_outputs = tf.transpose(\n",
    "            scaled_attention_outputs, perm = [0,2,1,3]\n",
    "        )\n",
    "        \n",
    "        # concat_attention.shape : (batch_size, seq_length_q, d_mode)\n",
    "        concat_attention = tf.reshape(scaled_attention_outputs,\n",
    "                                     (batch_size, -1, self.d_model))\n",
    "        \n",
    "        output = self.dense(concat_attention)\n",
    "        return output, attention_weights\n",
    "        \n",
    "    def split_heads(self, x, batch_size):\n",
    "        # x.shape: (batch_size, seq_len, d_model)\n",
    "        # d_model = num_heads * depth\n",
    "        # x -> (batch_size, num_heads, seq_len, self.depth)\n",
    "        \n",
    "        x= tf.reshape(x, (batch_size, -1, self.num_heads, self.depth))\n",
    "        # perm 维度交换\n",
    "        return tf.transpose(x, perm=[0,2,1,3])\n",
    "        \n",
    "temp_mha = MultiHeadAttention(d_model = 512, num_heads = 8)\n",
    "y = tf.random.uniform((1,60,256))\n",
    "output, attn = temp_mha(y,y,y,mask = None)\n",
    "print(output.shape)\n",
    "\n",
    "print(attn.shape)"
   ]
  },
  {
   "cell_type": "markdown",
   "metadata": {},
   "source": [
    "#### 3.2 Encoder layer"
   ]
  },
  {
   "cell_type": "code",
   "execution_count": 20,
   "metadata": {},
   "outputs": [
    {
     "data": {
      "text/plain": [
       "TensorShape([64, 50, 512])"
      ]
     },
     "execution_count": 20,
     "metadata": {},
     "output_type": "execute_result"
    }
   ],
   "source": [
    "def feed_forward_network(d_model, dff):\n",
    "    # dff : dim of feed_forward_network\n",
    "    return keras.Sequential([\n",
    "        keras.layers.Dense(dff, activation=\"relu\"),\n",
    "        keras.layers.Dense(d_model)\n",
    "        \n",
    "    ])\n",
    "\n",
    "sample_ffn = feed_forward_network(512, 2048)\n",
    "sample_ffn(tf.random.uniform((64,50,512))).shape"
   ]
  },
  {
   "cell_type": "code",
   "execution_count": 21,
   "metadata": {},
   "outputs": [
    {
     "name": "stdout",
     "output_type": "stream",
     "text": [
      "(64, 50, 512)\n"
     ]
    }
   ],
   "source": [
    "class EncoderLayer(keras.layers.Layer):\n",
    "    \"\"\"\n",
    "    x -> self_attention -> add & normalize & dropout\n",
    "        -> feed_forward -> add & normalize & dropout\n",
    "    \"\"\"\n",
    "    def __init__(self, d_model, num_heads, dff, rate = 0.1):\n",
    "        super(EncoderLayer, self).__init__()\n",
    "        self.mha = MultiHeadAttention(d_model, num_heads)\n",
    "        self.ffn = feed_forward_network(d_model, dff)\n",
    "        \n",
    "        self.layer_normal_1 = keras.layers.LayerNormalization(epsilon= 1e-6)\n",
    "        self.layer_normal_2 = keras.layers.LayerNormalization(epsilon= 1e-6)\n",
    "        \n",
    "        self.dropout_1 = keras.layers.Dropout(rate)\n",
    "        self.dropout_2 = keras.layers.Dropout(rate)\n",
    "        \n",
    "\n",
    "    def call(self, x, training, encoder_padding_mask):\n",
    "        # x.shape           : (batch_size, seq_len, dim = d_model) 因为add操作\n",
    "        # attn_output.shape : (batch_size, seq_len, d_model)\n",
    "        attn_output, _ = self.mha(x,x,x,encoder_padding_mask)\n",
    "        attn_output = self.dropout_1(attn_output, training = training)\n",
    "        \n",
    "        # out_1.shape       : (batch_size, seq_len, d_model)\n",
    "        out_1 = self.layer_normal_1(x + attn_output)\n",
    "        \n",
    "        # ffn_output.shape: (batch_size, seq_len, d_model)\n",
    "        ffn_output = self.ffn(out_1)\n",
    "        ffn_output = self.dropout_2(ffn_output, training = training)\n",
    "        out_2 = self.layer_normal_2(out_1 + ffn_output)\n",
    "        \n",
    "        return out_2\n",
    "\n",
    "sample_encoder_layer = EncoderLayer(512, 8, 2048)\n",
    "# 产生均匀分布的随机张量\n",
    "sample_input = tf.random.uniform((64, 50, 512))\n",
    "sample_output = sample_encoder_layer(sample_input, False, None)\n",
    "print(sample_output.shape)\n",
    "        "
   ]
  },
  {
   "cell_type": "markdown",
   "metadata": {},
   "source": [
    "#### 3.3 DecoderLayer"
   ]
  },
  {
   "cell_type": "code",
   "execution_count": 22,
   "metadata": {},
   "outputs": [
    {
     "name": "stdout",
     "output_type": "stream",
     "text": [
      "(64, 60, 512)\n",
      "(64, 8, 60, 60)\n",
      "(64, 8, 60, 50)\n"
     ]
    }
   ],
   "source": [
    "class DecoderLayer(keras.layers.Layer):\n",
    "    \"\"\"\n",
    "    x -> self_attention -> add & normalize & dropout -> out_1\n",
    "    out_1, encoding_outputs -> attention -> add & normalize & dropout -> out_2\n",
    "    out_2  -> feed_forward -> add & normalize & dropout -> out_3\n",
    "    \"\"\"\n",
    "    def __init__(self, d_model, num_heads, dff, rate = 0.1):\n",
    "        super(DecoderLayer, self).__init__()\n",
    "        # 给输入作attention\n",
    "        self.mha_1 = MultiHeadAttention(d_model, num_heads)\n",
    "        # 给encoder和decoder之间做attention\n",
    "        self.mha_2 = MultiHeadAttention(d_model, num_heads)\n",
    "        self.ffn = feed_forward_network(d_model, dff)\n",
    "        \n",
    "        self.layer_normal_1 = keras.layers.LayerNormalization(epsilon= 1e-6)\n",
    "        self.layer_normal_2 = keras.layers.LayerNormalization(epsilon= 1e-6)\n",
    "        self.layer_normal_3 = keras.layers.LayerNormalization(epsilon= 1e-6)\n",
    "        \n",
    "        self.dropout_1 = keras.layers.Dropout(rate)\n",
    "        self.dropout_2 = keras.layers.Dropout(rate)\n",
    "        self.dropout_3 = keras.layers.Dropout(rate)\n",
    "\n",
    "    def call(self, x, encoding_outputs, training, \n",
    "             decoder_mask, encoder_decoder_padding_mask):\n",
    "        # decoder_mask: 是由look_ahead_mask和decoder_padding_mask混合而来\n",
    "        # x.shape                : (batch_size, target_seq_len, d_model)\n",
    "        # encoding_outputs.shape : (batch_size, input_seq_len, d_model)\n",
    "        \n",
    "        # attn_1/out_1.shape     : (batch_size, target_seq_len, d_model)\n",
    "        attn_1, attn_weights_1 = self.mha_1(x, x, x, decoder_mask)\n",
    "        attn_1 = self.dropout_1(attn_1, training = training)\n",
    "        out_1 = self.layer_normal_1(attn_1 + x)\n",
    "        \n",
    "        # attn_2/out_2.shape     : (batch_size, target_seq_len, d_model)\n",
    "        attn_2, attn_weights_2 = self.mha_2(out_1, encoding_outputs, encoding_outputs, \n",
    "                                            encoder_decoder_padding_mask)\n",
    "        attn_2 = self.dropout_2(attn_2, training = training)\n",
    "        out_2 = self.layer_normal_1(attn_2 + out_1)\n",
    "        \n",
    "        # ffn_output/out_3.shape: (batch_size, target_seq_len, d_model)\n",
    "        ffn_output = self.ffn(out_2)\n",
    "        ffn_output = self.dropout_3(ffn_output, training = training)\n",
    "        out_3 = self.layer_normal_3(out_2 + ffn_output)\n",
    "        \n",
    "        return out_3, attn_weights_1, attn_weights_2\n",
    "\n",
    "sample_decoder_layer = DecoderLayer(512, 8, 2048)\n",
    "sample_decoder_input = tf.random.uniform((64, 60, 512))\n",
    "sample_decoder_output, sample_decoder_attn_weights_1, sample_decoder_attn_weights_2 = sample_decoder_layer(\n",
    "    sample_decoder_input, sample_output, False, None, None)\n",
    "print(sample_decoder_output.shape)\n",
    "print(sample_decoder_attn_weights_1.shape)\n",
    "print(sample_decoder_attn_weights_2.shape)\n",
    "\n",
    "        "
   ]
  },
  {
   "cell_type": "markdown",
   "metadata": {},
   "source": [
    "#### 3.4 EncoderModel"
   ]
  },
  {
   "cell_type": "code",
   "execution_count": 23,
   "metadata": {},
   "outputs": [
    {
     "name": "stdout",
     "output_type": "stream",
     "text": [
      "(64, 37, 512)\n"
     ]
    }
   ],
   "source": [
    "class EncoderModel(keras.layers.Layer):\n",
    "    def __init__(self, num_layers, input_vocab_size, max_length,\n",
    "                d_model, num_heads, dff, rate=0.1):\n",
    "        super(EncoderModel, self).__init__()\n",
    "        self.d_model = d_model\n",
    "        self.num_layers = num_layers\n",
    "        self.max_length = max_length\n",
    "        self.embedding = keras.layers.Embedding(input_vocab_size, self.d_model)\n",
    "\n",
    "        self.dropout = keras.layers.Dropout(rate)\n",
    "        \n",
    "        # position_embedding.shape     : (1, max_length, d_model)\n",
    "        self.position_embedding = get_position_embedding(max_length, self.d_model)\n",
    "        self.encoder_layers = [EncoderLayer(d_model, num_heads, dff, rate)\n",
    "                               for _ in range(self.num_layers)]\n",
    "    def call(self, x, training, encoder_padding_mask):\n",
    "        # x.shape         : (batch_size, input_seq_len)\n",
    "        input_seq_len = tf.shape(x)[1]\n",
    "        tf.debugging.assert_less_equal(input_seq_len, self.max_length,\n",
    "                                      \"input_seq_len should <= self.max_length\")\n",
    "        # assert input_seq_len <= self.max_length\n",
    "        \n",
    "        # x.shape    :(batch_size, input_seq_len, d_model)\n",
    "        x = self.embedding(x)\n",
    "        \n",
    "        # embedding 初始化默认从0-1之间取到的，缩放使得x在0-d_model, \n",
    "        # 使x在加上posi_embed之后本身起的作用大一些\n",
    "        x *= tf.math.sqrt(tf.cast(self.d_model, tf.float32))\n",
    "        \n",
    "        # 维度不对应，第一维1可以自动扩展batch_size份，第二维用切片\n",
    "        x += self.position_embedding[:, :input_seq_len, :]\n",
    "        \n",
    "        x = self.dropout(x, training = training)\n",
    "        \n",
    "        for i in range(self.num_layers):\n",
    "           x =self.encoder_layers[i](x, training, encoder_padding_mask)\n",
    "        \n",
    "        # x.shape: (batch_size, input_seq_len, d_model)\n",
    "        return x\n",
    "    \n",
    "sample_encoder_model = EncoderModel(2, 8500, max_length, 512, 8, 2048)\n",
    "sample_encoder_model_input = tf.random.uniform((64,37))\n",
    "sample_encoder_model_output = sample_encoder_model(\n",
    "    sample_encoder_model_input, \n",
    "    False, encoder_padding_mask = None)\n",
    "print(sample_encoder_model_output.shape)"
   ]
  },
  {
   "cell_type": "markdown",
   "metadata": {},
   "source": [
    "####  3.5 DecoderModel"
   ]
  },
  {
   "cell_type": "code",
   "execution_count": 24,
   "metadata": {},
   "outputs": [
    {
     "name": "stdout",
     "output_type": "stream",
     "text": [
      "(64, 35, 512)\n",
      "dict_keys(['decoder_layer1_attn_1', 'decoder_layer1_attn_2', 'decoder_layer2_attn_1', 'decoder_layer2_attn_2'])\n",
      "(64, 8, 35, 35)\n",
      "(64, 8, 35, 37)\n",
      "(64, 8, 35, 35)\n",
      "(64, 8, 35, 37)\n"
     ]
    }
   ],
   "source": [
    "class DecoderModel(keras.layers.Layer):\n",
    "    def __init__(self, num_layers, target_vocab_size, max_length,\n",
    "                d_model, num_heads, dff, rate=0.1):\n",
    "        super(DecoderModel, self).__init__()\n",
    "        self.d_model = d_model\n",
    "        self.num_layers = num_layers\n",
    "        self.max_length = max_length\n",
    "        self.embedding = keras.layers.Embedding(target_vocab_size, d_model)\n",
    "        \n",
    "        # position_embedding.shape     : (1, max_length, d_model)\n",
    "        self.position_embedding = get_position_embedding(max_length, d_model)\n",
    "        self.dropout = keras.layers.Dropout(rate)\n",
    "        \n",
    "        self.decoder_layers = [DecoderLayer(d_model, num_heads, dff, rate)\n",
    "                               for _ in range(self.num_layers)]\n",
    "    def call(self, x, encoding_outputs, training, \n",
    "             decoder_mask, encoder_decoder_padding_mask):\n",
    "        # x.shape         : (batch_size, output_seq_len)\n",
    "        output_seq_len = tf.shape(x)[1]\n",
    "        tf.debugging.assert_less_equal(output_seq_len, self.max_length,\n",
    "                                      \"output_seq_len should <= self.max_length\")\n",
    "        # assert output_seq_len <= self.max_length\n",
    "        \n",
    "        attention_weights = {}\n",
    "        \n",
    "        # x.shape    :(batch_size, output_seq_len, d_model)\n",
    "        x = self.embedding(x)\n",
    "        \n",
    "        # embedding 初始化默认从0-1之间取到的，缩放使得x在0-d_model, \n",
    "        # 使x在加上posi_embed之后本身起的作用大一些\n",
    "        x *= tf.math.sqrt(tf.cast(self.d_model, tf.float32))\n",
    "        \n",
    "        # 维度不对应，第一维1可以自动扩展batch_size份，第二维用切片\n",
    "        x += self.position_embedding[:, :output_seq_len, :]\n",
    "        \n",
    "        x = self.dropout(x, training = training)\n",
    "        \n",
    "        for i in range(self.num_layers):\n",
    "            x, attn_1, attn_2 = self.decoder_layers[i](\n",
    "                x, encoding_outputs, training, \n",
    "                decoder_mask, encoder_decoder_padding_mask)\n",
    "            attention_weights[\n",
    "                \"decoder_layer{}_attn_1\".format(i+1)] = attn_1\n",
    "            attention_weights[\n",
    "                \"decoder_layer{}_attn_2\".format(i+1)] = attn_2\n",
    "        \n",
    "        # x.shape: (batch_size, output_seq_len, d_model)\n",
    "        return x, attention_weights\n",
    "    \n",
    "sample_decoder_model = DecoderModel(2, 8000, max_length, 512, 8, 2048)\n",
    "sample_decoder_model_input = tf.random.uniform((64,35))\n",
    "sample_decoder_model_output, sample_decoder_model_attr= sample_decoder_model(\n",
    "    sample_decoder_model_input,\n",
    "    sample_encoder_model_output,\n",
    "    training = False,\n",
    "    decoder_mask = None,\n",
    "    encoder_decoder_padding_mask = None,\n",
    ")\n",
    "print(sample_decoder_model_output.shape)\n",
    "print(sample_decoder_model_attr.keys())\n",
    "for key in sample_decoder_model_attr:\n",
    "    print(sample_decoder_model_attr[key].shape)"
   ]
  },
  {
   "cell_type": "markdown",
   "metadata": {},
   "source": [
    "#### 3.5 Transformer"
   ]
  },
  {
   "cell_type": "code",
   "execution_count": 25,
   "metadata": {},
   "outputs": [
    {
     "name": "stdout",
     "output_type": "stream",
     "text": [
      "(64, 31, 8000)\n",
      "decoder_layer1_attn_1 (64, 8, 31, 31)\n",
      "decoder_layer1_attn_2 (64, 8, 31, 26)\n",
      "decoder_layer2_attn_1 (64, 8, 31, 31)\n",
      "decoder_layer2_attn_2 (64, 8, 31, 26)\n"
     ]
    }
   ],
   "source": [
    "# 子类api调用继承问提\n",
    "# 仅最后一层大model继承keras.Model, 其他都继承自keras.layers.Layer\n",
    "class Transformer(keras.Model):\n",
    "    def __init__(self, num_layers, input_vocab_size, target_vocab_size,\n",
    "                max_length, d_model, num_heads, dff, rate = 0.1):\n",
    "        super(Transformer, self).__init__()\n",
    "        \n",
    "        self.encoder_model = EncoderModel(\n",
    "            num_layers, input_vocab_size, max_length,\n",
    "            d_model, num_heads, dff, rate\n",
    "        )\n",
    "        \n",
    "        self.decoder_model = DecoderModel(\n",
    "            num_layers, target_vocab_size, max_length,\n",
    "            d_model, num_heads, dff, rate\n",
    "        )\n",
    "        self.final_layer = keras.layers.Dense(target_vocab_size)\n",
    "    def call(self, inp, tar, training, encoder_padding_mask, \n",
    "            decoder_mask, encoder_decoder_padding_mask):\n",
    "        # encoding_output.shape: (batch_size, input_seq_len, d_model)\n",
    "        encoding_outputs = self.encoder_model(\n",
    "            inp, training, encoder_padding_mask)\n",
    "        # decoding_outputs.shap： (batch_size, output_seq_len, d_model)\n",
    "        decoding_outputs, attention_weights = self.decoder_model(\n",
    "            tar, encoding_outputs, training, decoder_mask, encoder_decoder_padding_mask)\n",
    "        \n",
    "        # prediction.shape: (batch_size, output_seq_len, target_vocab_size)\n",
    "        predictions = self.final_layer(decoding_outputs)\n",
    "        \n",
    "        return predictions, attention_weights\n",
    "\n",
    "sample_transformer = Transformer(2, 8500, 8000, max_length, 512, 8, 2048, rate = 0.1)\n",
    "temp_input = tf.random.uniform((64, 26))\n",
    "temp_target = tf.random.uniform((64, 31))\n",
    "\n",
    "predictions, attention_weights = sample_transformer(temp_input,temp_target, training = False,\n",
    "                                                   encoder_padding_mask = None,\n",
    "                                                   decoder_mask = None,\n",
    "                                                   encoder_decoder_padding_mask = None)\n",
    "\n",
    "print(predictions.shape)\n",
    "for key in attention_weights:\n",
    "    print(key, attention_weights[key].shape)"
   ]
  },
  {
   "cell_type": "code",
   "execution_count": 26,
   "metadata": {},
   "outputs": [],
   "source": [
    "# initialize model\n",
    "# define loss optimizer, learning_rate schedule\n",
    "# train_step\n",
    "# train process"
   ]
  },
  {
   "cell_type": "markdown",
   "metadata": {},
   "source": [
    "### 4 train"
   ]
  },
  {
   "cell_type": "markdown",
   "metadata": {},
   "source": [
    "#### 4.1 initialize model"
   ]
  },
  {
   "cell_type": "code",
   "execution_count": 27,
   "metadata": {},
   "outputs": [],
   "source": [
    "num_layers = 4\n",
    "d_model = 128\n",
    "dff = 512\n",
    "num_heads = 8\n",
    "\n",
    "input_vocab_size = pt_tokenizer.vocab_size + 2\n",
    "target_vocab_size = en_tokenizer.vocab_size + 2\n",
    "\n",
    "dropout_rate = 0.1\n",
    "\n",
    "transformer = Transformer(num_layers, \n",
    "                         input_vocab_size,\n",
    "                         target_vocab_size,\n",
    "                         max_length,\n",
    "                         d_model, num_heads, dff, dropout_rate)"
   ]
  },
  {
   "cell_type": "markdown",
   "metadata": {},
   "source": [
    "#### 4.2 lr & optimizer & loss"
   ]
  },
  {
   "cell_type": "code",
   "execution_count": 28,
   "metadata": {},
   "outputs": [],
   "source": [
    "# 自动调整lr\n",
    "# lr = (d_model ** -0.5) * min(step_num ** (-0.5), \n",
    "#                              step_num * warm_up_steps ** (-1.5))\n",
    "\n",
    "class CustomizedSchedule(keras.optimizers.schedules.LearningRateSchedule):\n",
    "    def __init__(self, d_model, warmup_steps = 4000):\n",
    "        super(CustomizedSchedule, self).__init__()\n",
    "        self.d_model = tf.cast(d_model, tf.float32)\n",
    "        self.warmup_steps = warmup_steps\n",
    "    \n",
    "    def __call__(self, step):\n",
    "        arg1 = tf.math.rsqrt(step)\n",
    "        arg2 = step * (self.warmup_steps ** (-1.5))\n",
    "        arg3 = tf.math.rsqrt(self.d_model)\n",
    "         \n",
    "        return arg3 * tf.math.minimum(arg1, arg2)\n",
    "    \n",
    "learning_rate = CustomizedSchedule(d_model)\n",
    "optimizer = keras.optimizers.Adam(learning_rate, \n",
    "                                  beta_1 = 0.9, \n",
    "                                  beta_2 = 0.98,\n",
    "                                  epsilon=1e-9)"
   ]
  },
  {
   "cell_type": "code",
   "execution_count": 29,
   "metadata": {},
   "outputs": [
    {
     "data": {
      "text/plain": [
       "Text(0.5, 0, 'Train step')"
      ]
     },
     "execution_count": 29,
     "metadata": {},
     "output_type": "execute_result"
    },
    {
     "data": {
      "image/png": "[encoded data removed]",
      "text/plain": [
       "<Figure size 432x288 with 1 Axes>"
      ]
     },
     "metadata": {
      "needs_background": "light"
     },
     "output_type": "display_data"
    }
   ],
   "source": [
    "temp_learning_rate_schedule = CustomizedSchedule(d_model)\n",
    "\n",
    "plt.plot(\n",
    "    temp_learning_rate_schedule(\n",
    "        tf.range(40000, dtype=tf.float32)))\n",
    "plt.ylabel(\"Learning rate\")\n",
    "plt.xlabel(\"Train step\")"
   ]
  },
  {
   "cell_type": "code",
   "execution_count": 30,
   "metadata": {},
   "outputs": [],
   "source": [
    "loss_object = keras.losses.SparseCategoricalCrossentropy(\n",
    "    from_logits=True, reduction = \"none\")\n",
    "\n",
    "def loss_function(real, pred):\n",
    "    # 凡是有padding的地方mask上对应的值都是0\n",
    "    mask = tf.math.logical_not(tf.math.equal(real, 0))\n",
    "    loss_ = loss_object(real, pred)\n",
    "    \n",
    "    mask = tf.cast(mask, dtype=loss_.dtype)\n",
    "    loss_ *= mask\n",
    "    \n",
    "    return tf.reduce_mean(loss_)"
   ]
  },
  {
   "cell_type": "code",
   "execution_count": 35,
   "metadata": {},
   "outputs": [],
   "source": [
    "def create_masks(inp, tar):\n",
    "    \"\"\"\n",
    "    Encoder:\n",
    "        - encoder_padding_mask (self attention of EncoderLayer)\n",
    "    Decoder:\n",
    "        - look_ahead_mask (self attention of DecoderLayer)\n",
    "        - encoder_decoder_padding_mask (en-decoder attention of DecoderLayer)\n",
    "        - decoder_padding_mask (self attention of DecoderLayer)\n",
    "    \"\"\"\n",
    "    encoder_padding_mask = create_padding_mask(inp)\n",
    "    encoder_decoder_padding_mask = create_padding_mask(inp)\n",
    "    \n",
    "    look_ahead_mask = create_look_ahead_mask(tf.shape(tar)[1])\n",
    "    decoder_padding_mask = create_padding_mask(tar)\n",
    "    # 作用在同一层的mask合并（与操作）\n",
    "    decoder_mask = tf.maximum(decoder_padding_mask,\n",
    "                             look_ahead_mask)\n",
    "#     print(encoder_padding_mask.shape)\n",
    "#     print(encoder_decoder_padding_mask.shape)\n",
    "#     print(look_ahead_mask.shape)\n",
    "#     print(decoder_padding_mask.shape)\n",
    "#     print(decoder_mask.shape)\n",
    "    return encoder_padding_mask, decoder_mask, encoder_decoder_padding_mask, "
   ]
  },
  {
   "cell_type": "code",
   "execution_count": 32,
   "metadata": {},
   "outputs": [],
   "source": [
    "temp_inp, temp_tar = iter(train_dataset.take(1)).next()"
   ]
  },
  {
   "cell_type": "code",
   "execution_count": 33,
   "metadata": {},
   "outputs": [
    {
     "name": "stdout",
     "output_type": "stream",
     "text": [
      "(64, 38)\n",
      "(64, 39)\n",
      "(64, 1, 1, 38)\n",
      "(64, 1, 1, 38)\n",
      "(39, 39)\n",
      "(64, 1, 1, 39)\n",
      "(64, 1, 39, 39)\n"
     ]
    },
    {
     "data": {
      "text/plain": [
       "(<tf.Tensor: id=319518, shape=(64, 1, 1, 38), dtype=float32, numpy=\n",
       " array([[[[0., 0., 0., ..., 1., 1., 1.]]],\n",
       " \n",
       " \n",
       "        [[[0., 0., 0., ..., 1., 1., 1.]]],\n",
       " \n",
       " \n",
       "        [[[0., 0., 0., ..., 1., 1., 1.]]],\n",
       " \n",
       " \n",
       "        ...,\n",
       " \n",
       " \n",
       "        [[[0., 0., 0., ..., 1., 1., 1.]]],\n",
       " \n",
       " \n",
       "        [[[0., 0., 0., ..., 1., 1., 1.]]],\n",
       " \n",
       " \n",
       "        [[[0., 0., 0., ..., 1., 1., 1.]]]], dtype=float32)>,\n",
       " <tf.Tensor: id=319550, shape=(64, 1, 39, 39), dtype=float32, numpy=\n",
       " array([[[[0., 1., 1., ..., 1., 1., 1.],\n",
       "          [0., 0., 1., ..., 1., 1., 1.],\n",
       "          [0., 0., 0., ..., 1., 1., 1.],\n",
       "          ...,\n",
       "          [0., 0., 0., ..., 1., 1., 1.],\n",
       "          [0., 0., 0., ..., 1., 1., 1.],\n",
       "          [0., 0., 0., ..., 1., 1., 1.]]],\n",
       " \n",
       " \n",
       "        [[[0., 1., 1., ..., 1., 1., 1.],\n",
       "          [0., 0., 1., ..., 1., 1., 1.],\n",
       "          [0., 0., 0., ..., 1., 1., 1.],\n",
       "          ...,\n",
       "          [0., 0., 0., ..., 1., 1., 1.],\n",
       "          [0., 0., 0., ..., 1., 1., 1.],\n",
       "          [0., 0., 0., ..., 1., 1., 1.]]],\n",
       " \n",
       " \n",
       "        [[[0., 1., 1., ..., 1., 1., 1.],\n",
       "          [0., 0., 1., ..., 1., 1., 1.],\n",
       "          [0., 0., 0., ..., 1., 1., 1.],\n",
       "          ...,\n",
       "          [0., 0., 0., ..., 1., 1., 1.],\n",
       "          [0., 0., 0., ..., 1., 1., 1.],\n",
       "          [0., 0., 0., ..., 1., 1., 1.]]],\n",
       " \n",
       " \n",
       "        ...,\n",
       " \n",
       " \n",
       "        [[[0., 1., 1., ..., 1., 1., 1.],\n",
       "          [0., 0., 1., ..., 1., 1., 1.],\n",
       "          [0., 0., 0., ..., 1., 1., 1.],\n",
       "          ...,\n",
       "          [0., 0., 0., ..., 1., 1., 1.],\n",
       "          [0., 0., 0., ..., 1., 1., 1.],\n",
       "          [0., 0., 0., ..., 1., 1., 1.]]],\n",
       " \n",
       " \n",
       "        [[[0., 1., 1., ..., 1., 1., 1.],\n",
       "          [0., 0., 1., ..., 1., 1., 1.],\n",
       "          [0., 0., 0., ..., 1., 1., 1.],\n",
       "          ...,\n",
       "          [0., 0., 0., ..., 1., 1., 1.],\n",
       "          [0., 0., 0., ..., 1., 1., 1.],\n",
       "          [0., 0., 0., ..., 1., 1., 1.]]],\n",
       " \n",
       " \n",
       "        [[[0., 1., 1., ..., 1., 1., 1.],\n",
       "          [0., 0., 1., ..., 1., 1., 1.],\n",
       "          [0., 0., 0., ..., 1., 1., 1.],\n",
       "          ...,\n",
       "          [0., 0., 0., ..., 1., 1., 1.],\n",
       "          [0., 0., 0., ..., 1., 1., 1.],\n",
       "          [0., 0., 0., ..., 1., 1., 1.]]]], dtype=float32)>,\n",
       " <tf.Tensor: id=319525, shape=(64, 1, 1, 38), dtype=float32, numpy=\n",
       " array([[[[0., 0., 0., ..., 1., 1., 1.]]],\n",
       " \n",
       " \n",
       "        [[[0., 0., 0., ..., 1., 1., 1.]]],\n",
       " \n",
       " \n",
       "        [[[0., 0., 0., ..., 1., 1., 1.]]],\n",
       " \n",
       " \n",
       "        ...,\n",
       " \n",
       " \n",
       "        [[[0., 0., 0., ..., 1., 1., 1.]]],\n",
       " \n",
       " \n",
       "        [[[0., 0., 0., ..., 1., 1., 1.]]],\n",
       " \n",
       " \n",
       "        [[[0., 0., 0., ..., 1., 1., 1.]]]], dtype=float32)>)"
      ]
     },
     "execution_count": 33,
     "metadata": {},
     "output_type": "execute_result"
    }
   ],
   "source": [
    "print(temp_inp.shape)\n",
    "print(temp_tar.shape)\n",
    "create_masks(temp_inp, temp_tar)"
   ]
  },
  {
   "cell_type": "markdown",
   "metadata": {},
   "source": [
    "#### 4.3 train_step"
   ]
  },
  {
   "cell_type": "code",
   "execution_count": 40,
   "metadata": {},
   "outputs": [
    {
     "name": "stdout",
     "output_type": "stream",
     "text": [
      "Epoch 1 Batch 0 Loss 1.3044 Acc 0.2056\n",
      "Epoch 1 Batch 200 Loss 1.4826 Acc 0.2179\n",
      "Epoch 1 Batch 400 Loss 1.4699 Acc 0.2217\n",
      "Epoch 1 Batch 600 Loss 1.4513 Acc 0.2252\n",
      "Epoch 1  Loss 1.4388 Acc 0.2270\n",
      "Time take for 1 epoch: 652.9913294315338 secs \n",
      "\n",
      "Epoch 2 Batch 0 Loss 1.1689 Acc 0.2212\n",
      "Epoch 2 Batch 200 Loss 1.2980 Acc 0.2390\n",
      "Epoch 2 Batch 400 Loss 1.2821 Acc 0.2434\n",
      "Epoch 2 Batch 600 Loss 1.2636 Acc 0.2470\n",
      "Epoch 2  Loss 1.2536 Acc 0.2486\n",
      "Time take for 1 epoch: 66.16948676109314 secs \n",
      "\n",
      "Epoch 3 Batch 0 Loss 0.9997 Acc 0.2459\n",
      "Epoch 3 Batch 200 Loss 1.1393 Acc 0.2586\n",
      "Epoch 3 Batch 400 Loss 1.1295 Acc 0.2623\n",
      "Epoch 3 Batch 600 Loss 1.1162 Acc 0.2653\n",
      "Epoch 3  Loss 1.1084 Acc 0.2666\n",
      "Time take for 1 epoch: 65.98498272895813 secs \n",
      "\n",
      "Epoch 4 Batch 0 Loss 0.8937 Acc 0.2615\n",
      "Epoch 4 Batch 200 Loss 1.0228 Acc 0.2733\n",
      "Epoch 4 Batch 400 Loss 1.0167 Acc 0.2763\n",
      "Epoch 4 Batch 600 Loss 1.0080 Acc 0.2789\n",
      "Epoch 4  Loss 1.0026 Acc 0.2800\n",
      "Time take for 1 epoch: 65.6142749786377 secs \n",
      "\n",
      "Epoch 5 Batch 0 Loss 0.8026 Acc 0.2689\n",
      "Epoch 5 Batch 200 Loss 0.9396 Acc 0.2834\n",
      "Epoch 5 Batch 400 Loss 0.9341 Acc 0.2867\n",
      "Epoch 5 Batch 600 Loss 0.9277 Acc 0.2890\n",
      "Epoch 5  Loss 0.9242 Acc 0.2898\n",
      "Time take for 1 epoch: 65.16360759735107 secs \n",
      "\n",
      "Epoch 6 Batch 0 Loss 0.7302 Acc 0.2747\n",
      "Epoch 6 Batch 200 Loss 0.8694 Acc 0.2932\n",
      "Epoch 6 Batch 400 Loss 0.8669 Acc 0.2957\n",
      "Epoch 6 Batch 600 Loss 0.8606 Acc 0.2981\n",
      "Epoch 6  Loss 0.8576 Acc 0.2989\n",
      "Time take for 1 epoch: 65.70624279975891 secs \n",
      "\n",
      "Epoch 7 Batch 0 Loss 0.6826 Acc 0.2887\n",
      "Epoch 7 Batch 200 Loss 0.8114 Acc 0.3010\n",
      "Epoch 7 Batch 400 Loss 0.8118 Acc 0.3032\n",
      "Epoch 7 Batch 600 Loss 0.8078 Acc 0.3052\n",
      "Epoch 7  Loss 0.8050 Acc 0.3060\n",
      "Time take for 1 epoch: 65.67316770553589 secs \n",
      "\n",
      "Epoch 8 Batch 0 Loss 0.6344 Acc 0.2870\n",
      "Epoch 8 Batch 200 Loss 0.7670 Acc 0.3067\n",
      "Epoch 8 Batch 400 Loss 0.7656 Acc 0.3093\n",
      "Epoch 8 Batch 600 Loss 0.7636 Acc 0.3111\n",
      "Epoch 8  Loss 0.7611 Acc 0.3119\n",
      "Time take for 1 epoch: 65.52465033531189 secs \n",
      "\n",
      "Epoch 9 Batch 0 Loss 0.5947 Acc 0.2952\n",
      "Epoch 9 Batch 200 Loss 0.7271 Acc 0.3126\n",
      "Epoch 9 Batch 400 Loss 0.7257 Acc 0.3152\n",
      "Epoch 9 Batch 600 Loss 0.7230 Acc 0.3171\n",
      "Epoch 9  Loss 0.7216 Acc 0.3177\n",
      "Time take for 1 epoch: 66.53709959983826 secs \n",
      "\n",
      "Epoch 10 Batch 0 Loss 0.5989 Acc 0.2932\n",
      "Epoch 10 Batch 200 Loss 0.6890 Acc 0.3181\n",
      "Epoch 10 Batch 400 Loss 0.6892 Acc 0.3204\n",
      "Epoch 10 Batch 600 Loss 0.6876 Acc 0.3222\n",
      "Epoch 10  Loss 0.6868 Acc 0.3227\n",
      "Time take for 1 epoch: 66.48265385627747 secs \n",
      "\n",
      "Epoch 11 Batch 0 Loss 0.5546 Acc 0.3047\n",
      "Epoch 11 Batch 200 Loss 0.6564 Acc 0.3234\n",
      "Epoch 11 Batch 400 Loss 0.6576 Acc 0.3253\n",
      "Epoch 11 Batch 600 Loss 0.6563 Acc 0.3271\n",
      "Epoch 11  Loss 0.6551 Acc 0.3277\n",
      "Time take for 1 epoch: 66.05320644378662 secs \n",
      "\n",
      "Epoch 12 Batch 0 Loss 0.5040 Acc 0.3117\n",
      "Epoch 12 Batch 200 Loss 0.6272 Acc 0.3270\n",
      "Epoch 12 Batch 400 Loss 0.6284 Acc 0.3295\n",
      "Epoch 12 Batch 600 Loss 0.6279 Acc 0.3311\n",
      "Epoch 12  Loss 0.6271 Acc 0.3316\n",
      "Time take for 1 epoch: 66.03435611724854 secs \n",
      "\n",
      "Epoch 13 Batch 0 Loss 0.4978 Acc 0.3100\n",
      "Epoch 13 Batch 200 Loss 0.6036 Acc 0.3309\n",
      "Epoch 13 Batch 400 Loss 0.6053 Acc 0.3333\n",
      "Epoch 13 Batch 600 Loss 0.6045 Acc 0.3348\n",
      "Epoch 13  Loss 0.6033 Acc 0.3353\n",
      "Time take for 1 epoch: 66.03999352455139 secs \n",
      "\n",
      "Epoch 14 Batch 0 Loss 0.4696 Acc 0.3162\n",
      "Epoch 14 Batch 200 Loss 0.5784 Acc 0.3347\n",
      "Epoch 14 Batch 400 Loss 0.5817 Acc 0.3367\n",
      "Epoch 14 Batch 600 Loss 0.5818 Acc 0.3382\n",
      "Epoch 14  Loss 0.5809 Acc 0.3388\n",
      "Time take for 1 epoch: 65.64852833747864 secs \n",
      "\n",
      "Epoch 15 Batch 0 Loss 0.4667 Acc 0.3092\n",
      "Epoch 15 Batch 200 Loss 0.5588 Acc 0.3382\n",
      "Epoch 15 Batch 400 Loss 0.5620 Acc 0.3400\n",
      "Epoch 15 Batch 600 Loss 0.5612 Acc 0.3417\n",
      "Epoch 15  Loss 0.5603 Acc 0.3422\n",
      "Time take for 1 epoch: 66.05460739135742 secs \n",
      "\n",
      "Epoch 16 Batch 0 Loss 0.4694 Acc 0.3072\n",
      "Epoch 16 Batch 200 Loss 0.5416 Acc 0.3405\n",
      "Epoch 16 Batch 400 Loss 0.5436 Acc 0.3428\n",
      "Epoch 16 Batch 600 Loss 0.5428 Acc 0.3445\n",
      "Epoch 16  Loss 0.5421 Acc 0.3451\n",
      "Time take for 1 epoch: 65.63802695274353 secs \n",
      "\n",
      "Epoch 17 Batch 0 Loss 0.4393 Acc 0.3187\n",
      "Epoch 17 Batch 200 Loss 0.5247 Acc 0.3432\n",
      "Epoch 17 Batch 400 Loss 0.5254 Acc 0.3456\n",
      "Epoch 17 Batch 600 Loss 0.5251 Acc 0.3474\n",
      "Epoch 17  Loss 0.5246 Acc 0.3479\n",
      "Time take for 1 epoch: 65.4111475944519 secs \n",
      "\n",
      "Epoch 18 Batch 0 Loss 0.4164 Acc 0.3232\n",
      "Epoch 18 Batch 200 Loss 0.5082 Acc 0.3459\n",
      "Epoch 18 Batch 400 Loss 0.5100 Acc 0.3482\n",
      "Epoch 18 Batch 600 Loss 0.5096 Acc 0.3500\n",
      "Epoch 18  Loss 0.5091 Acc 0.3505\n",
      "Time take for 1 epoch: 67.52350187301636 secs \n",
      "\n",
      "Epoch 19 Batch 0 Loss 0.4077 Acc 0.3273\n",
      "Epoch 19 Batch 200 Loss 0.4937 Acc 0.3480\n",
      "Epoch 19 Batch 400 Loss 0.4959 Acc 0.3506\n",
      "Epoch 19 Batch 600 Loss 0.4953 Acc 0.3523\n",
      "Epoch 19  Loss 0.4949 Acc 0.3529\n",
      "Time take for 1 epoch: 66.59448719024658 secs \n",
      "\n",
      "Epoch 20 Batch 0 Loss 0.4054 Acc 0.3265\n",
      "Epoch 20 Batch 200 Loss 0.4790 Acc 0.3509\n",
      "Epoch 20 Batch 400 Loss 0.4815 Acc 0.3533\n",
      "Epoch 20 Batch 600 Loss 0.4813 Acc 0.3548\n",
      "Epoch 20  Loss 0.4805 Acc 0.3555\n",
      "Time take for 1 epoch: 66.23629236221313 secs \n",
      "\n"
     ]
    }
   ],
   "source": [
    "# os.environ[\"TF_CPP_MIN_LOG_LEVEL\"]='3'\n",
    "\n",
    "train_loss = keras.metrics.Mean(name = \"train_loss\")\n",
    "train_accuracy = keras.metrics.SparseCategoricalAccuracy(name = \"train_accuracy\")\n",
    "\n",
    "@tf.function\n",
    "def train_step(inp, tar):\n",
    "    # 把tar_inp 输入给decoder, 预测target_real是否正确\n",
    "    tar_inp = tar[:, :-1]\n",
    "    tar_real = tar[:, 1:]\n",
    "    \n",
    "    encoder_padding_mask, decoder_mask, encoder_decoder_padding_mask = create_masks(inp, \n",
    "                                                                                    tar_inp )\n",
    "    with tf.GradientTape() as tape:\n",
    "        predictions, _ = transformer(inp, tar_inp, True,\n",
    "                                    encoder_padding_mask,\n",
    "                                    decoder_mask,\n",
    "                                    encoder_decoder_padding_mask)\n",
    "        \n",
    "        loss = loss_function(tar_real, predictions)\n",
    "    gradients = tape.gradient(loss, transformer.trainable_variables)\n",
    "    optimizer.apply_gradients(zip(gradients, transformer.trainable_variables))\n",
    "    train_loss(loss)\n",
    "    train_accuracy(tar_real, predictions)\n",
    "    \n",
    "epochs = 20\n",
    "for epoch in range(epochs):\n",
    "    start = time.time()\n",
    "    train_loss.reset_states()\n",
    "    train_accuracy.reset_states()\n",
    "    \n",
    "    for (batch, (inp, tar)) in enumerate(train_dataset):\n",
    "        train_step(inp, tar)\n",
    "        if batch % 200 == 0:\n",
    "            print(\"Epoch {} Batch {} Loss {:.4f} Acc {:.4f}\".format(\n",
    "                epoch + 1, batch, train_loss.result(), \n",
    "                train_accuracy.result()))\n",
    "            \n",
    "    print(\"Epoch {}  Loss {:.4f} Acc {:.4f}\".format(\n",
    "                epoch + 1, \n",
    "        train_loss.result(), \n",
    "                train_accuracy.result()))\n",
    "    print(\"Time take for 1 epoch: {} secs \\n\".format(time.time() - start))"
   ]
  },
  {
   "cell_type": "markdown",
   "metadata": {},
   "source": [
    "### 5. Evaluate"
   ]
  },
  {
   "cell_type": "code",
   "execution_count": 41,
   "metadata": {},
   "outputs": [],
   "source": [
    "\"\"\"\\\n",
    "eg:     A B C D -> E F G\n",
    "train:  A B C D, E F G ->F G H\n",
    "eval:   A B C D -> E\n",
    "        A B C D, E -> F\n",
    "        A B C D, E F -> G\n",
    "        A B C D, E F G -> H\n",
    "\"\"\"\n",
    "def evaluate(inp_sentence):\n",
    "    input_id_sentence = [pt_tokenizer.vocab] \\\n",
    "                        + pt_tokenizer.encode(inp_sentence) \\\n",
    "                        + [pt_tokenizer.vocab + 1]\n",
    "    #encoder_input.shape: (1, input_sentence_length)\n",
    "    encoder_input = tf.expand_dims(input_id_sentence, 0)\n",
    "    \n",
    "    # decoder_input.shape: (1,1)\n",
    "    decoder_input = tf.expand_dims([en_tokenizer.vocab_size], 0)\n",
    "    \n",
    "    for i in range(max_length):\n",
    "        encoder_padding_mask, decoder_mask, encoder_decoder_padding_mask = create_masks(\n",
    "            encoder_input, decoder_input)\n",
    "        \n",
    "        #  predictions.shape: (batch_size, output_target_len, target_vocab_size)\n",
    "        predictions, attention_weights = transformer(\n",
    "            encoder_input,\n",
    "            decoder_input,\n",
    "            False,\n",
    "            encoder_padding_mask,\n",
    "            decoder_mask,\n",
    "            encoder_decoder_padding_mask)\n",
    "        # 当单步输出用\n",
    "        predictions = predictions[:, -1 ,:]\n",
    "        predicted_id = tf.cast(tf.argmax(predictions, axis= -1),\n",
    "                              tf.int32)\n",
    "        if tf.equal(predicted_id, en_tokenizer.vocab_size +1):\n",
    "            return tf.squeeze(decoder_input, axis = 0), attention_weights\n",
    "        \n",
    "        decoder_input = tf.concat([decoder_input, predicted_id], axis = -1)\n",
    "    return tf.squeeze(decoder_input, axis = 0), attention_weights "
   ]
  },
  {
   "cell_type": "code",
   "execution_count": 43,
   "metadata": {},
   "outputs": [],
   "source": [
    "def plot_encoder_decoder_attention(attention, input_sentence,\n",
    "                                  result, layer_name):\n",
    "    fig = plt.figure(figsize=(16,8))\n",
    "    input_id_sentence = pt_tokenizer.encoder(input_sentence)\n",
    "    \n",
    "    # attention[layer_name].shape: (batch_size = 1, num_heads, tar_len. input_len)\n",
    "    attention = tf.squeeze(attention[layer_name], axis = 0)\n",
    "    \n",
    "    for head in range(attention.shape[0]):\n",
    "        ax = fig.add_plot(2, 4, head+1)\n",
    "        # 做切片， 因为到最后<end>，就直接返回了，attention并未放到矩阵里\n",
    "        ax.matshow(attention[head][:-1, :])\n",
    "        fontdict = {\"fontsize\":10}\n",
    "        # x轴锚点数目\n",
    "        ax.set_xticks(range(len(input_id_sentence)+2))\n",
    "        ax.set_yticks(range(len(result)))\n",
    "                      \n",
    "        ax.set_ylim(len(result)-1.5, -0.5)\n",
    "        ax.set_xticklabels([\"<start>\"] + [pt_tokenizer.decoder([i]) for i in input_id_sentence],\n",
    "                         fontdict=fontdict, rotation = 90)\n",
    "        # 排除start end\n",
    "        ax.set_yticklabel([en_tokenizer.decoder([i]) for i in result if i < en_tokenizer.vocab_size],\n",
    "                         fontdict=fontdict, rotation = 90)\n",
    "        ax.set_xlabel(\"Head {}\".format(head +1))\n",
    "    plt.tight_layout()\n",
    "    plt.show()"
   ]
  },
  {
   "cell_type": "code",
   "execution_count": null,
   "metadata": {},
   "outputs": [],
   "source": [
    "def translate(input_sentence, layer_name = \"\"):\n",
    "    result, attention_weights = evaluate(input_sentence)\n",
    "    \n",
    "    predicted_sentence = en_tokenizer.decoder(\n",
    "            [i for i in result if i < en_tokenizer.vocab_size])\n",
    "    print(\"Input : {}\".format(input_sentence))\n",
    "    print(\"Predicted translation : {}\".format(predicted_sentence))\n",
    "    \n",
    "    if layer_name:\n",
    "        plot_encoder_decoder_attention(attention_weights, input_sentence,\n",
    "                                      result, layer_name)"
   ]
  }
 ],
 "metadata": {
  "kernelspec": {
   "display_name": "Python 3",
   "language": "python",
   "name": "python3"
  },
  "language_info": {
   "codemirror_mode": {
    "name": "ipython",
    "version": 3
   },
   "file_extension": ".py",
   "mimetype": "text/x-python",
   "name": "python",
   "nbconvert_exporter": "python",
   "pygments_lexer": "ipython3",
   "version": "3.6.7"
  }
 },
 "nbformat": 4,
 "nbformat_minor": 2
}

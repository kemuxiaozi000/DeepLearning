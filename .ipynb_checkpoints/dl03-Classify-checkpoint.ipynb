{
 "cells": [
  {
   "cell_type": "markdown",
   "metadata": {},
   "source": [
    "### 手写1-10 分类"
   ]
  },
  {
   "cell_type": "code",
   "execution_count": 1,
   "metadata": {},
   "outputs": [],
   "source": [
    "import os\n",
    "os.environ['TF_CPP_MIN_LOG_LEVEL']='2'\n",
    "import tensorflow as tf # 导入 TF 库\n",
    "from tensorflow import keras # 导入 TF 子库\n",
    "from tensorflow.keras import layers, optimizers, datasets # 导入 TF 子库"
   ]
  },
  {
   "cell_type": "code",
   "execution_count": 4,
   "metadata": {},
   "outputs": [
    {
     "name": "stdout",
     "output_type": "stream",
     "text": [
      "tf.Tensor(\n",
      "[[1. 0. 0. 0. 0. 0. 0. 0. 0. 0.]\n",
      " [0. 1. 0. 0. 0. 0. 0. 0. 0. 0.]\n",
      " [0. 0. 1. 0. 0. 0. 0. 0. 0. 0.]\n",
      " [0. 0. 0. 1. 0. 0. 0. 0. 0. 0.]], shape=(4, 10), dtype=float32)\n"
     ]
    }
   ],
   "source": [
    "y = tf.constant([0,1,2,3]) # 数字编码\n",
    "y = tf.one_hot(y, depth=10) # one-hot 编码\n",
    "print(y)"
   ]
  },
  {
   "cell_type": "code",
   "execution_count": 20,
   "metadata": {},
   "outputs": [
    {
     "name": "stdout",
     "output_type": "stream",
     "text": [
      "(60000, 28, 28) (60000, 10)\n",
      "0 0 loss: 1.9094833\n",
      "0 599 loss: 0.6473389\n",
      "1 0 loss: 0.4946021\n",
      "1 599 loss: 0.534208\n",
      "2 0 loss: 0.40354034\n",
      "2 599 loss: 0.47756314\n",
      "3 0 loss: 0.3614713\n",
      "3 599 loss: 0.4391111\n",
      "4 0 loss: 0.3344179\n",
      "4 599 loss: 0.40941325\n",
      "5 0 loss: 0.31458706\n",
      "5 599 loss: 0.38550583\n",
      "6 0 loss: 0.29878503\n",
      "6 599 loss: 0.36567688\n",
      "7 0 loss: 0.28550845\n",
      "7 599 loss: 0.34863272\n",
      "8 0 loss: 0.2742657\n",
      "8 599 loss: 0.33375388\n",
      "9 0 loss: 0.26468924\n",
      "9 599 loss: 0.32082027\n"
     ]
    }
   ],
   "source": [
    "# load_data()函数返回两个元组(tuple)对象\n",
    "# 第一个是训练集，第二个是测试集，每个 tuple的第一个元素是多个训练图片数据X，第二个元素是训练图片对应的类别数字Y。\n",
    "# 其中训练集X的大小为(60000,28,28)，代表了 60000 个样本，每个样本由 28 行、28 列构成，由于是灰度图片，故没有 RGB 通道\n",
    "# 训练集Y的大小为(60000, )，代表了这 60000 个样本的标签数字，每个样本标签用一个 0~9 的数字表示。\n",
    "# 测试集X  的大小为(10000,28,28)，代表了10000 张测试图片，Y 的大小为(10000,)\n",
    "(x, y), (x_val, y_val) = datasets.mnist.load_data() \n",
    "x = tf.convert_to_tensor(x, dtype=tf.float32) / 255.\n",
    "y = tf.convert_to_tensor(y, dtype=tf.int32)\n",
    "y = tf.one_hot(y, depth=10)\n",
    "print(x.shape, y.shape)\n",
    "# 构建数据集对象\n",
    "train_dataset = tf.data.Dataset.from_tensor_slices((x, y))\n",
    "# 批量训练\n",
    "train_dataset = train_dataset.batch(100)\n",
    "\n",
    "# 当一个完整的数据集通过了神经网络一次并且返回了一次，这个过程称为一次epoch\n",
    "# batch size = 100, 每100个数据做完后更新模型权重\n",
    "# 每个 Epoch 中发生模型权重更新的次数： 60000/100 = 600\n",
    "\n",
    "model = keras.Sequential([ \n",
    "    layers.Dense(512, activation='relu'),\n",
    "    layers.Dense(256, activation='relu'),\n",
    "    layers.Dense(10)])\n",
    "\n",
    "optimizer = optimizers.SGD(learning_rate=0.001)\n",
    "\n",
    "def train_epoch(epoch):\n",
    "    # Step4.loop\n",
    "    for step, (x, y) in enumerate(train_dataset):\n",
    "        with tf.GradientTape() as tape:\n",
    "            # [b, 28, 28] => [b, 784]\n",
    "            x = tf.reshape(x, (-1, 28*28))\n",
    "            # Step1. compute output\n",
    "            # [b, 784] => [b, 10]\n",
    "            out = model(x)\n",
    "            # Step2. compute loss\n",
    "            loss = tf.reduce_sum(tf.square(out - y)) / x.shape[0]\n",
    "\n",
    "        # Step3. optimize and update w1, w2, w3, b1, b2, b3\n",
    "        grads = tape.gradient(loss, model.trainable_variables)\n",
    "        # w' = w - lr * grad\n",
    "        optimizer.apply_gradients(zip(grads, model.trainable_variables))\n",
    "\n",
    "        if step % 599 == 0:\n",
    "            print(epoch, step, 'loss:', loss.numpy())\n",
    "\n",
    "def train():\n",
    "    for epoch in range(10):\n",
    "        train_epoch(epoch)\n",
    "\n",
    "if __name__ == '__main__':\n",
    "    train()"
   ]
  },
  {
   "cell_type": "code",
   "execution_count": null,
   "metadata": {},
   "outputs": [],
   "source": [
    "0 599 loss: 1.7500073\n",
    "1 599 loss: 1.6735139\n",
    "2 599 loss: 1.6064577\n",
    "3 599 loss: 1.547463\n",
    "4 599 loss: 1.4951135\n",
    "5 599 loss: 1.448603\n",
    "6 599 loss: 1.4072496\n",
    "7 599 loss: 1.370266\n",
    "8 599 loss: 1.337115\n",
    "9 599 loss: 1.3072007"
   ]
  },
  {
   "cell_type": "code",
   "execution_count": null,
   "metadata": {},
   "outputs": [],
   "source": [
    "0 0 loss: 1.9094833\n",
    "0 599 loss: 0.6473389\n",
    "1 0 loss: 0.4946021\n",
    "1 599 loss: 0.534208\n",
    "2 0 loss: 0.40354034\n",
    "2 599 loss: 0.47756314\n",
    "3 0 loss: 0.3614713\n",
    "3 599 loss: 0.4391111\n",
    "4 0 loss: 0.3344179\n",
    "4 599 loss: 0.40941325\n",
    "5 0 loss: 0.31458706\n",
    "5 599 loss: 0.38550583\n",
    "6 0 loss: 0.29878503\n",
    "6 599 loss: 0.36567688\n",
    "7 0 loss: 0.28550845\n",
    "7 599 loss: 0.34863272\n",
    "8 0 loss: 0.2742657\n",
    "8 599 loss: 0.33375388\n",
    "9 0 loss: 0.26468924\n",
    "9 599 loss: 0.32082027"
   ]
  }
 ],
 "metadata": {
  "kernelspec": {
   "display_name": "Python 3",
   "language": "python",
   "name": "python3"
  },
  "language_info": {
   "codemirror_mode": {
    "name": "ipython",
    "version": 3
   },
   "file_extension": ".py",
   "mimetype": "text/x-python",
   "name": "python",
   "nbconvert_exporter": "python",
   "pygments_lexer": "ipython3",
   "version": "3.6.3"
  }
 },
 "nbformat": 4,
 "nbformat_minor": 2
}

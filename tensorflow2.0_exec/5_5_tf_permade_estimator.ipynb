{
 "cells": [
  {
   "cell_type": "code",
   "execution_count": 1,
   "metadata": {},
   "outputs": [
    {
     "data": {
      "text/plain": [
       "'\\n    使用预定义的estimator\\n        BaselineClassifier\\n        LinearClassifier\\n        DNNClassifier   \\n    \\n'"
      ]
     },
     "execution_count": 1,
     "metadata": {},
     "output_type": "execute_result"
    }
   ],
   "source": [
    "\"\"\"\n",
    "    使用预定义的estimator\n",
    "        BaselineClassifier\n",
    "        LinearClassifier\n",
    "        DNNClassifier   \n",
    "    \n",
    "\"\"\""
   ]
  },
  {
   "cell_type": "code",
   "execution_count": 2,
   "metadata": {},
   "outputs": [
    {
     "name": "stdout",
     "output_type": "stream",
     "text": [
      "2.0.0\n",
      "sys.version_info(major=3, minor=6, micro=3, releaselevel='final', serial=0)\n",
      "matplotlib 3.1.2\n",
      "numpy 1.17.4\n",
      "pandas 0.25.3\n",
      "sklearn 0.21.3\n",
      "tensorflow 2.0.0\n",
      "tensorflow_core.keras 2.2.4-tf\n"
     ]
    }
   ],
   "source": [
    "import matplotlib as mpl\n",
    "import matplotlib.pyplot as plt\n",
    "%matplotlib inline\n",
    "import numpy as np\n",
    "import sklearn\n",
    "import pandas as pd\n",
    "import os\n",
    "import sys\n",
    "import time\n",
    "import tensorflow as tf\n",
    "\n",
    "from tensorflow import keras\n",
    "\n",
    "print(tf.__version__)\n",
    "print(sys.version_info)\n",
    "for module in mpl, np, pd, sklearn, tf, keras:\n",
    "    print(module.__name__, module.__version__)"
   ]
  },
  {
   "cell_type": "code",
   "execution_count": 3,
   "metadata": {},
   "outputs": [],
   "source": [
    "train_file = \"./data/titanic/train.csv\"\n",
    "eval_file = \"./data/titanic/eval.csv\"\n",
    "\n",
    "train_df = pd.read_csv(train_file)\n",
    "eval_df = pd.read_csv(eval_file)\n",
    "\n",
    "y_train = train_df.pop(\"survived\")\n",
    "y_eval =  eval_df.pop(\"survived\")\n"
   ]
  },
  {
   "cell_type": "code",
   "execution_count": 8,
   "metadata": {},
   "outputs": [
    {
     "name": "stdout",
     "output_type": "stream",
     "text": [
      "sex ['male' 'female']\n",
      "n_siblings_spouses [1 0 3 4 2 5 8]\n",
      "parch [0 1 2 5 3 4]\n",
      "class ['Third' 'First' 'Second']\n",
      "deck ['unknown' 'C' 'G' 'A' 'B' 'D' 'F' 'E']\n",
      "embark_town ['Southampton' 'Cherbourg' 'Queenstown' 'unknown']\n",
      "alone ['n' 'y']\n"
     ]
    }
   ],
   "source": [
    "# feature_column\n",
    "categorical_columns = [\"sex\", \"n_siblings_spouses\", \"parch\", \n",
    "                       \"class\", \"deck\", \"embark_town\", \"alone\"]\n",
    "numeric_columns = [\"age\",\"fare\" ]\n",
    "feature_columns = []\n",
    "for categorical_column in categorical_columns:\n",
    "    vocab = train_df[categorical_column].unique()\n",
    "    print(categorical_column, vocab)\n",
    "    # 离散特征作成one-hot编码\n",
    "    onehot_describe = tf.feature_column.indicator_column(\n",
    "        tf.feature_column.categorical_column_with_vocabulary_list(\n",
    "            categorical_column, vocab))\n",
    "    feature_columns.append(onehot_describe)\n",
    "    \n",
    "for numeric_column in numeric_columns:\n",
    "    feature_columns.append(\n",
    "        tf.feature_column.numeric_column(\n",
    "            numeric_column, dtype = tf.float32))"
   ]
  },
  {
   "cell_type": "code",
   "execution_count": 5,
   "metadata": {},
   "outputs": [],
   "source": [
    "def make_dataset(data_df, label_df, epochs = 10,# 数据集遍历多少次 ， \n",
    "                 shuffle = True, batch_size = 32):\n",
    "    dataset = tf.data.Dataset.from_tensor_slices(\n",
    "         (dict(data_df),label_df))\n",
    "    if shuffle:\n",
    "        dataset = dataset.shuffle(10000)\n",
    "    dataset = dataset.repeat(epochs).batch(batch_size)\n",
    "    return dataset"
   ]
  },
  {
   "cell_type": "code",
   "execution_count": 10,
   "metadata": {},
   "outputs": [
    {
     "name": "stdout",
     "output_type": "stream",
     "text": [
      "INFO:tensorflow:Using default config.\n",
      "INFO:tensorflow:Using config: {'_model_dir': 'baseline_model', '_tf_random_seed': None, '_save_summary_steps': 100, '_save_checkpoints_steps': None, '_save_checkpoints_secs': 600, '_session_config': allow_soft_placement: true\n",
      "graph_options {\n",
      "  rewrite_options {\n",
      "    meta_optimizer_iterations: ONE\n",
      "  }\n",
      "}\n",
      ", '_keep_checkpoint_max': 5, '_keep_checkpoint_every_n_hours': 10000, '_log_step_count_steps': 100, '_train_distribute': None, '_device_fn': None, '_protocol': None, '_eval_distribute': None, '_experimental_distribute': None, '_experimental_max_worker_delay_secs': None, '_session_creation_timeout_secs': 7200, '_service': None, '_cluster_spec': <tensorflow.python.training.server_lib.ClusterSpec object at 0x000002B1AF427860>, '_task_type': 'worker', '_task_id': 0, '_global_id_in_cluster': 0, '_master': '', '_evaluation_master': '', '_is_chief': True, '_num_ps_replicas': 0, '_num_worker_replicas': 1}\n",
      "INFO:tensorflow:Calling model_fn.\n",
      "INFO:tensorflow:Done calling model_fn.\n",
      "INFO:tensorflow:Create CheckpointSaverHook.\n",
      "INFO:tensorflow:Graph was finalized.\n",
      "INFO:tensorflow:Running local_init_op.\n",
      "INFO:tensorflow:Done running local_init_op.\n",
      "INFO:tensorflow:Saving checkpoints for 0 into baseline_model\\model.ckpt.\n",
      "INFO:tensorflow:loss = 22.18071, step = 0\n",
      "INFO:tensorflow:global_step/sec: 515.464\n",
      "INFO:tensorflow:loss = 23.45376, step = 100 (0.197 sec)\n",
      "INFO:tensorflow:global_step/sec: 833.278\n",
      "INFO:tensorflow:loss = 20.308863, step = 200 (0.119 sec)\n",
      "INFO:tensorflow:global_step/sec: 840.405\n",
      "INFO:tensorflow:loss = 22.588741, step = 300 (0.119 sec)\n",
      "INFO:tensorflow:global_step/sec: 862.064\n",
      "INFO:tensorflow:loss = 21.176563, step = 400 (0.116 sec)\n",
      "INFO:tensorflow:global_step/sec: 826.443\n",
      "INFO:tensorflow:loss = 20.251488, step = 500 (0.121 sec)\n",
      "INFO:tensorflow:global_step/sec: 861.983\n",
      "INFO:tensorflow:loss = 21.632729, step = 600 (0.116 sec)\n",
      "INFO:tensorflow:global_step/sec: 869.655\n",
      "INFO:tensorflow:loss = 22.136646, step = 700 (0.115 sec)\n",
      "INFO:tensorflow:global_step/sec: 877.194\n",
      "INFO:tensorflow:loss = 23.05029, step = 800 (0.114 sec)\n",
      "INFO:tensorflow:global_step/sec: 877.196\n",
      "INFO:tensorflow:loss = 20.704859, step = 900 (0.114 sec)\n",
      "INFO:tensorflow:global_step/sec: 812.998\n",
      "INFO:tensorflow:loss = 23.06828, step = 1000 (0.123 sec)\n",
      "INFO:tensorflow:global_step/sec: 769.109\n",
      "INFO:tensorflow:loss = 22.985664, step = 1100 (0.130 sec)\n",
      "INFO:tensorflow:global_step/sec: 854.834\n",
      "INFO:tensorflow:loss = 20.71088, step = 1200 (0.116 sec)\n",
      "INFO:tensorflow:global_step/sec: 884.986\n",
      "INFO:tensorflow:loss = 21.175549, step = 1300 (0.114 sec)\n",
      "INFO:tensorflow:global_step/sec: 757.579\n",
      "INFO:tensorflow:loss = 21.19727, step = 1400 (0.132 sec)\n",
      "INFO:tensorflow:global_step/sec: 799.986\n",
      "INFO:tensorflow:loss = 21.64789, step = 1500 (0.126 sec)\n",
      "INFO:tensorflow:global_step/sec: 740.739\n",
      "INFO:tensorflow:loss = 19.841171, step = 1600 (0.133 sec)\n",
      "INFO:tensorflow:global_step/sec: 769.219\n",
      "INFO:tensorflow:loss = 22.115776, step = 1700 (0.131 sec)\n",
      "INFO:tensorflow:global_step/sec: 781.264\n",
      "INFO:tensorflow:loss = 19.412588, step = 1800 (0.128 sec)\n",
      "INFO:tensorflow:global_step/sec: 740.745\n",
      "INFO:tensorflow:loss = 19.366732, step = 1900 (0.135 sec)\n",
      "INFO:tensorflow:Saving checkpoints for 1960 into baseline_model\\model.ckpt.\n",
      "INFO:tensorflow:Loss for final step: 8.631955.\n"
     ]
    },
    {
     "data": {
      "text/plain": [
       "<tensorflow_estimator.python.estimator.canned.baseline.BaselineClassifier at 0x2b1af427518>"
      ]
     },
     "execution_count": 10,
     "metadata": {},
     "output_type": "execute_result"
    }
   ],
   "source": [
    "output_dir = \"baseline_model\"\n",
    "if not os.path.exists(output_dir):\n",
    "    os.mkdir(output_dir)\n",
    "baseline_estimator = tf.compat.v1.estimator.BaselineClassifier(\n",
    "    model_dir=output_dir,\n",
    "    n_classes=2)\n",
    "# baseline_estimator = tf.estimator.BaselineClassifier(\n",
    "#     model_dir = output_dir, \n",
    "#     n_class = 2)\n",
    "baseline_estimator.train(input_fn = lambda: make_dataset(\n",
    "    train_df, y_train, epochs = 100))\n",
    "    "
   ]
  },
  {
   "cell_type": "code",
   "execution_count": 14,
   "metadata": {},
   "outputs": [
    {
     "name": "stdout",
     "output_type": "stream",
     "text": [
      "INFO:tensorflow:Calling model_fn.\n",
      "WARNING:tensorflow:From D:\\software\\Anaconda\\envs\\tensorflow200\\lib\\site-packages\\tensorflow_core\\python\\ops\\metrics_impl.py:2026: div (from tensorflow.python.ops.math_ops) is deprecated and will be removed in a future version.\n",
      "Instructions for updating:\n",
      "Deprecated in favor of operator or tf.math.divide.\n",
      "WARNING:tensorflow:Trapezoidal rule is known to produce incorrect PR-AUCs; please switch to \"careful_interpolation\" instead.\n",
      "WARNING:tensorflow:Trapezoidal rule is known to produce incorrect PR-AUCs; please switch to \"careful_interpolation\" instead.\n",
      "INFO:tensorflow:Done calling model_fn.\n",
      "INFO:tensorflow:Starting evaluation at 2020-02-07T18:08:57Z\n",
      "INFO:tensorflow:Graph was finalized.\n",
      "INFO:tensorflow:Restoring parameters from baseline_model\\model.ckpt-1992\n",
      "INFO:tensorflow:Running local_init_op.\n",
      "INFO:tensorflow:Done running local_init_op.\n",
      "INFO:tensorflow:Finished evaluation at 2020-02-07-18:08:58\n",
      "INFO:tensorflow:Saving dict for global step 1992: accuracy = 0.625, accuracy_baseline = 0.625, auc = 0.5, auc_precision_recall = 0.6875, average_loss = 0.6616976, global_step = 1992, label/mean = 0.375, loss = 12.477727, precision = 0.0, prediction/mean = 0.3829582, recall = 0.0\n",
      "INFO:tensorflow:Saving 'checkpoint_path' summary for global step 1992: baseline_model\\model.ckpt-1992\n"
     ]
    },
    {
     "data": {
      "text/plain": [
       "{'accuracy': 0.625,\n",
       " 'accuracy_baseline': 0.625,\n",
       " 'auc': 0.5,\n",
       " 'auc_precision_recall': 0.6875,\n",
       " 'average_loss': 0.6616976,\n",
       " 'global_step': 1992,\n",
       " 'label/mean': 0.375,\n",
       " 'loss': 12.477727,\n",
       " 'precision': 0.0,\n",
       " 'prediction/mean': 0.3829582,\n",
       " 'recall': 0.0}"
      ]
     },
     "execution_count": 14,
     "metadata": {},
     "output_type": "execute_result"
    }
   ],
   "source": [
    "baseline_estimator.evaluate(input_fn = lambda: make_dataset(\n",
    "    eval_df, y_eval, epochs = 1, shuffle = False, batch_size = 20))"
   ]
  },
  {
   "cell_type": "code",
   "execution_count": 20,
   "metadata": {},
   "outputs": [
    {
     "name": "stdout",
     "output_type": "stream",
     "text": [
      "INFO:tensorflow:Using default config.\n",
      "INFO:tensorflow:Using config: {'_model_dir': 'linear_model', '_tf_random_seed': None, '_save_summary_steps': 100, '_save_checkpoints_steps': None, '_save_checkpoints_secs': 600, '_session_config': allow_soft_placement: true\n",
      "graph_options {\n",
      "  rewrite_options {\n",
      "    meta_optimizer_iterations: ONE\n",
      "  }\n",
      "}\n",
      ", '_keep_checkpoint_max': 5, '_keep_checkpoint_every_n_hours': 10000, '_log_step_count_steps': 100, '_train_distribute': None, '_device_fn': None, '_protocol': None, '_eval_distribute': None, '_experimental_distribute': None, '_experimental_max_worker_delay_secs': None, '_session_creation_timeout_secs': 7200, '_service': None, '_cluster_spec': <tensorflow.python.training.server_lib.ClusterSpec object at 0x000002B1AF551908>, '_task_type': 'worker', '_task_id': 0, '_global_id_in_cluster': 0, '_master': '', '_evaluation_master': '', '_is_chief': True, '_num_ps_replicas': 0, '_num_worker_replicas': 1}\n",
      "INFO:tensorflow:Calling model_fn.\n",
      "WARNING:tensorflow:Layer linear/linear_model is casting an input tensor from dtype float64 to the layer's dtype of float32, which is new behavior in TensorFlow 2.  The layer has dtype float32 because it's dtype defaults to floatx.\n",
      "\n",
      "If you intended to run this layer in float32, you can safely ignore this warning. If in doubt, this warning is likely only an issue if you are porting a TensorFlow 1.X model to TensorFlow 2.\n",
      "\n",
      "To change all layers to have dtype float64 by default, call `tf.keras.backend.set_floatx('float64')`. To change just this layer, pass dtype='float64' to the layer constructor. If you are the author of this layer, you can disable autocasting by passing autocast=False to the base Layer constructor.\n",
      "\n",
      "INFO:tensorflow:Done calling model_fn.\n",
      "INFO:tensorflow:Create CheckpointSaverHook.\n",
      "INFO:tensorflow:Graph was finalized.\n",
      "INFO:tensorflow:Restoring parameters from linear_model\\model.ckpt-1960\n",
      "INFO:tensorflow:Running local_init_op.\n",
      "INFO:tensorflow:Done running local_init_op.\n",
      "INFO:tensorflow:Saving checkpoints for 1960 into linear_model\\model.ckpt.\n",
      "INFO:tensorflow:loss = 0.2251621, step = 1960\n",
      "INFO:tensorflow:global_step/sec: 230.415\n",
      "INFO:tensorflow:loss = 0.28799692, step = 2060 (0.435 sec)\n",
      "INFO:tensorflow:global_step/sec: 598.805\n",
      "INFO:tensorflow:loss = 0.41238046, step = 2160 (0.167 sec)\n",
      "INFO:tensorflow:global_step/sec: 649.346\n",
      "INFO:tensorflow:loss = 0.5564569, step = 2260 (0.154 sec)\n",
      "INFO:tensorflow:global_step/sec: 625.001\n",
      "INFO:tensorflow:loss = 0.312487, step = 2360 (0.160 sec)\n",
      "INFO:tensorflow:global_step/sec: 645.162\n",
      "INFO:tensorflow:loss = 0.37158453, step = 2460 (0.155 sec)\n",
      "INFO:tensorflow:global_step/sec: 645.156\n",
      "INFO:tensorflow:loss = 0.3519628, step = 2560 (0.155 sec)\n",
      "INFO:tensorflow:global_step/sec: 649.349\n",
      "INFO:tensorflow:loss = 0.408063, step = 2660 (0.154 sec)\n",
      "INFO:tensorflow:global_step/sec: 632.914\n",
      "INFO:tensorflow:loss = 0.4085744, step = 2760 (0.158 sec)\n",
      "INFO:tensorflow:global_step/sec: 617.286\n",
      "INFO:tensorflow:loss = 0.5808061, step = 2860 (0.164 sec)\n",
      "INFO:tensorflow:global_step/sec: 478.469\n",
      "INFO:tensorflow:loss = 0.35493875, step = 2960 (0.208 sec)\n",
      "INFO:tensorflow:global_step/sec: 641.024\n",
      "INFO:tensorflow:loss = 0.49309567, step = 3060 (0.155 sec)\n",
      "INFO:tensorflow:global_step/sec: 636.942\n",
      "INFO:tensorflow:loss = 0.17066202, step = 3160 (0.157 sec)\n",
      "INFO:tensorflow:global_step/sec: 653.594\n",
      "INFO:tensorflow:loss = 0.3862243, step = 3260 (0.153 sec)\n",
      "INFO:tensorflow:global_step/sec: 636.945\n",
      "INFO:tensorflow:loss = 0.41876858, step = 3360 (0.157 sec)\n",
      "INFO:tensorflow:global_step/sec: 621.116\n",
      "INFO:tensorflow:loss = 0.43770775, step = 3460 (0.161 sec)\n",
      "INFO:tensorflow:global_step/sec: 645.158\n",
      "INFO:tensorflow:loss = 0.5158299, step = 3560 (0.159 sec)\n",
      "INFO:tensorflow:global_step/sec: 609.76\n",
      "INFO:tensorflow:loss = 0.41350985, step = 3660 (0.159 sec)\n",
      "INFO:tensorflow:global_step/sec: 645.161\n",
      "INFO:tensorflow:loss = 0.48998642, step = 3760 (0.156 sec)\n",
      "INFO:tensorflow:global_step/sec: 645.16\n",
      "INFO:tensorflow:loss = 0.41055995, step = 3860 (0.155 sec)\n",
      "INFO:tensorflow:Saving checkpoints for 3920 into linear_model\\model.ckpt.\n",
      "INFO:tensorflow:Loss for final step: 0.22839002.\n"
     ]
    },
    {
     "data": {
      "text/plain": [
       "<tensorflow_estimator.python.estimator.canned.linear.LinearClassifierV2 at 0x2b1af551a58>"
      ]
     },
     "execution_count": 20,
     "metadata": {},
     "output_type": "execute_result"
    }
   ],
   "source": [
    "linear_output_dir = \"linear_model\"\n",
    "if not os.path.exists(linear_output_dir):\n",
    "    os.mkdir(linear_output_dir)\n",
    "linear_estimator = tf.estimator.LinearClassifier(\n",
    "    model_dir=linear_output_dir,\n",
    "    n_classes=2,\n",
    "    feature_columns = feature_columns)\n",
    "linear_estimator.train(input_fn = lambda: make_dataset(\n",
    "    train_df, y_train, epochs = 100))"
   ]
  },
  {
   "cell_type": "code",
   "execution_count": 21,
   "metadata": {},
   "outputs": [
    {
     "name": "stdout",
     "output_type": "stream",
     "text": [
      "INFO:tensorflow:Calling model_fn.\n",
      "WARNING:tensorflow:Layer linear/linear_model is casting an input tensor from dtype float64 to the layer's dtype of float32, which is new behavior in TensorFlow 2.  The layer has dtype float32 because it's dtype defaults to floatx.\n",
      "\n",
      "If you intended to run this layer in float32, you can safely ignore this warning. If in doubt, this warning is likely only an issue if you are porting a TensorFlow 1.X model to TensorFlow 2.\n",
      "\n",
      "To change all layers to have dtype float64 by default, call `tf.keras.backend.set_floatx('float64')`. To change just this layer, pass dtype='float64' to the layer constructor. If you are the author of this layer, you can disable autocasting by passing autocast=False to the base Layer constructor.\n",
      "\n",
      "INFO:tensorflow:Done calling model_fn.\n",
      "INFO:tensorflow:Starting evaluation at 2020-02-07T21:55:45Z\n",
      "INFO:tensorflow:Graph was finalized.\n",
      "INFO:tensorflow:Restoring parameters from linear_model\\model.ckpt-3920\n",
      "INFO:tensorflow:Running local_init_op.\n",
      "INFO:tensorflow:Done running local_init_op.\n",
      "INFO:tensorflow:Finished evaluation at 2020-02-07-21:55:47\n",
      "INFO:tensorflow:Saving dict for global step 3920: accuracy = 0.7878788, accuracy_baseline = 0.625, auc = 0.83556783, auc_precision_recall = 0.77806383, average_loss = 0.46844694, global_step = 3920, label/mean = 0.375, loss = 0.45171642, precision = 0.7171717, prediction/mean = 0.37581217, recall = 0.7171717\n",
      "INFO:tensorflow:Saving 'checkpoint_path' summary for global step 3920: linear_model\\model.ckpt-3920\n"
     ]
    },
    {
     "data": {
      "text/plain": [
       "{'accuracy': 0.7878788,\n",
       " 'accuracy_baseline': 0.625,\n",
       " 'auc': 0.83556783,\n",
       " 'auc_precision_recall': 0.77806383,\n",
       " 'average_loss': 0.46844694,\n",
       " 'global_step': 3920,\n",
       " 'label/mean': 0.375,\n",
       " 'loss': 0.45171642,\n",
       " 'precision': 0.7171717,\n",
       " 'prediction/mean': 0.37581217,\n",
       " 'recall': 0.7171717}"
      ]
     },
     "execution_count": 21,
     "metadata": {},
     "output_type": "execute_result"
    }
   ],
   "source": [
    " linear_estimator.evaluate(input_fn = lambda: make_dataset(\n",
    "    eval_df, y_eval, epochs = 1, shuffle = False))"
   ]
  },
  {
   "cell_type": "code",
   "execution_count": 28,
   "metadata": {},
   "outputs": [
    {
     "name": "stdout",
     "output_type": "stream",
     "text": [
      "INFO:tensorflow:Using default config.\n",
      "INFO:tensorflow:Using config: {'_model_dir': './dnn_model', '_tf_random_seed': None, '_save_summary_steps': 100, '_save_checkpoints_steps': None, '_save_checkpoints_secs': 600, '_session_config': allow_soft_placement: true\n",
      "graph_options {\n",
      "  rewrite_options {\n",
      "    meta_optimizer_iterations: ONE\n",
      "  }\n",
      "}\n",
      ", '_keep_checkpoint_max': 5, '_keep_checkpoint_every_n_hours': 10000, '_log_step_count_steps': 100, '_train_distribute': None, '_device_fn': None, '_protocol': None, '_eval_distribute': None, '_experimental_distribute': None, '_experimental_max_worker_delay_secs': None, '_session_creation_timeout_secs': 7200, '_service': None, '_cluster_spec': <tensorflow.python.training.server_lib.ClusterSpec object at 0x000002B1B24B04A8>, '_task_type': 'worker', '_task_id': 0, '_global_id_in_cluster': 0, '_master': '', '_evaluation_master': '', '_is_chief': True, '_num_ps_replicas': 0, '_num_worker_replicas': 1}\n",
      "INFO:tensorflow:Calling model_fn.\n",
      "WARNING:tensorflow:Layer dnn is casting an input tensor from dtype float64 to the layer's dtype of float32, which is new behavior in TensorFlow 2.  The layer has dtype float32 because it's dtype defaults to floatx.\n",
      "\n",
      "If you intended to run this layer in float32, you can safely ignore this warning. If in doubt, this warning is likely only an issue if you are porting a TensorFlow 1.X model to TensorFlow 2.\n",
      "\n",
      "To change all layers to have dtype float64 by default, call `tf.keras.backend.set_floatx('float64')`. To change just this layer, pass dtype='float64' to the layer constructor. If you are the author of this layer, you can disable autocasting by passing autocast=False to the base Layer constructor.\n",
      "\n",
      "INFO:tensorflow:Done calling model_fn.\n",
      "INFO:tensorflow:Create CheckpointSaverHook.\n",
      "INFO:tensorflow:Graph was finalized.\n",
      "INFO:tensorflow:Running local_init_op.\n",
      "INFO:tensorflow:Done running local_init_op.\n",
      "INFO:tensorflow:Saving checkpoints for 0 into ./dnn_model\\model.ckpt.\n",
      "INFO:tensorflow:loss = 1.3409066, step = 0\n",
      "INFO:tensorflow:global_step/sec: 304.913\n",
      "INFO:tensorflow:loss = 0.5574469, step = 100 (0.329 sec)\n",
      "INFO:tensorflow:global_step/sec: 537.637\n",
      "INFO:tensorflow:loss = 0.40206608, step = 200 (0.186 sec)\n",
      "INFO:tensorflow:global_step/sec: 531.914\n",
      "INFO:tensorflow:loss = 0.57339156, step = 300 (0.188 sec)\n",
      "INFO:tensorflow:global_step/sec: 537.635\n",
      "INFO:tensorflow:loss = 0.40067586, step = 400 (0.186 sec)\n",
      "INFO:tensorflow:global_step/sec: 531.916\n",
      "INFO:tensorflow:loss = 0.40629387, step = 500 (0.188 sec)\n",
      "INFO:tensorflow:global_step/sec: 523.558\n",
      "INFO:tensorflow:loss = 0.5193229, step = 600 (0.191 sec)\n",
      "INFO:tensorflow:global_step/sec: 452.487\n",
      "INFO:tensorflow:loss = 0.46651882, step = 700 (0.221 sec)\n",
      "INFO:tensorflow:global_step/sec: 540.543\n",
      "INFO:tensorflow:loss = 0.5484254, step = 800 (0.185 sec)\n",
      "INFO:tensorflow:global_step/sec: 531.916\n",
      "INFO:tensorflow:loss = 0.36725903, step = 900 (0.188 sec)\n",
      "INFO:tensorflow:global_step/sec: 549.45\n",
      "INFO:tensorflow:loss = 0.4729337, step = 1000 (0.182 sec)\n",
      "INFO:tensorflow:global_step/sec: 512.82\n",
      "INFO:tensorflow:loss = 0.58152163, step = 1100 (0.195 sec)\n",
      "INFO:tensorflow:global_step/sec: 507.617\n",
      "INFO:tensorflow:loss = 0.46526867, step = 1200 (0.197 sec)\n",
      "INFO:tensorflow:global_step/sec: 523.556\n",
      "INFO:tensorflow:loss = 0.3186655, step = 1300 (0.191 sec)\n",
      "INFO:tensorflow:global_step/sec: 534.759\n",
      "INFO:tensorflow:loss = 0.4177534, step = 1400 (0.187 sec)\n",
      "INFO:tensorflow:global_step/sec: 531.918\n",
      "INFO:tensorflow:loss = 0.49262568, step = 1500 (0.188 sec)\n",
      "INFO:tensorflow:global_step/sec: 512.819\n",
      "INFO:tensorflow:loss = 0.45917588, step = 1600 (0.195 sec)\n",
      "INFO:tensorflow:global_step/sec: 499.995\n",
      "INFO:tensorflow:loss = 0.45568883, step = 1700 (0.201 sec)\n",
      "INFO:tensorflow:global_step/sec: 456.624\n",
      "INFO:tensorflow:loss = 0.35072505, step = 1800 (0.218 sec)\n",
      "INFO:tensorflow:global_step/sec: 515.461\n",
      "INFO:tensorflow:loss = 0.34333745, step = 1900 (0.195 sec)\n",
      "INFO:tensorflow:Saving checkpoints for 1960 into ./dnn_model\\model.ckpt.\n",
      "INFO:tensorflow:Loss for final step: 0.6862536.\n"
     ]
    },
    {
     "data": {
      "text/plain": [
       "<tensorflow_estimator.python.estimator.canned.dnn.DNNClassifierV2 at 0x2b1b24b06a0>"
      ]
     },
     "execution_count": 28,
     "metadata": {},
     "output_type": "execute_result"
    }
   ],
   "source": [
    "dnn_output_dir = \"./dnn_model\"\n",
    "if not os.path.exists(dnn_output_dir):\n",
    "    os.mkdir(dnn_output_dir)\n",
    "dnn_estimator = tf.estimator.DNNClassifier(\n",
    "    model_dir=dnn_output_dir,\n",
    "    n_classes=2,\n",
    "    feature_columns = feature_columns,\n",
    "    hidden_units = [128,128],\n",
    "    activation_fn = tf.nn.relu,\n",
    "    optimizer = \"Adam\")\n",
    "dnn_estimator.train(input_fn = lambda: make_dataset(\n",
    "    train_df, y_train, epochs = 100))"
   ]
  },
  {
   "cell_type": "code",
   "execution_count": 29,
   "metadata": {},
   "outputs": [
    {
     "name": "stdout",
     "output_type": "stream",
     "text": [
      "INFO:tensorflow:Calling model_fn.\n",
      "WARNING:tensorflow:Layer dnn is casting an input tensor from dtype float64 to the layer's dtype of float32, which is new behavior in TensorFlow 2.  The layer has dtype float32 because it's dtype defaults to floatx.\n",
      "\n",
      "If you intended to run this layer in float32, you can safely ignore this warning. If in doubt, this warning is likely only an issue if you are porting a TensorFlow 1.X model to TensorFlow 2.\n",
      "\n",
      "To change all layers to have dtype float64 by default, call `tf.keras.backend.set_floatx('float64')`. To change just this layer, pass dtype='float64' to the layer constructor. If you are the author of this layer, you can disable autocasting by passing autocast=False to the base Layer constructor.\n",
      "\n",
      "INFO:tensorflow:Done calling model_fn.\n",
      "INFO:tensorflow:Starting evaluation at 2020-02-07T22:03:21Z\n",
      "INFO:tensorflow:Graph was finalized.\n",
      "INFO:tensorflow:Restoring parameters from ./dnn_model\\model.ckpt-1960\n",
      "INFO:tensorflow:Running local_init_op.\n",
      "INFO:tensorflow:Done running local_init_op.\n",
      "INFO:tensorflow:Finished evaluation at 2020-02-07-22:03:22\n",
      "INFO:tensorflow:Saving dict for global step 1960: accuracy = 0.79924244, accuracy_baseline = 0.625, auc = 0.8419039, auc_precision_recall = 0.80093896, average_loss = 0.49841425, global_step = 1960, label/mean = 0.375, loss = 0.47447982, precision = 0.7169811, prediction/mean = 0.3854561, recall = 0.7676768\n",
      "INFO:tensorflow:Saving 'checkpoint_path' summary for global step 1960: ./dnn_model\\model.ckpt-1960\n"
     ]
    },
    {
     "data": {
      "text/plain": [
       "{'accuracy': 0.79924244,\n",
       " 'accuracy_baseline': 0.625,\n",
       " 'auc': 0.8419039,\n",
       " 'auc_precision_recall': 0.80093896,\n",
       " 'average_loss': 0.49841425,\n",
       " 'global_step': 1960,\n",
       " 'label/mean': 0.375,\n",
       " 'loss': 0.47447982,\n",
       " 'precision': 0.7169811,\n",
       " 'prediction/mean': 0.3854561,\n",
       " 'recall': 0.7676768}"
      ]
     },
     "execution_count": 29,
     "metadata": {},
     "output_type": "execute_result"
    }
   ],
   "source": [
    "dnn_estimator.evaluate(input_fn = lambda: make_dataset(\n",
    "    eval_df, y_eval, epochs = 1, shuffle = False))"
   ]
  },
  {
   "cell_type": "code",
   "execution_count": null,
   "metadata": {},
   "outputs": [],
   "source": []
  }
 ],
 "metadata": {
  "kernelspec": {
   "display_name": "Python 3",
   "language": "python",
   "name": "python3"
  },
  "language_info": {
   "codemirror_mode": {
    "name": "ipython",
    "version": 3
   },
   "file_extension": ".py",
   "mimetype": "text/x-python",
   "name": "python",
   "nbconvert_exporter": "python",
   "pygments_lexer": "ipython3",
   "version": "3.6.3"
  }
 },
 "nbformat": 4,
 "nbformat_minor": 2
}

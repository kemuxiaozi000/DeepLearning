{
 "cells": [
  {
   "cell_type": "code",
   "execution_count": 13,
   "metadata": {
    "_cell_guid": "79c7e3d0-c299-4dcb-8224-4455121ee9b0",
    "_uuid": "d629ff2d2480ee46fbb7e2d37f6b5fab8052498a"
   },
   "outputs": [
    {
     "name": "stdout",
     "output_type": "stream",
     "text": [
      "2.0.0-beta1\n",
      "sys.version_info(major=3, minor=6, micro=7, releaselevel='final', serial=0)\n",
      "matplotlib 3.1.2\n",
      "numpy 1.17.3\n",
      "pandas 0.25.3\n",
      "sklearn 0.22\n",
      "tensorflow 2.0.0-beta1\n",
      "tensorflow.python.keras.api._v2.keras 2.2.4-tf\n"
     ]
    }
   ],
   "source": [
    "%matplotlib inline\n",
    "import matplotlib as mpl\n",
    "import matplotlib.pyplot as plt\n",
    "import numpy as np\n",
    "import os\n",
    "import pandas as pd\n",
    "import sklearn\n",
    "import sys\n",
    "import tensorflow as tf\n",
    "import time\n",
    "\n",
    "from tensorflow import keras\n",
    "\n",
    "print(tf.__version__)\n",
    "print(sys.version_info)\n",
    "for module in mpl, np, pd, sklearn, tf, keras:\n",
    "    print(module.__name__, module.__version__)"
   ]
  },
  {
   "cell_type": "code",
   "execution_count": 14,
   "metadata": {},
   "outputs": [
    {
     "name": "stdout",
     "output_type": "stream",
     "text": [
      "[('./data/cifar10/train\\\\1.png', 'frog'),\n",
      " ('./data/cifar10/train\\\\2.png', 'truck'),\n",
      " ('./data/cifar10/train\\\\3.png', 'truck'),\n",
      " ('./data/cifar10/train\\\\4.png', 'deer'),\n",
      " ('./data/cifar10/train\\\\5.png', 'automobile')]\n",
      "[('./data/cifar10/test\\\\1.png', 'cat'),\n",
      " ('./data/cifar10/test\\\\2.png', 'cat'),\n",
      " ('./data/cifar10/test\\\\3.png', 'cat'),\n",
      " ('./data/cifar10/test\\\\4.png', 'cat'),\n",
      " ('./data/cifar10/test\\\\5.png', 'cat')]\n",
      "50000 300000\n"
     ]
    }
   ],
   "source": [
    "class_names = [\n",
    "    \"airplane\",\n",
    "    \"automobile\" ,\n",
    "    \"bird\", \n",
    "    \"cat\", \n",
    "    \"deer\", \n",
    "    \"dog\", \n",
    "    \"frog\" ,\n",
    "    \"horse\", \n",
    "    \"ship\", \n",
    "    \"truck\",\n",
    "]\n",
    "train_labels_file = \"./data/cifar10/trainLabels.csv\"\n",
    "test_csv_file = \"./data/cifar10/sampleSubmission.csv\"\n",
    "train_folder = \"./data/cifar10/train\"\n",
    "test_folder = \"./data/cifar10/test\"\n",
    "\n",
    "def parse_csv_file(filepath, folder):\n",
    "    \"\"\"Parse csv files into (filename(path),label) format\"\"\"\n",
    "    results = []\n",
    "    with open(filepath, \"r\") as f:\n",
    "        lines = f.readlines()[1:]\n",
    "    for line in lines:\n",
    "        image_id, label_str = line.strip(\"\\n\").split(\",\")\n",
    "        image_full_path = os.path.join(folder, image_id + \".png\")\n",
    "        results.append((image_full_path, label_str))\n",
    "    return results\n",
    "\n",
    "train_labels_info = parse_csv_file(train_labels_file, train_folder)\n",
    "test_csv_info = parse_csv_file(test_csv_file, test_folder)\n",
    "\n",
    "import pprint\n",
    "pprint.pprint(train_labels_info[0:5])\n",
    "pprint.pprint(test_csv_info[0:5])\n",
    "print(len(train_labels_info), len(test_csv_info))"
   ]
  },
  {
   "cell_type": "code",
   "execution_count": 15,
   "metadata": {},
   "outputs": [
    {
     "name": "stdout",
     "output_type": "stream",
     "text": [
      "                     filepath       class\n",
      "0  ./data/cifar10/train\\1.png        frog\n",
      "1  ./data/cifar10/train\\2.png       truck\n",
      "2  ./data/cifar10/train\\3.png       truck\n",
      "3  ./data/cifar10/train\\4.png        deer\n",
      "4  ./data/cifar10/train\\5.png  automobile\n",
      "                         filepath       class\n",
      "0  ./data/cifar10/train\\45001.png       horse\n",
      "1  ./data/cifar10/train\\45002.png  automobile\n",
      "2  ./data/cifar10/train\\45003.png        deer\n",
      "3  ./data/cifar10/train\\45004.png  automobile\n",
      "4  ./data/cifar10/train\\45005.png    airplane\n",
      "                    filepath class\n",
      "0  ./data/cifar10/test\\1.png   cat\n",
      "1  ./data/cifar10/test\\2.png   cat\n",
      "2  ./data/cifar10/test\\3.png   cat\n",
      "3  ./data/cifar10/test\\4.png   cat\n",
      "4  ./data/cifar10/test\\5.png   cat\n"
     ]
    }
   ],
   "source": [
    "train_df = pd.DataFrame(train_labels_info[0:45000])\n",
    "valid_df = pd.DataFrame(train_labels_info[45000:])\n",
    "test_df = pd.DataFrame(test_csv_info)\n",
    "\n",
    "train_df.columns = [\"filepath\", \"class\"]\n",
    "valid_df.columns = [\"filepath\", \"class\"]\n",
    "test_df.columns = [\"filepath\", \"class\"]\n",
    "\n",
    "print(train_df.head())\n",
    "print(valid_df.head())\n",
    "print(test_df.head())"
   ]
  },
  {
   "cell_type": "code",
   "execution_count": 16,
   "metadata": {},
   "outputs": [
    {
     "name": "stdout",
     "output_type": "stream",
     "text": [
      "Found 45000 validated image filenames belonging to 10 classes.\n",
      "Found 5000 validated image filenames belonging to 10 classes.\n",
      "45000 5000\n"
     ]
    }
   ],
   "source": [
    "height = 32\n",
    "width = 32\n",
    "channels = 3\n",
    "batch_size = 32\n",
    "num_classes = 10\n",
    "\n",
    "train_datagen = keras.preprocessing.image.ImageDataGenerator(\n",
    "    rescale = 1./255,\n",
    "    rotation_range = 40,\n",
    "    width_shift_range = 0.2,\n",
    "    height_shift_range = 0.2,\n",
    "    shear_range = 0.2,\n",
    "    zoom_range = 0.2,\n",
    "    horizontal_flip = True,\n",
    "    fill_mode = 'nearest',\n",
    ")\n",
    "train_generator = train_datagen.flow_from_dataframe(train_df,\n",
    "                                                    directory = \"./\",\n",
    "                                                    x_col = \"filepath\",\n",
    "                                                    y_col = \"class\",\n",
    "                                                    classes = class_names,\n",
    "                                                    target_size = (height, width),\n",
    "                                                    batch_size = batch_size,\n",
    "                                                    seed = 7,\n",
    "                                                    shuffle = True,\n",
    "                                                    class_mode = \"sparse\" )\n",
    "valid_datagen = keras.preprocessing.image.ImageDataGenerator(rescale = 1./255)\n",
    "# valid_generator = valid_datagen.flow_from_directory(valid_dir,\n",
    "#                                                     target_size = (height, width),\n",
    "#                                                     batch_size = batch_size,\n",
    "#                                                     seed = 7,\n",
    "#                                                     shuffle = False,\n",
    "#                                                     class_mode = \"categorical\")\n",
    "valid_generator = valid_datagen.flow_from_dataframe(valid_df,\n",
    "                                                    directory = \"./\",\n",
    "                                                    x_col = \"filepath\",\n",
    "                                                    y_col = \"class\",\n",
    "                                                    classes = class_names,\n",
    "                                                    target_size = (height, width),\n",
    "                                                    batch_size = batch_size,\n",
    "                                                    seed = 7,\n",
    "                                                    shuffle = False,\n",
    "                                                    class_mode = \"sparse\" )\n",
    "train_num = train_generator.samples\n",
    "valid_num = valid_generator.samples\n",
    "print(train_num, valid_num)"
   ]
  },
  {
   "cell_type": "code",
   "execution_count": 17,
   "metadata": {},
   "outputs": [
    {
     "name": "stdout",
     "output_type": "stream",
     "text": [
      "(32, 32, 32, 3) (32,)\n",
      "[2. 1. 4. 4. 4. 4. 6. 5. 2. 8. 4. 6. 6. 3. 7. 1. 7. 2. 8. 8. 3. 0. 5. 3.\n",
      " 9. 1. 4. 5. 6. 7. 9. 2.]\n",
      "(32, 32, 32, 3) (32,)\n",
      "[0. 7. 2. 7. 5. 5. 7. 0. 5. 4. 9. 7. 6. 3. 0. 4. 4. 4. 6. 3. 5. 4. 6. 6.\n",
      " 4. 1. 8. 2. 4. 4. 3. 0.]\n"
     ]
    }
   ],
   "source": [
    "for i in range(2):\n",
    "    x, y = train_generator.next()\n",
    "    print(x.shape, y.shape)\n",
    "    print(y)"
   ]
  },
  {
   "cell_type": "code",
   "execution_count": 18,
   "metadata": {},
   "outputs": [
    {
     "name": "stdout",
     "output_type": "stream",
     "text": [
      "Model: \"sequential_1\"\n",
      "_________________________________________________________________\n",
      "Layer (type)                 Output Shape              Param #   \n",
      "=================================================================\n",
      "conv2d_6 (Conv2D)            (None, 32, 32, 128)       3584      \n",
      "_________________________________________________________________\n",
      "batch_normalization_6 (Batch (None, 32, 32, 128)       512       \n",
      "_________________________________________________________________\n",
      "conv2d_7 (Conv2D)            (None, 32, 32, 128)       147584    \n",
      "_________________________________________________________________\n",
      "batch_normalization_7 (Batch (None, 32, 32, 128)       512       \n",
      "_________________________________________________________________\n",
      "max_pooling2d_3 (MaxPooling2 (None, 16, 16, 128)       0         \n",
      "_________________________________________________________________\n",
      "conv2d_8 (Conv2D)            (None, 16, 16, 256)       295168    \n",
      "_________________________________________________________________\n",
      "batch_normalization_8 (Batch (None, 16, 16, 256)       1024      \n",
      "_________________________________________________________________\n",
      "conv2d_9 (Conv2D)            (None, 16, 16, 256)       590080    \n",
      "_________________________________________________________________\n",
      "batch_normalization_9 (Batch (None, 16, 16, 256)       1024      \n",
      "_________________________________________________________________\n",
      "max_pooling2d_4 (MaxPooling2 (None, 8, 8, 256)         0         \n",
      "_________________________________________________________________\n",
      "conv2d_10 (Conv2D)           (None, 8, 8, 512)         1180160   \n",
      "_________________________________________________________________\n",
      "batch_normalization_10 (Batc (None, 8, 8, 512)         2048      \n",
      "_________________________________________________________________\n",
      "conv2d_11 (Conv2D)           (None, 8, 8, 512)         2359808   \n",
      "_________________________________________________________________\n",
      "batch_normalization_11 (Batc (None, 8, 8, 512)         2048      \n",
      "_________________________________________________________________\n",
      "max_pooling2d_5 (MaxPooling2 (None, 4, 4, 512)         0         \n",
      "_________________________________________________________________\n",
      "flatten_1 (Flatten)          (None, 8192)              0         \n",
      "_________________________________________________________________\n",
      "dense_2 (Dense)              (None, 512)               4194816   \n",
      "_________________________________________________________________\n",
      "dense_3 (Dense)              (None, 10)                5130      \n",
      "=================================================================\n",
      "Total params: 8,783,498\n",
      "Trainable params: 8,779,914\n",
      "Non-trainable params: 3,584\n",
      "_________________________________________________________________\n"
     ]
    }
   ],
   "source": [
    "model = keras.models.Sequential([\n",
    "    keras.layers.Conv2D(filters=128, kernel_size=3, padding='same',\n",
    "                        activation='relu', input_shape=[width, height, channels]),\n",
    "    keras.layers.BatchNormalization(),\n",
    "    keras.layers.Conv2D(filters=128, kernel_size=3, padding='same',\n",
    "                        activation='relu'),\n",
    "    keras.layers.BatchNormalization(),\n",
    "    keras.layers.MaxPool2D(pool_size=2),\n",
    "    \n",
    "    keras.layers.Conv2D(filters=256, kernel_size=3, padding='same',\n",
    "                        activation='relu'),\n",
    "    keras.layers.BatchNormalization(),\n",
    "    keras.layers.Conv2D(filters=256, kernel_size=3, padding='same',\n",
    "                        activation='relu'),\n",
    "    keras.layers.BatchNormalization(),\n",
    "    keras.layers.MaxPool2D(pool_size=2),\n",
    "    keras.layers.Conv2D(filters=512, kernel_size=3, padding='same',\n",
    "                        activation='relu'),\n",
    "    keras.layers.BatchNormalization(),\n",
    "    keras.layers.Conv2D(filters=512, kernel_size=3, padding='same',\n",
    "                        activation='relu'),\n",
    "    keras.layers.BatchNormalization(),\n",
    "    keras.layers.MaxPool2D(pool_size=2),\n",
    "    keras.layers.Flatten(),\n",
    "    keras.layers.Dense(512, activation='relu'),\n",
    "    keras.layers.Dense(num_classes, activation='softmax'),\n",
    "])\n",
    "\n",
    "model.compile(loss=\"sparse_categorical_crossentropy\",\n",
    "              optimizer=\"adam\", metrics=['accuracy'])\n",
    "model.summary()"
   ]
  },
  {
   "cell_type": "code",
   "execution_count": 19,
   "metadata": {},
   "outputs": [
    {
     "name": "stdout",
     "output_type": "stream",
     "text": [
      "Epoch 1/10\n",
      "1406/1406 [==============================] - 98s 69ms/step - loss: 3.6124 - accuracy: 0.2145 - val_loss: 1.8693 - val_accuracy: 0.2931\n",
      "Epoch 2/10\n",
      "1406/1406 [==============================] - 54s 39ms/step - loss: 1.7796 - accuracy: 0.3375 - val_loss: 1.9762 - val_accuracy: 0.3315\n",
      "Epoch 3/10\n",
      "1406/1406 [==============================] - 56s 40ms/step - loss: 1.5935 - accuracy: 0.4174 - val_loss: 1.5979 - val_accuracy: 0.4477\n",
      "Epoch 4/10\n",
      "1406/1406 [==============================] - 56s 40ms/step - loss: 1.4300 - accuracy: 0.4843 - val_loss: 1.7026 - val_accuracy: 0.4597\n",
      "Epoch 5/10\n",
      "1406/1406 [==============================] - 55s 39ms/step - loss: 1.2831 - accuracy: 0.5392 - val_loss: 1.1088 - val_accuracy: 0.5917\n",
      "Epoch 6/10\n",
      "1406/1406 [==============================] - 54s 38ms/step - loss: 1.1735 - accuracy: 0.5836 - val_loss: 1.1234 - val_accuracy: 0.6002\n",
      "Epoch 7/10\n",
      "1406/1406 [==============================] - 57s 41ms/step - loss: 1.0799 - accuracy: 0.6176 - val_loss: 1.0287 - val_accuracy: 0.6474\n",
      "Epoch 8/10\n",
      "1406/1406 [==============================] - 56s 40ms/step - loss: 1.0096 - accuracy: 0.6487 - val_loss: 0.9962 - val_accuracy: 0.6739\n",
      "Epoch 9/10\n",
      "1406/1406 [==============================] - 56s 40ms/step - loss: 0.9477 - accuracy: 0.6687 - val_loss: 0.8682 - val_accuracy: 0.7145\n",
      "Epoch 10/10\n",
      "1406/1406 [==============================] - 56s 40ms/step - loss: 0.8863 - accuracy: 0.6922 - val_loss: 0.7797 - val_accuracy: 0.7296\n"
     ]
    }
   ],
   "source": [
    "epochs = 10\n",
    "history = model.fit_generator(train_generator,\n",
    "                              steps_per_epoch = train_num // batch_size,\n",
    "                              epochs = epochs,\n",
    "                              validation_data = valid_generator,\n",
    "                              validation_steps = valid_num // batch_size)"
   ]
  },
  {
   "cell_type": "code",
   "execution_count": 20,
   "metadata": {},
   "outputs": [
    {
     "name": "stdout",
     "output_type": "stream",
     "text": [
      "dict_keys(['loss', 'accuracy', 'val_loss', 'val_accuracy'])\n"
     ]
    },
    {
     "data": {
      "image/png": "[encoded data removed]",
      "text/plain": [
       "<Figure size 576x360 with 1 Axes>"
      ]
     },
     "metadata": {
      "needs_background": "light"
     },
     "output_type": "display_data"
    },
    {
     "data": {
      "image/png": "[encoded data removed]",
      "text/plain": [
       "<Figure size 576x360 with 1 Axes>"
      ]
     },
     "metadata": {
      "needs_background": "light"
     },
     "output_type": "display_data"
    }
   ],
   "source": [
    "pprint.pprint(history.history.keys())\n",
    "def plot_learning_curves(history, label, epcohs, min_value, max_value):\n",
    "    data = {}\n",
    "    data[label] = history.history[label]\n",
    "    data['val_'+label] = history.history['val_'+label]\n",
    "    pd.DataFrame(data).plot(figsize=(8, 5))\n",
    "    plt.grid(True)\n",
    "    plt.axis([0, epochs, min_value, max_value])\n",
    "    plt.show()\n",
    "    \n",
    "plot_learning_curves(history, 'accuracy', epochs, 0, 1)\n",
    "plot_learning_curves(history, 'loss', epochs, 0, 2.5)"
   ]
  },
  {
   "cell_type": "code",
   "execution_count": 21,
   "metadata": {},
   "outputs": [
    {
     "name": "stdout",
     "output_type": "stream",
     "text": [
      "Found 300000 validated image filenames belonging to 10 classes.\n",
      "300000\n"
     ]
    }
   ],
   "source": [
    "test_datagen = keras.preprocessing.image.ImageDataGenerator(rescale = 1./255)\n",
    "\n",
    "test_generator = valid_datagen.flow_from_dataframe(test_df,\n",
    "                                                    directory = \"./\",\n",
    "                                                    x_col = \"filepath\",\n",
    "                                                    y_col = \"class\",\n",
    "                                                    classes = class_names,\n",
    "                                                    target_size = (height, width),\n",
    "                                                    batch_size = batch_size,\n",
    "                                                    seed = 7,\n",
    "                                                    shuffle = False,\n",
    "                                                    class_mode = \"sparse\" )\n",
    "test_num = test_generator.samples\n",
    "print(test_num)"
   ]
  },
  {
   "cell_type": "code",
   "execution_count": 22,
   "metadata": {},
   "outputs": [],
   "source": [
    "test_predict = model.predict_generator(test_generator, workers = 10, use_multiprocessing = False)"
   ]
  },
  {
   "cell_type": "code",
   "execution_count": 23,
   "metadata": {},
   "outputs": [
    {
     "name": "stdout",
     "output_type": "stream",
     "text": [
      "(300000, 10)\n"
     ]
    }
   ],
   "source": [
    "print(test_predict.shape)"
   ]
  },
  {
   "cell_type": "code",
   "execution_count": 24,
   "metadata": {
    "scrolled": true
   },
   "outputs": [
    {
     "name": "stdout",
     "output_type": "stream",
     "text": [
      "array([[4.0444382e-02, 2.5832448e-02, 2.1483634e-01, ..., 1.3621330e-01,\n",
      "        9.7290482e-03, 6.1584305e-02],\n",
      "       [7.4957836e-01, 6.5094157e-04, 1.4269565e-01, ..., 1.9499252e-03,\n",
      "        6.7395404e-02, 1.2137912e-03],\n",
      "       [8.8361237e-04, 7.3251987e-01, 1.1904419e-05, ..., 2.3219097e-04,\n",
      "        1.5638434e-04, 2.6560223e-01],\n",
      "       ...,\n",
      "       [1.4196197e-03, 2.2927586e-04, 3.2838996e-02, ..., 4.0431540e-02,\n",
      "        2.0406372e-03, 4.1671493e-03],\n",
      "       [4.0353995e-04, 2.5836015e-03, 3.5215277e-02, ..., 5.8172718e-03,\n",
      "        4.4237747e-04, 8.0484366e-03],\n",
      "       [3.1458163e-05, 9.9008614e-01, 3.9757776e-07, ..., 6.4754536e-06,\n",
      "        7.1053591e-06, 9.8615931e-03]], dtype=float32)\n"
     ]
    }
   ],
   "source": [
    "pprint.pprint(test_predict)"
   ]
  },
  {
   "cell_type": "code",
   "execution_count": 25,
   "metadata": {},
   "outputs": [],
   "source": [
    "test_predict_class_indices = np.argmax(test_predict, axis = 1)"
   ]
  },
  {
   "cell_type": "code",
   "execution_count": 26,
   "metadata": {},
   "outputs": [
    {
     "name": "stdout",
     "output_type": "stream",
     "text": [
      "[2 0 1 8 0]\n"
     ]
    }
   ],
   "source": [
    "print(test_predict_class_indices[0:5])"
   ]
  },
  {
   "cell_type": "code",
   "execution_count": 34,
   "metadata": {},
   "outputs": [
    {
     "name": "stdout",
     "output_type": "stream",
     "text": [
      "['bird', 'airplane', 'automobile', 'ship', 'airplane']\n",
      "300000\n"
     ]
    }
   ],
   "source": [
    "test_predict_class = [class_names[index] for index in test_predict_class_indices]\n",
    "print(test_predict_class[0:5])\n",
    "print(len(test_predict_class))"
   ]
  },
  {
   "cell_type": "code",
   "execution_count": null,
   "metadata": {},
   "outputs": [],
   "source": [
    "def generate_submissions(filename, predict_class):\n",
    "    with open (filename, \"w\") as f:\n",
    "        f.write(\"id,label\\n\")\n",
    "        for i in range(len(predict_class)):\n",
    "#         for i in range(500):\n",
    "            f.write(\"%d,%s\\n\" % (i+1, predict_class[i]))\n",
    "            \n",
    "output_file = \"./data/cifar10/submission.csv\"\n",
    "generate_submissions(output_file, test_predict_class)"
   ]
  },
  {
   "cell_type": "code",
   "execution_count": null,
   "metadata": {},
   "outputs": [],
   "source": []
  }
 ],
 "metadata": {
  "kernelspec": {
   "display_name": "Python 3",
   "language": "python",
   "name": "python3"
  },
  "language_info": {
   "codemirror_mode": {
    "name": "ipython",
    "version": 3
   },
   "file_extension": ".py",
   "mimetype": "text/x-python",
   "name": "python",
   "nbconvert_exporter": "python",
   "pygments_lexer": "ipython3",
   "version": "3.6.7"
  }
 },
 "nbformat": 4,
 "nbformat_minor": 1
}

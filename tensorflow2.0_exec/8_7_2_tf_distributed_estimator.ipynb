{
 "cells": [
  {
   "cell_type": "code",
   "execution_count": 1,
   "metadata": {},
   "outputs": [
    {
     "name": "stdout",
     "output_type": "stream",
     "text": [
      "2.0.0-beta1\n",
      "sys.version_info(major=3, minor=6, micro=7, releaselevel='final', serial=0)\n",
      "matplotlib 3.1.2\n",
      "numpy 1.16.2\n",
      "pandas 0.25.3\n",
      "sklearn 0.22\n",
      "tensorflow 2.0.0-beta1\n",
      "tensorflow.python.keras.api._v2.keras 2.2.4-tf\n"
     ]
    }
   ],
   "source": [
    "import matplotlib as mpl\n",
    "import matplotlib.pyplot as plt\n",
    "%matplotlib inline\n",
    "import numpy as np\n",
    "import sklearn\n",
    "import pandas as pd\n",
    "import os\n",
    "import sys\n",
    "import time\n",
    "import tensorflow as tf\n",
    "\n",
    "from tensorflow import keras\n",
    "\n",
    "print(tf.__version__)\n",
    "print(sys.version_info)\n",
    "for module in mpl, np, pd, sklearn, tf, keras:\n",
    "    print(module.__name__, module.__version__)\n"
   ]
  },
  {
   "cell_type": "code",
   "execution_count": 2,
   "metadata": {},
   "outputs": [
    {
     "name": "stdout",
     "output_type": "stream",
     "text": [
      "2\n"
     ]
    }
   ],
   "source": [
    "tf.debugging.set_log_device_placement(True)\n",
    "gpus = tf.config.experimental.list_physical_devices(\"GPU\")\n",
    "tf.config.experimental.set_virtual_device_configuration(\n",
    "    gpus[0],\n",
    "    [tf.config.experimental.VirtualDeviceConfiguration(memory_limit=3072),\n",
    "     tf.config.experimental.VirtualDeviceConfiguration(memory_limit=3072)]\n",
    ")\n",
    "\n",
    "# logical_gpus = tf.config.experimental.list_logical_devices(\"GPU\")\n",
    "# print(len(logical_gpus))\n",
    "# tf.config.experimental.set_visible_devices(logical_gpus[0], \"GPU\")\n",
    "# for gpu in gpus:\n",
    "#     tf.config.experimental.set_memory_growth(gpu,True)\n",
    "logical_gpus = tf.config.experimental.list_logical_devices(\"GPU\")\n",
    "print(len(logical_gpus))"
   ]
  },
  {
   "cell_type": "code",
   "execution_count": 3,
   "metadata": {},
   "outputs": [
    {
     "name": "stdout",
     "output_type": "stream",
     "text": [
      "(5000, 28, 28) (5000,)\n",
      "(55000, 28, 28) (55000,)\n",
      "(10000, 28, 28) (10000,)\n"
     ]
    }
   ],
   "source": [
    "fashion_mnist = keras.datasets.fashion_mnist\n",
    "(x_train_all, y_train_all), (x_test, y_test) = fashion_mnist.load_data()\n",
    "x_valid, x_train = x_train_all[:5000], x_train_all[5000:]\n",
    "y_valid, y_train = y_train_all[:5000], y_train_all[5000:]\n",
    "\n",
    "print(x_valid.shape, y_valid.shape)\n",
    "print(x_train.shape, y_train.shape)\n",
    "print(x_test.shape, y_test.shape)"
   ]
  },
  {
   "cell_type": "code",
   "execution_count": 4,
   "metadata": {},
   "outputs": [],
   "source": [
    "from sklearn.preprocessing import StandardScaler\n",
    "\n",
    "scaler = StandardScaler()\n",
    "x_train_scaled = scaler.fit_transform(\n",
    "    x_train.astype(np.float32).reshape(-1, 1)).reshape(-1, 28, 28, 1)\n",
    "x_valid_scaled = scaler.transform(\n",
    "    x_valid.astype(np.float32).reshape(-1, 1)).reshape(-1, 28, 28, 1)\n",
    "x_test_scaled = scaler.transform(\n",
    "    x_test.astype(np.float32).reshape(-1, 1)).reshape(-1, 28, 28, 1)\n"
   ]
  },
  {
   "cell_type": "code",
   "execution_count": 5,
   "metadata": {},
   "outputs": [
    {
     "name": "stdout",
     "output_type": "stream",
     "text": [
      "Executing op TensorSliceDataset in device /job:localhost/replica:0/task:0/device:CPU:0\n",
      "Executing op ShuffleDataset in device /job:localhost/replica:0/task:0/device:CPU:0\n",
      "Executing op RepeatDataset in device /job:localhost/replica:0/task:0/device:CPU:0\n",
      "Executing op BatchDatasetV2 in device /job:localhost/replica:0/task:0/device:CPU:0\n",
      "Executing op PrefetchDataset in device /job:localhost/replica:0/task:0/device:CPU:0\n"
     ]
    }
   ],
   "source": [
    "def make_dataset(images, labels, epochs, batch_size,shuffle=True):\n",
    "    dataset = tf.data.Dataset.from_tensor_slices((images, labels))\n",
    "    if shuffle:\n",
    "        dataset = dataset.shuffle(10000)\n",
    "    dataset = dataset.repeat(epochs).batch(batch_size).prefetch(50)\n",
    "    return dataset\n",
    "\n",
    "batch_size = 256\n",
    "epochs = 100\n",
    "\n",
    "train_dataset = make_dataset(x_train_scaled, y_train, epochs, batch_size)"
   ]
  },
  {
   "cell_type": "code",
   "execution_count": 6,
   "metadata": {},
   "outputs": [
    {
     "name": "stdout",
     "output_type": "stream",
     "text": [
      "Executing op RandomUniform in device /job:localhost/replica:0/task:0/device:GPU:0\n",
      "Executing op Sub in device /job:localhost/replica:0/task:0/device:GPU:0\n",
      "Executing op Mul in device /job:localhost/replica:0/task:0/device:GPU:0\n",
      "Executing op Add in device /job:localhost/replica:0/task:0/device:GPU:0\n",
      "Executing op VarHandleOp in device /job:localhost/replica:0/task:0/device:GPU:0\n",
      "Executing op VarIsInitializedOp in device /job:localhost/replica:0/task:0/device:GPU:0\n",
      "Executing op LogicalNot in device /job:localhost/replica:0/task:0/device:GPU:0\n",
      "Executing op Assert in device /job:localhost/replica:0/task:0/device:GPU:0\n",
      "Executing op AssignVariableOp in device /job:localhost/replica:0/task:0/device:GPU:0\n",
      "Executing op Fill in device /job:localhost/replica:0/task:0/device:GPU:0\n",
      "Executing op VarHandleOp in device /job:localhost/replica:0/task:0/device:GPU:0\n",
      "Executing op VarHandleOp in device /job:localhost/replica:0/task:0/device:GPU:0\n",
      "Executing op VarHandleOp in device /job:localhost/replica:0/task:0/device:GPU:0\n",
      "Executing op VarHandleOp in device /job:localhost/replica:0/task:0/device:GPU:0\n",
      "Executing op VarHandleOp in device /job:localhost/replica:0/task:0/device:GPU:0\n",
      "Executing op VarHandleOp in device /job:localhost/replica:0/task:0/device:GPU:0\n",
      "Executing op VarHandleOp in device /job:localhost/replica:0/task:0/device:GPU:0\n",
      "Executing op VarHandleOp in device /job:localhost/replica:0/task:0/device:GPU:0\n",
      "Executing op VarHandleOp in device /job:localhost/replica:0/task:0/device:GPU:0\n",
      "Executing op VarHandleOp in device /job:localhost/replica:0/task:0/device:GPU:0\n",
      "Executing op VarHandleOp in device /job:localhost/replica:0/task:0/device:GPU:0\n",
      "Executing op VarHandleOp in device /job:localhost/replica:0/task:0/device:GPU:0\n",
      "WARNING:tensorflow:Some requested devices in `tf.distribute.Strategy` are not visible to TensorFlow: /job:localhost/replica:0/task:0/device:GPU:1,/job:localhost/replica:0/task:0/device:GPU:0\n",
      "INFO:tensorflow:Initializing RunConfig with distribution strategies.\n",
      "INFO:tensorflow:Not using Distribute Coordinator.\n",
      "WARNING:tensorflow:Using temporary folder as model directory: C:\\Users\\A\\AppData\\Local\\Temp\\tmpkf063goj\n",
      "INFO:tensorflow:Using the Keras model provided.\n",
      "Executing op ReadVariableOp in device /job:localhost/replica:0/task:0/device:GPU:0\n",
      "INFO:tensorflow:Using config: {'_model_dir': 'C:\\\\Users\\\\A\\\\AppData\\\\Local\\\\Temp\\\\tmpkf063goj', '_tf_random_seed': None, '_save_summary_steps': 100, '_save_checkpoints_steps': None, '_save_checkpoints_secs': 600, '_session_config': allow_soft_placement: true\n",
      "graph_options {\n",
      "  rewrite_options {\n",
      "    meta_optimizer_iterations: ONE\n",
      "  }\n",
      "}\n",
      ", '_keep_checkpoint_max': 5, '_keep_checkpoint_every_n_hours': 10000, '_log_step_count_steps': 100, '_train_distribute': <tensorflow.python.distribute.mirrored_strategy.MirroredStrategy object at 0x000002B8A69B36A0>, '_device_fn': None, '_protocol': None, '_eval_distribute': None, '_experimental_distribute': None, '_experimental_max_worker_delay_secs': None, '_service': None, '_cluster_spec': <tensorflow.python.training.server_lib.ClusterSpec object at 0x000002B8A69B3C18>, '_task_type': 'worker', '_task_id': 0, '_global_id_in_cluster': 0, '_master': '', '_evaluation_master': '', '_is_chief': True, '_num_ps_replicas': 0, '_num_worker_replicas': 1, '_distribute_coordinator_mode': None}\n"
     ]
    }
   ],
   "source": [
    "model = keras.models.Sequential()\n",
    "model.add(keras.layers.Conv2D(filters=128, kernel_size=3,\n",
    "                              padding='same',\n",
    "                              activation='relu',\n",
    "                              input_shape=(28, 28, 1)))\n",
    "model.add(keras.layers.Conv2D(filters=128, kernel_size=3,\n",
    "                              padding='same',\n",
    "                              activation='relu'))\n",
    "model.add(keras.layers.MaxPool2D(pool_size=2))\n",
    "model.add(keras.layers.Conv2D(filters=256, kernel_size=3,\n",
    "                              padding='same',\n",
    "                              activation='relu'))\n",
    "model.add(keras.layers.Conv2D(filters=256, kernel_size=3,\n",
    "                              padding='same',\n",
    "                              activation='relu'))\n",
    "model.add(keras.layers.MaxPool2D(pool_size=2))\n",
    "model.add(keras.layers.Conv2D(filters=512, kernel_size=3,\n",
    "                              padding='same',\n",
    "                              activation='relu'))\n",
    "model.add(keras.layers.Conv2D(filters=512, kernel_size=3,\n",
    "                              padding='same',\n",
    "                              activation='relu'))\n",
    "model.add(keras.layers.MaxPool2D(pool_size=2))\n",
    "model.add(keras.layers.Flatten())\n",
    "model.add(keras.layers.Dense(512, activation='relu'))\n",
    "model.add(keras.layers.Dense(10, activation=\"softmax\"))\n",
    "\n",
    "model.compile(loss=\"sparse_categorical_crossentropy\",\n",
    "              optimizer = \"sgd\",\n",
    "              metrics = [\"accuracy\"])\n",
    "\n",
    "strategy = tf.distribute.MirroredStrategy()\n",
    "config = tf.estimator.RunConfig(\n",
    "    train_distribute = strategy\n",
    ")\n",
    "\n",
    "estimator = keras.estimator.model_to_estimator(model, config=config)"
   ]
  },
  {
   "cell_type": "code",
   "execution_count": 7,
   "metadata": {},
   "outputs": [
    {
     "name": "stdout",
     "output_type": "stream",
     "text": [
      "Model: \"sequential\"\n",
      "_________________________________________________________________\n",
      "Layer (type)                 Output Shape              Param #   \n",
      "=================================================================\n",
      "conv2d (Conv2D)              (None, 28, 28, 128)       1280      \n",
      "_________________________________________________________________\n",
      "conv2d_1 (Conv2D)            (None, 28, 28, 128)       147584    \n",
      "_________________________________________________________________\n",
      "max_pooling2d (MaxPooling2D) (None, 14, 14, 128)       0         \n",
      "_________________________________________________________________\n",
      "conv2d_2 (Conv2D)            (None, 14, 14, 256)       295168    \n",
      "_________________________________________________________________\n",
      "conv2d_3 (Conv2D)            (None, 14, 14, 256)       590080    \n",
      "_________________________________________________________________\n",
      "max_pooling2d_1 (MaxPooling2 (None, 7, 7, 256)         0         \n",
      "_________________________________________________________________\n",
      "conv2d_4 (Conv2D)            (None, 7, 7, 512)         1180160   \n",
      "_________________________________________________________________\n",
      "conv2d_5 (Conv2D)            (None, 7, 7, 512)         2359808   \n",
      "_________________________________________________________________\n",
      "max_pooling2d_2 (MaxPooling2 (None, 3, 3, 512)         0         \n",
      "_________________________________________________________________\n",
      "flatten (Flatten)            (None, 4608)              0         \n",
      "_________________________________________________________________\n",
      "dense (Dense)                (None, 512)               2359808   \n",
      "_________________________________________________________________\n",
      "dense_1 (Dense)              (None, 10)                5130      \n",
      "=================================================================\n",
      "Total params: 6,939,018\n",
      "Trainable params: 6,939,018\n",
      "Non-trainable params: 0\n",
      "_________________________________________________________________\n"
     ]
    }
   ],
   "source": [
    "model.summary()"
   ]
  },
  {
   "cell_type": "code",
   "execution_count": 8,
   "metadata": {},
   "outputs": [],
   "source": [
    "# logdir = './cnn-selu-callbacks'\n",
    "# if not os.path.exists(logdir):\n",
    "#     os.mkdir(logdir)\n",
    "# output_model_file = os.path.join(logdir,\n",
    "#                                  \"fashion_mnist_model.h5\")\n",
    "\n",
    "# callbacks = [\n",
    "#     keras.callbacks.TensorBoard(logdir),\n",
    "#     keras.callbacks.ModelCheckpoint(output_model_file,\n",
    "#                                     save_best_only = True),\n",
    "#     keras.callbacks.EarlyStopping(patience=5, min_delta=1e-3),\n",
    "# ]\n",
    "# history = model.fit(x_train_scaled, y_train, epochs=10,\n",
    "#                     validation_data=(x_valid_scaled, y_valid),\n",
    "#                     callbacks = callbacks)\n",
    "\n",
    "# history = model.fit(train_dataset,\n",
    "#                     steps_per_epoch=x_train_scaled.shape[0] //batch_size, \n",
    "#                     epochs=10)"
   ]
  },
  {
   "cell_type": "code",
   "execution_count": 9,
   "metadata": {},
   "outputs": [
    {
     "name": "stdout",
     "output_type": "stream",
     "text": [
      "INFO:tensorflow:Calling model_fn.\n",
      "INFO:tensorflow:Calling model_fn.\n",
      "INFO:tensorflow:Reduce to /replica:0/task:0/device:CPU:0 then broadcast to ('/replica:0/task:0/device:CPU:0',).\n",
      "INFO:tensorflow:Reduce to /replica:0/task:0/device:CPU:0 then broadcast to ('/replica:0/task:0/device:CPU:0',).\n",
      "INFO:tensorflow:Reduce to /replica:0/task:0/device:CPU:0 then broadcast to ('/replica:0/task:0/device:CPU:0',).\n",
      "INFO:tensorflow:Reduce to /replica:0/task:0/device:CPU:0 then broadcast to ('/replica:0/task:0/device:CPU:0',).\n",
      "INFO:tensorflow:Reduce to /job:localhost/replica:0/task:0/device:GPU:0 then broadcast to ('/job:localhost/replica:0/task:0/device:GPU:0', '/job:localhost/replica:0/task:0/device:GPU:1').\n",
      "INFO:tensorflow:Reduce to /job:localhost/replica:0/task:0/device:GPU:0 then broadcast to ('/job:localhost/replica:0/task:0/device:GPU:0', '/job:localhost/replica:0/task:0/device:GPU:1').\n",
      "INFO:tensorflow:Reduce to /job:localhost/replica:0/task:0/device:GPU:0 then broadcast to ('/job:localhost/replica:0/task:0/device:GPU:0', '/job:localhost/replica:0/task:0/device:GPU:1').\n",
      "INFO:tensorflow:Reduce to /job:localhost/replica:0/task:0/device:GPU:0 then broadcast to ('/job:localhost/replica:0/task:0/device:GPU:0', '/job:localhost/replica:0/task:0/device:GPU:1').\n",
      "INFO:tensorflow:Reduce to /job:localhost/replica:0/task:0/device:GPU:0 then broadcast to ('/job:localhost/replica:0/task:0/device:GPU:0', '/job:localhost/replica:0/task:0/device:GPU:1').\n",
      "INFO:tensorflow:Reduce to /job:localhost/replica:0/task:0/device:GPU:0 then broadcast to ('/job:localhost/replica:0/task:0/device:GPU:0', '/job:localhost/replica:0/task:0/device:GPU:1').\n",
      "INFO:tensorflow:Reduce to /job:localhost/replica:0/task:0/device:GPU:0 then broadcast to ('/job:localhost/replica:0/task:0/device:GPU:0', '/job:localhost/replica:0/task:0/device:GPU:1').\n",
      "INFO:tensorflow:Reduce to /job:localhost/replica:0/task:0/device:GPU:0 then broadcast to ('/job:localhost/replica:0/task:0/device:GPU:0', '/job:localhost/replica:0/task:0/device:GPU:1').\n",
      "INFO:tensorflow:Reduce to /job:localhost/replica:0/task:0/device:GPU:0 then broadcast to ('/job:localhost/replica:0/task:0/device:GPU:0', '/job:localhost/replica:0/task:0/device:GPU:1').\n",
      "INFO:tensorflow:Reduce to /job:localhost/replica:0/task:0/device:GPU:0 then broadcast to ('/job:localhost/replica:0/task:0/device:GPU:0', '/job:localhost/replica:0/task:0/device:GPU:1').\n",
      "INFO:tensorflow:Reduce to /replica:0/task:0/device:CPU:0 then broadcast to ('/replica:0/task:0/device:CPU:0',).\n",
      "INFO:tensorflow:Reduce to /replica:0/task:0/device:CPU:0 then broadcast to ('/replica:0/task:0/device:CPU:0',).\n",
      "INFO:tensorflow:Reduce to /replica:0/task:0/device:CPU:0 then broadcast to ('/replica:0/task:0/device:CPU:0',).\n",
      "INFO:tensorflow:Reduce to /replica:0/task:0/device:CPU:0 then broadcast to ('/replica:0/task:0/device:CPU:0',).\n",
      "INFO:tensorflow:Reduce to /replica:0/task:0/device:CPU:0 then broadcast to ('/replica:0/task:0/device:CPU:0',).\n",
      "INFO:tensorflow:Reduce to /replica:0/task:0/device:CPU:0 then broadcast to ('/replica:0/task:0/device:CPU:0',).\n",
      "INFO:tensorflow:Done calling model_fn.\n",
      "INFO:tensorflow:Done calling model_fn.\n",
      "WARNING:tensorflow:From C:\\Users\\A\\.conda\\envs\\tf2.0\\lib\\site-packages\\tensorflow\\python\\ops\\array_ops.py:1340: add_dispatch_support.<locals>.wrapper (from tensorflow.python.ops.array_ops) is deprecated and will be removed in a future version.\n",
      "Instructions for updating:\n",
      "Use tf.where in 2.0, which has the same broadcast rule as np.where\n",
      "INFO:tensorflow:Warm-starting with WarmStartSettings: WarmStartSettings(ckpt_to_initialize_from='C:\\\\Users\\\\A\\\\AppData\\\\Local\\\\Temp\\\\tmpkf063goj\\\\keras\\\\keras_model.ckpt', vars_to_warm_start='.*', var_name_to_vocab_info={}, var_name_to_prev_var_name={})\n",
      "INFO:tensorflow:Warm-starting from: C:\\Users\\A\\AppData\\Local\\Temp\\tmpkf063goj\\keras\\keras_model.ckpt\n",
      "INFO:tensorflow:Warm-starting variables only in TRAINABLE_VARIABLES.\n",
      "INFO:tensorflow:Warm-started 16 variables.\n",
      "INFO:tensorflow:Create CheckpointSaverHook.\n",
      "INFO:tensorflow:Graph was finalized.\n",
      "INFO:tensorflow:Running local_init_op.\n",
      "INFO:tensorflow:Done running local_init_op.\n",
      "INFO:tensorflow:Saving checkpoints for 0 into C:\\Users\\A\\AppData\\Local\\Temp\\tmpkf063goj\\model.ckpt.\n",
      "INFO:tensorflow:loss = 2.3075957, step = 0\n",
      "INFO:tensorflow:global_step/sec: 6.5587\n",
      "INFO:tensorflow:loss = 2.1005597, step = 100 (15.248 sec)\n",
      "INFO:tensorflow:global_step/sec: 6.66046\n",
      "INFO:tensorflow:loss = 0.99717, step = 200 (15.014 sec)\n",
      "INFO:tensorflow:global_step/sec: 6.63307\n",
      "INFO:tensorflow:loss = 0.7356985, step = 300 (15.076 sec)\n",
      "INFO:tensorflow:global_step/sec: 6.59287\n",
      "INFO:tensorflow:loss = 0.69463784, step = 400 (15.168 sec)\n",
      "INFO:tensorflow:global_step/sec: 6.591\n",
      "INFO:tensorflow:loss = 0.8196397, step = 500 (15.172 sec)\n",
      "INFO:tensorflow:global_step/sec: 6.53469\n",
      "INFO:tensorflow:loss = 0.6137308, step = 600 (15.307 sec)\n",
      "INFO:tensorflow:global_step/sec: 6.48786\n",
      "INFO:tensorflow:loss = 0.5355802, step = 700 (15.409 sec)\n",
      "INFO:tensorflow:global_step/sec: 6.49615\n",
      "INFO:tensorflow:loss = 0.50288355, step = 800 (15.395 sec)\n",
      "INFO:tensorflow:global_step/sec: 6.51728\n",
      "INFO:tensorflow:loss = 0.47368377, step = 900 (15.344 sec)\n",
      "INFO:tensorflow:global_step/sec: 6.54593\n",
      "INFO:tensorflow:loss = 0.51432246, step = 1000 (15.276 sec)\n",
      "INFO:tensorflow:global_step/sec: 6.21648\n",
      "INFO:tensorflow:loss = 0.53804004, step = 1100 (16.086 sec)\n",
      "INFO:tensorflow:global_step/sec: 6.19367\n",
      "INFO:tensorflow:loss = 0.47386235, step = 1200 (16.146 sec)\n",
      "INFO:tensorflow:global_step/sec: 6.15867\n",
      "INFO:tensorflow:loss = 0.4244784, step = 1300 (16.237 sec)\n",
      "INFO:tensorflow:global_step/sec: 6.18446\n",
      "INFO:tensorflow:loss = 0.3706376, step = 1400 (16.172 sec)\n",
      "INFO:tensorflow:global_step/sec: 6.18745\n",
      "INFO:tensorflow:loss = 0.4867931, step = 1500 (16.160 sec)\n",
      "INFO:tensorflow:global_step/sec: 6.19344\n",
      "INFO:tensorflow:loss = 0.3481669, step = 1600 (16.147 sec)\n",
      "INFO:tensorflow:global_step/sec: 6.34837\n",
      "INFO:tensorflow:loss = 0.42698976, step = 1700 (15.752 sec)\n",
      "INFO:tensorflow:global_step/sec: 6.23878\n",
      "INFO:tensorflow:loss = 0.3745315, step = 1800 (16.028 sec)\n",
      "INFO:tensorflow:global_step/sec: 6.40969\n",
      "INFO:tensorflow:loss = 0.33368385, step = 1900 (15.602 sec)\n",
      "INFO:tensorflow:global_step/sec: 6.34294\n",
      "INFO:tensorflow:loss = 0.38413566, step = 2000 (15.765 sec)\n",
      "INFO:tensorflow:global_step/sec: 6.35511\n",
      "INFO:tensorflow:loss = 0.3602584, step = 2100 (15.736 sec)\n",
      "INFO:tensorflow:global_step/sec: 6.48715\n",
      "INFO:tensorflow:loss = 0.4382686, step = 2200 (15.417 sec)\n",
      "INFO:tensorflow:global_step/sec: 6.26941\n",
      "INFO:tensorflow:loss = 0.2892822, step = 2300 (15.948 sec)\n",
      "INFO:tensorflow:global_step/sec: 6.32863\n",
      "INFO:tensorflow:loss = 0.30622876, step = 2400 (15.801 sec)\n",
      "INFO:tensorflow:global_step/sec: 6.36848\n",
      "INFO:tensorflow:loss = 0.387999, step = 2500 (15.702 sec)\n",
      "INFO:tensorflow:global_step/sec: 6.19344\n",
      "INFO:tensorflow:loss = 0.34765387, step = 2600 (16.146 sec)\n",
      "INFO:tensorflow:global_step/sec: 6.18763\n",
      "INFO:tensorflow:loss = 0.33958387, step = 2700 (16.160 sec)\n",
      "INFO:tensorflow:global_step/sec: 6.19321\n",
      "INFO:tensorflow:loss = 0.32849702, step = 2800 (16.148 sec)\n",
      "INFO:tensorflow:global_step/sec: 6.19184\n",
      "INFO:tensorflow:loss = 0.3310904, step = 2900 (16.149 sec)\n",
      "INFO:tensorflow:global_step/sec: 6.18534\n",
      "INFO:tensorflow:loss = 0.35237435, step = 3000 (16.170 sec)\n",
      "INFO:tensorflow:global_step/sec: 6.19129\n",
      "INFO:tensorflow:loss = 0.2545322, step = 3100 (16.149 sec)\n",
      "INFO:tensorflow:global_step/sec: 6.18652\n",
      "INFO:tensorflow:loss = 0.2712633, step = 3200 (16.165 sec)\n",
      "INFO:tensorflow:global_step/sec: 6.14262\n",
      "INFO:tensorflow:loss = 0.28399798, step = 3300 (16.280 sec)\n",
      "INFO:tensorflow:global_step/sec: 6.16712\n",
      "INFO:tensorflow:loss = 0.287982, step = 3400 (16.214 sec)\n",
      "INFO:tensorflow:global_step/sec: 6.1694\n",
      "INFO:tensorflow:loss = 0.30891913, step = 3500 (16.210 sec)\n",
      "INFO:tensorflow:global_step/sec: 6.18851\n",
      "INFO:tensorflow:loss = 0.27965486, step = 3600 (16.159 sec)\n",
      "INFO:tensorflow:global_step/sec: 6.18082\n",
      "INFO:tensorflow:loss = 0.24324471, step = 3700 (16.178 sec)\n",
      "INFO:tensorflow:Saving checkpoints for 3747 into C:\\Users\\A\\AppData\\Local\\Temp\\tmpkf063goj\\model.ckpt.\n",
      "INFO:tensorflow:global_step/sec: 5.88515\n",
      "INFO:tensorflow:loss = 0.26563, step = 3800 (16.992 sec)\n",
      "INFO:tensorflow:global_step/sec: 6.17946\n",
      "INFO:tensorflow:loss = 0.2822637, step = 3900 (16.183 sec)\n"
     ]
    },
    {
     "name": "stdout",
     "output_type": "stream",
     "text": [
      "INFO:tensorflow:global_step/sec: 6.19316\n",
      "INFO:tensorflow:loss = 0.3364488, step = 4000 (16.148 sec)\n",
      "INFO:tensorflow:global_step/sec: 6.18478\n",
      "INFO:tensorflow:loss = 0.3272208, step = 4100 (16.168 sec)\n",
      "INFO:tensorflow:global_step/sec: 6.16155\n",
      "INFO:tensorflow:loss = 0.30749065, step = 4200 (16.231 sec)\n",
      "INFO:tensorflow:global_step/sec: 6.17961\n",
      "INFO:tensorflow:loss = 0.24849471, step = 4300 (16.181 sec)\n",
      "INFO:tensorflow:global_step/sec: 6.1837\n",
      "INFO:tensorflow:loss = 0.29850376, step = 4400 (16.173 sec)\n",
      "INFO:tensorflow:global_step/sec: 6.17535\n",
      "INFO:tensorflow:loss = 0.26015788, step = 4500 (16.194 sec)\n",
      "INFO:tensorflow:global_step/sec: 6.17967\n",
      "INFO:tensorflow:loss = 0.23556608, step = 4600 (16.180 sec)\n",
      "INFO:tensorflow:global_step/sec: 6.1864\n",
      "INFO:tensorflow:loss = 0.23130816, step = 4700 (16.165 sec)\n",
      "INFO:tensorflow:global_step/sec: 6.18466\n",
      "INFO:tensorflow:loss = 0.29679266, step = 4800 (16.169 sec)\n",
      "INFO:tensorflow:global_step/sec: 6.18562\n",
      "INFO:tensorflow:loss = 0.24251452, step = 4900 (16.167 sec)\n",
      "INFO:tensorflow:Saving checkpoints for 5000 into C:\\Users\\A\\AppData\\Local\\Temp\\tmpkf063goj\\model.ckpt.\n",
      "INFO:tensorflow:Loss for final step: 0.22873916.\n"
     ]
    },
    {
     "data": {
      "text/plain": [
       "<tensorflow_estimator.python.estimator.estimator.Estimator at 0x2b8a69b3048>"
      ]
     },
     "execution_count": 9,
     "metadata": {},
     "output_type": "execute_result"
    }
   ],
   "source": [
    "estimator.train(\n",
    "    input_fn = lambda: make_dataset(x_train_scaled, y_train, epochs, batch_size),\n",
    "    max_steps=5000,\n",
    "#     saving_listeners=None,\n",
    ")"
   ]
  },
  {
   "cell_type": "code",
   "execution_count": 10,
   "metadata": {},
   "outputs": [
    {
     "name": "stdout",
     "output_type": "stream",
     "text": [
      "Executing op __inference_keras_scratch_graph_2624 in device <unspecified>\n",
      " 9856/10000 [============================>.] - ETA: 0s - loss: 2.3064 - accuracy: 0.1002Executing op __inference_keras_scratch_graph_2624 in device <unspecified>\n",
      "10000/10000 [==============================] - 3s 274us/sample - loss: 2.3064 - accuracy: 0.1000\n"
     ]
    },
    {
     "data": {
      "text/plain": [
       "[2.3063920478820803, 0.1]"
      ]
     },
     "execution_count": 10,
     "metadata": {},
     "output_type": "execute_result"
    }
   ],
   "source": [
    "model.evaluate(x_test_scaled, y_test)"
   ]
  },
  {
   "cell_type": "code",
   "execution_count": null,
   "metadata": {},
   "outputs": [],
   "source": []
  },
  {
   "cell_type": "code",
   "execution_count": null,
   "metadata": {},
   "outputs": [],
   "source": []
  }
 ],
 "metadata": {
  "kernelspec": {
   "display_name": "Python 3",
   "language": "python",
   "name": "python3"
  },
  "language_info": {
   "codemirror_mode": {
    "name": "ipython",
    "version": 3
   },
   "file_extension": ".py",
   "mimetype": "text/x-python",
   "name": "python",
   "nbconvert_exporter": "python",
   "pygments_lexer": "ipython3",
   "version": "3.6.7"
  }
 },
 "nbformat": 4,
 "nbformat_minor": 2
}

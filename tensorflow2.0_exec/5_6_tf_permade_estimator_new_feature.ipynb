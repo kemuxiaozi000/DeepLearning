{
 "cells": [
  {
   "cell_type": "code",
   "execution_count": 1,
   "metadata": {},
   "outputs": [
    {
     "data": {
      "text/plain": [
       "'\\n    交叉特征\\n    \\n'"
      ]
     },
     "execution_count": 1,
     "metadata": {},
     "output_type": "execute_result"
    }
   ],
   "source": [
    "\"\"\"\n",
    "    交叉特征\n",
    "    \n",
    "\"\"\""
   ]
  },
  {
   "cell_type": "code",
   "execution_count": 2,
   "metadata": {},
   "outputs": [
    {
     "name": "stdout",
     "output_type": "stream",
     "text": [
      "2.0.0\n",
      "sys.version_info(major=3, minor=6, micro=3, releaselevel='final', serial=0)\n",
      "matplotlib 3.1.2\n",
      "numpy 1.17.4\n",
      "pandas 0.25.3\n",
      "sklearn 0.21.3\n",
      "tensorflow 2.0.0\n",
      "tensorflow_core.keras 2.2.4-tf\n"
     ]
    }
   ],
   "source": [
    "import matplotlib as mpl\n",
    "import matplotlib.pyplot as plt\n",
    "%matplotlib inline\n",
    "import numpy as np\n",
    "import sklearn\n",
    "import pandas as pd\n",
    "import os\n",
    "import sys\n",
    "import time\n",
    "import tensorflow as tf\n",
    "\n",
    "from tensorflow import keras\n",
    "\n",
    "print(tf.__version__)\n",
    "print(sys.version_info)\n",
    "for module in mpl, np, pd, sklearn, tf, keras:\n",
    "    print(module.__name__, module.__version__)"
   ]
  },
  {
   "cell_type": "code",
   "execution_count": 3,
   "metadata": {},
   "outputs": [],
   "source": [
    "train_file = \"./data/titanic/train.csv\"\n",
    "eval_file = \"./data/titanic/eval.csv\"\n",
    "\n",
    "train_df = pd.read_csv(train_file)\n",
    "eval_df = pd.read_csv(eval_file)\n",
    "\n",
    "y_train = train_df.pop(\"survived\")\n",
    "y_eval =  eval_df.pop(\"survived\")\n"
   ]
  },
  {
   "cell_type": "code",
   "execution_count": 4,
   "metadata": {},
   "outputs": [
    {
     "name": "stdout",
     "output_type": "stream",
     "text": [
      "sex ['male' 'female']\n",
      "n_siblings_spouses [1 0 3 4 2 5 8]\n",
      "parch [0 1 2 5 3 4]\n",
      "class ['Third' 'First' 'Second']\n",
      "deck ['unknown' 'C' 'G' 'A' 'B' 'D' 'F' 'E']\n",
      "embark_town ['Southampton' 'Cherbourg' 'Queenstown' 'unknown']\n",
      "alone ['n' 'y']\n"
     ]
    }
   ],
   "source": [
    "# feature_column\n",
    "categorical_columns = [\"sex\", \"n_siblings_spouses\", \"parch\", \n",
    "                       \"class\", \"deck\", \"embark_town\", \"alone\"]\n",
    "numeric_columns = [\"age\",\"fare\" ]\n",
    "feature_columns = []\n",
    "for categorical_column in categorical_columns:\n",
    "    vocab = train_df[categorical_column].unique()\n",
    "    print(categorical_column, vocab)\n",
    "    # 离散特征作成one-hot编码\n",
    "    onehot_describe = tf.feature_column.indicator_column(\n",
    "        tf.feature_column.categorical_column_with_vocabulary_list(\n",
    "            categorical_column, vocab))\n",
    "    feature_columns.append(onehot_describe)\n",
    "    \n",
    "for numeric_column in numeric_columns:\n",
    "    feature_columns.append(\n",
    "        tf.feature_column.numeric_column(\n",
    "            numeric_column, dtype = tf.float32))\n",
    "    \n",
    "# cross_feature: \n",
    "# age_x_gender: [(1, male),(2, male), .....(5, male), (1,female), ....]"
   ]
  },
  {
   "cell_type": "markdown",
   "metadata": {},
   "source": [
    "#### 生成交叉特征"
   ]
  },
  {
   "cell_type": "code",
   "execution_count": 5,
   "metadata": {},
   "outputs": [],
   "source": [
    "cross_describe = tf.feature_column.indicator_column(\n",
    "    tf.feature_column.crossed_column([\"age\", \"sex\"],\n",
    "       hash_bucket_size = 100))\n",
    "feature_columns.append(cross_describe)"
   ]
  },
  {
   "cell_type": "code",
   "execution_count": 6,
   "metadata": {},
   "outputs": [],
   "source": [
    "def make_dataset(data_df, label_df, epochs = 10,# 数据集遍历多少次 ， \n",
    "                 shuffle = True, batch_size = 32):\n",
    "    dataset = tf.data.Dataset.from_tensor_slices(\n",
    "         (dict(data_df),label_df))\n",
    "    if shuffle:\n",
    "        dataset = dataset.shuffle(10000)\n",
    "    dataset = dataset.repeat(epochs).batch(batch_size)\n",
    "    return dataset"
   ]
  },
  {
   "cell_type": "code",
   "execution_count": 7,
   "metadata": {},
   "outputs": [
    {
     "name": "stdout",
     "output_type": "stream",
     "text": [
      "INFO:tensorflow:Using default config.\n",
      "INFO:tensorflow:Using config: {'_model_dir': 'baseline_model_new_feature', '_tf_random_seed': None, '_save_summary_steps': 100, '_save_checkpoints_steps': None, '_save_checkpoints_secs': 600, '_session_config': allow_soft_placement: true\n",
      "graph_options {\n",
      "  rewrite_options {\n",
      "    meta_optimizer_iterations: ONE\n",
      "  }\n",
      "}\n",
      ", '_keep_checkpoint_max': 5, '_keep_checkpoint_every_n_hours': 10000, '_log_step_count_steps': 100, '_train_distribute': None, '_device_fn': None, '_protocol': None, '_eval_distribute': None, '_experimental_distribute': None, '_experimental_max_worker_delay_secs': None, '_session_creation_timeout_secs': 7200, '_service': None, '_cluster_spec': <tensorflow.python.training.server_lib.ClusterSpec object at 0x00000188F4AA7048>, '_task_type': 'worker', '_task_id': 0, '_global_id_in_cluster': 0, '_master': '', '_evaluation_master': '', '_is_chief': True, '_num_ps_replicas': 0, '_num_worker_replicas': 1}\n",
      "WARNING:tensorflow:From D:\\software\\Anaconda\\envs\\tensorflow200\\lib\\site-packages\\tensorflow_core\\python\\ops\\resource_variable_ops.py:1630: calling BaseResourceVariable.__init__ (from tensorflow.python.ops.resource_variable_ops) with constraint is deprecated and will be removed in a future version.\n",
      "Instructions for updating:\n",
      "If using Keras pass *_constraint arguments to layers.\n",
      "WARNING:tensorflow:From D:\\software\\Anaconda\\envs\\tensorflow200\\lib\\site-packages\\tensorflow_core\\python\\training\\training_util.py:236: Variable.initialized_value (from tensorflow.python.ops.variables) is deprecated and will be removed in a future version.\n",
      "Instructions for updating:\n",
      "Use Variable.read_value. Variables in 2.X are initialized automatically both in eager and graph (inside tf.defun) contexts.\n",
      "INFO:tensorflow:Calling model_fn.\n",
      "WARNING:tensorflow:From D:\\software\\Anaconda\\envs\\tensorflow200\\lib\\site-packages\\tensorflow_estimator\\python\\estimator\\canned\\head.py:437: to_float (from tensorflow.python.ops.math_ops) is deprecated and will be removed in a future version.\n",
      "Instructions for updating:\n",
      "Use `tf.cast` instead.\n",
      "INFO:tensorflow:Done calling model_fn.\n",
      "INFO:tensorflow:Create CheckpointSaverHook.\n",
      "INFO:tensorflow:Graph was finalized.\n",
      "INFO:tensorflow:Restoring parameters from baseline_model_new_feature\\model.ckpt-1960\n",
      "WARNING:tensorflow:From D:\\software\\Anaconda\\envs\\tensorflow200\\lib\\site-packages\\tensorflow_core\\python\\training\\saver.py:1069: get_checkpoint_mtimes (from tensorflow.python.training.checkpoint_management) is deprecated and will be removed in a future version.\n",
      "Instructions for updating:\n",
      "Use standard file utilities to get mtimes.\n",
      "INFO:tensorflow:Running local_init_op.\n",
      "INFO:tensorflow:Done running local_init_op.\n",
      "INFO:tensorflow:Saving checkpoints for 1960 into baseline_model_new_feature\\model.ckpt.\n",
      "INFO:tensorflow:loss = 22.101807, step = 1960\n",
      "INFO:tensorflow:global_step/sec: 502.524\n",
      "INFO:tensorflow:loss = 20.717731, step = 2060 (0.202 sec)\n",
      "INFO:tensorflow:global_step/sec: 826.55\n",
      "INFO:tensorflow:loss = 21.179386, step = 2160 (0.120 sec)\n",
      "INFO:tensorflow:global_step/sec: 819.671\n",
      "INFO:tensorflow:loss = 21.18776, step = 2260 (0.122 sec)\n",
      "INFO:tensorflow:global_step/sec: 840.338\n",
      "INFO:tensorflow:loss = 22.594414, step = 2360 (0.118 sec)\n",
      "INFO:tensorflow:global_step/sec: 862.059\n",
      "INFO:tensorflow:loss = 22.952833, step = 2460 (0.117 sec)\n",
      "INFO:tensorflow:global_step/sec: 854.707\n",
      "INFO:tensorflow:loss = 21.643156, step = 2560 (0.117 sec)\n",
      "INFO:tensorflow:global_step/sec: 862.071\n",
      "INFO:tensorflow:loss = 20.269249, step = 2660 (0.116 sec)\n",
      "INFO:tensorflow:global_step/sec: 840.335\n",
      "INFO:tensorflow:loss = 20.29573, step = 2760 (0.119 sec)\n",
      "INFO:tensorflow:global_step/sec: 862.068\n",
      "INFO:tensorflow:loss = 22.574146, step = 2860 (0.116 sec)\n",
      "INFO:tensorflow:global_step/sec: 819.671\n",
      "INFO:tensorflow:loss = 23.02275, step = 2960 (0.122 sec)\n",
      "INFO:tensorflow:global_step/sec: 877.198\n",
      "INFO:tensorflow:loss = 21.638632, step = 3060 (0.113 sec)\n",
      "INFO:tensorflow:global_step/sec: 877.191\n",
      "INFO:tensorflow:loss = 22.584686, step = 3160 (0.115 sec)\n",
      "INFO:tensorflow:global_step/sec: 862.071\n",
      "INFO:tensorflow:loss = 20.283642, step = 3260 (0.116 sec)\n",
      "INFO:tensorflow:global_step/sec: 884.856\n",
      "INFO:tensorflow:loss = 22.117191, step = 3360 (0.113 sec)\n",
      "INFO:tensorflow:global_step/sec: 901.005\n",
      "INFO:tensorflow:loss = 23.457855, step = 3460 (0.111 sec)\n",
      "INFO:tensorflow:global_step/sec: 877.069\n",
      "INFO:tensorflow:loss = 18.448278, step = 3560 (0.114 sec)\n",
      "INFO:tensorflow:global_step/sec: 862.186\n",
      "INFO:tensorflow:loss = 22.98941, step = 3660 (0.116 sec)\n",
      "INFO:tensorflow:global_step/sec: 793.648\n",
      "INFO:tensorflow:loss = 21.182901, step = 3760 (0.126 sec)\n",
      "INFO:tensorflow:global_step/sec: 877.196\n",
      "INFO:tensorflow:loss = 18.895184, step = 3860 (0.114 sec)\n",
      "INFO:tensorflow:Saving checkpoints for 3920 into baseline_model_new_feature\\model.ckpt.\n",
      "INFO:tensorflow:Loss for final step: 7.714873.\n"
     ]
    },
    {
     "data": {
      "text/plain": [
       "<tensorflow_estimator.python.estimator.canned.baseline.BaselineClassifier at 0x188f4aa7588>"
      ]
     },
     "execution_count": 7,
     "metadata": {},
     "output_type": "execute_result"
    }
   ],
   "source": [
    "output_dir = \"baseline_model_new_feature\"\n",
    "if not os.path.exists(output_dir):\n",
    "    os.mkdir(output_dir)\n",
    "baseline_estimator = tf.compat.v1.estimator.BaselineClassifier(\n",
    "    model_dir=output_dir,\n",
    "    n_classes=2)\n",
    "# baseline_estimator = tf.estimator.BaselineClassifier(\n",
    "#     model_dir = output_dir, \n",
    "#     n_class = 2)\n",
    "baseline_estimator.train(input_fn = lambda: make_dataset(\n",
    "    train_df, y_train, epochs = 100))\n",
    "    "
   ]
  },
  {
   "cell_type": "code",
   "execution_count": 8,
   "metadata": {},
   "outputs": [
    {
     "name": "stdout",
     "output_type": "stream",
     "text": [
      "INFO:tensorflow:Calling model_fn.\n",
      "WARNING:tensorflow:From D:\\software\\Anaconda\\envs\\tensorflow200\\lib\\site-packages\\tensorflow_core\\python\\ops\\metrics_impl.py:2026: div (from tensorflow.python.ops.math_ops) is deprecated and will be removed in a future version.\n",
      "Instructions for updating:\n",
      "Deprecated in favor of operator or tf.math.divide.\n",
      "WARNING:tensorflow:Trapezoidal rule is known to produce incorrect PR-AUCs; please switch to \"careful_interpolation\" instead.\n",
      "WARNING:tensorflow:Trapezoidal rule is known to produce incorrect PR-AUCs; please switch to \"careful_interpolation\" instead.\n",
      "INFO:tensorflow:Done calling model_fn.\n",
      "INFO:tensorflow:Starting evaluation at 2020-02-07T23:31:02Z\n",
      "INFO:tensorflow:Graph was finalized.\n",
      "INFO:tensorflow:Restoring parameters from baseline_model_new_feature\\model.ckpt-3920\n",
      "INFO:tensorflow:Running local_init_op.\n",
      "INFO:tensorflow:Done running local_init_op.\n",
      "INFO:tensorflow:Finished evaluation at 2020-02-07-23:31:03\n",
      "INFO:tensorflow:Saving dict for global step 3920: accuracy = 0.625, accuracy_baseline = 0.625, auc = 0.5, auc_precision_recall = 0.6875, average_loss = 0.66189986, global_step = 3920, label/mean = 0.375, loss = 12.48154, precision = 0.0, prediction/mean = 0.38761556, recall = 0.0\n",
      "INFO:tensorflow:Saving 'checkpoint_path' summary for global step 3920: baseline_model_new_feature\\model.ckpt-3920\n"
     ]
    },
    {
     "data": {
      "text/plain": [
       "{'accuracy': 0.625,\n",
       " 'accuracy_baseline': 0.625,\n",
       " 'auc': 0.5,\n",
       " 'auc_precision_recall': 0.6875,\n",
       " 'average_loss': 0.66189986,\n",
       " 'global_step': 3920,\n",
       " 'label/mean': 0.375,\n",
       " 'loss': 12.48154,\n",
       " 'precision': 0.0,\n",
       " 'prediction/mean': 0.38761556,\n",
       " 'recall': 0.0}"
      ]
     },
     "execution_count": 8,
     "metadata": {},
     "output_type": "execute_result"
    }
   ],
   "source": [
    "baseline_estimator.evaluate(input_fn = lambda: make_dataset(\n",
    "    eval_df, y_eval, epochs = 1, shuffle = False, batch_size = 20))"
   ]
  },
  {
   "cell_type": "code",
   "execution_count": 9,
   "metadata": {},
   "outputs": [
    {
     "name": "stdout",
     "output_type": "stream",
     "text": [
      "INFO:tensorflow:Using default config.\n",
      "INFO:tensorflow:Using config: {'_model_dir': 'linear_model_new_feature', '_tf_random_seed': None, '_save_summary_steps': 100, '_save_checkpoints_steps': None, '_save_checkpoints_secs': 600, '_session_config': allow_soft_placement: true\n",
      "graph_options {\n",
      "  rewrite_options {\n",
      "    meta_optimizer_iterations: ONE\n",
      "  }\n",
      "}\n",
      ", '_keep_checkpoint_max': 5, '_keep_checkpoint_every_n_hours': 10000, '_log_step_count_steps': 100, '_train_distribute': None, '_device_fn': None, '_protocol': None, '_eval_distribute': None, '_experimental_distribute': None, '_experimental_max_worker_delay_secs': None, '_session_creation_timeout_secs': 7200, '_service': None, '_cluster_spec': <tensorflow.python.training.server_lib.ClusterSpec object at 0x00000188F639EF28>, '_task_type': 'worker', '_task_id': 0, '_global_id_in_cluster': 0, '_master': '', '_evaluation_master': '', '_is_chief': True, '_num_ps_replicas': 0, '_num_worker_replicas': 1}\n",
      "INFO:tensorflow:Calling model_fn.\n",
      "WARNING:tensorflow:Layer linear/linear_model is casting an input tensor from dtype float64 to the layer's dtype of float32, which is new behavior in TensorFlow 2.  The layer has dtype float32 because it's dtype defaults to floatx.\n",
      "\n",
      "If you intended to run this layer in float32, you can safely ignore this warning. If in doubt, this warning is likely only an issue if you are porting a TensorFlow 1.X model to TensorFlow 2.\n",
      "\n",
      "To change all layers to have dtype float64 by default, call `tf.keras.backend.set_floatx('float64')`. To change just this layer, pass dtype='float64' to the layer constructor. If you are the author of this layer, you can disable autocasting by passing autocast=False to the base Layer constructor.\n",
      "\n",
      "WARNING:tensorflow:From D:\\software\\Anaconda\\envs\\tensorflow200\\lib\\site-packages\\tensorflow_core\\python\\feature_column\\feature_column_v2.py:518: Layer.add_variable (from tensorflow.python.keras.engine.base_layer) is deprecated and will be removed in a future version.\n",
      "Instructions for updating:\n",
      "Please use `layer.add_weight` method instead.\n",
      "WARNING:tensorflow:From D:\\software\\Anaconda\\envs\\tensorflow200\\lib\\site-packages\\tensorflow_core\\python\\feature_column\\feature_column_v2.py:4276: IndicatorColumn._variable_shape (from tensorflow.python.feature_column.feature_column_v2) is deprecated and will be removed in a future version.\n",
      "Instructions for updating:\n",
      "The old _FeatureColumn APIs are being deprecated. Please use the new FeatureColumn APIs instead.\n",
      "WARNING:tensorflow:From D:\\software\\Anaconda\\envs\\tensorflow200\\lib\\site-packages\\tensorflow_core\\python\\feature_column\\feature_column_v2.py:4331: CrossedColumn._num_buckets (from tensorflow.python.feature_column.feature_column_v2) is deprecated and will be removed in a future version.\n",
      "Instructions for updating:\n",
      "The old _FeatureColumn APIs are being deprecated. Please use the new FeatureColumn APIs instead.\n",
      "WARNING:tensorflow:From D:\\software\\Anaconda\\envs\\tensorflow200\\lib\\site-packages\\tensorflow_core\\python\\feature_column\\feature_column_v2.py:4331: VocabularyListCategoricalColumn._num_buckets (from tensorflow.python.feature_column.feature_column_v2) is deprecated and will be removed in a future version.\n",
      "Instructions for updating:\n",
      "The old _FeatureColumn APIs are being deprecated. Please use the new FeatureColumn APIs instead.\n",
      "WARNING:tensorflow:From D:\\software\\Anaconda\\envs\\tensorflow200\\lib\\site-packages\\tensorflow_core\\python\\keras\\optimizer_v2\\ftrl.py:143: calling Constant.__init__ (from tensorflow.python.ops.init_ops) with dtype is deprecated and will be removed in a future version.\n",
      "Instructions for updating:\n",
      "Call initializer instance with the dtype argument instead of passing it to the constructor\n",
      "INFO:tensorflow:Done calling model_fn.\n",
      "INFO:tensorflow:Create CheckpointSaverHook.\n",
      "INFO:tensorflow:Graph was finalized.\n",
      "INFO:tensorflow:Restoring parameters from linear_model_new_feature\\model.ckpt-1960\n",
      "INFO:tensorflow:Running local_init_op.\n",
      "INFO:tensorflow:Done running local_init_op.\n",
      "INFO:tensorflow:Saving checkpoints for 1960 into linear_model_new_feature\\model.ckpt.\n",
      "INFO:tensorflow:loss = 0.3999951, step = 1960\n",
      "INFO:tensorflow:global_step/sec: 344.827\n",
      "INFO:tensorflow:loss = 0.3849485, step = 2060 (0.291 sec)\n",
      "INFO:tensorflow:global_step/sec: 571.416\n",
      "INFO:tensorflow:loss = 0.4350273, step = 2160 (0.175 sec)\n",
      "INFO:tensorflow:global_step/sec: 653.611\n",
      "INFO:tensorflow:loss = 0.34888574, step = 2260 (0.153 sec)\n",
      "INFO:tensorflow:global_step/sec: 680.273\n",
      "INFO:tensorflow:loss = 0.37683025, step = 2360 (0.147 sec)\n",
      "INFO:tensorflow:global_step/sec: 709.216\n",
      "INFO:tensorflow:loss = 0.3923876, step = 2460 (0.141 sec)\n",
      "INFO:tensorflow:global_step/sec: 724.554\n",
      "INFO:tensorflow:loss = 0.33189595, step = 2560 (0.137 sec)\n",
      "INFO:tensorflow:global_step/sec: 719.417\n",
      "INFO:tensorflow:loss = 0.372059, step = 2660 (0.140 sec)\n",
      "INFO:tensorflow:global_step/sec: 641.1\n",
      "INFO:tensorflow:loss = 0.38329893, step = 2760 (0.156 sec)\n",
      "INFO:tensorflow:global_step/sec: 704.226\n",
      "INFO:tensorflow:loss = 0.2886104, step = 2860 (0.141 sec)\n",
      "INFO:tensorflow:global_step/sec: 671.128\n",
      "INFO:tensorflow:loss = 0.3262806, step = 2960 (0.150 sec)\n",
      "INFO:tensorflow:global_step/sec: 699.294\n",
      "INFO:tensorflow:loss = 0.4398521, step = 3060 (0.143 sec)\n",
      "INFO:tensorflow:global_step/sec: 689.668\n",
      "INFO:tensorflow:loss = 0.29576573, step = 3160 (0.146 sec)\n",
      "INFO:tensorflow:global_step/sec: 641.005\n",
      "INFO:tensorflow:loss = 0.29770502, step = 3260 (0.154 sec)\n",
      "INFO:tensorflow:global_step/sec: 719.458\n",
      "INFO:tensorflow:loss = 0.30129084, step = 3360 (0.140 sec)\n",
      "INFO:tensorflow:global_step/sec: 719.432\n",
      "INFO:tensorflow:loss = 0.3416102, step = 3460 (0.139 sec)\n",
      "INFO:tensorflow:global_step/sec: 657.86\n",
      "INFO:tensorflow:loss = 0.31833687, step = 3560 (0.152 sec)\n",
      "INFO:tensorflow:global_step/sec: 609.779\n",
      "INFO:tensorflow:loss = 0.45409375, step = 3660 (0.164 sec)\n",
      "INFO:tensorflow:global_step/sec: 724.639\n",
      "INFO:tensorflow:loss = 0.31367302, step = 3760 (0.138 sec)\n",
      "INFO:tensorflow:global_step/sec: 704.207\n",
      "INFO:tensorflow:loss = 0.28893483, step = 3860 (0.142 sec)\n",
      "INFO:tensorflow:Saving checkpoints for 3920 into linear_model_new_feature\\model.ckpt.\n",
      "INFO:tensorflow:Loss for final step: 0.49948907.\n"
     ]
    },
    {
     "data": {
      "text/plain": [
       "<tensorflow_estimator.python.estimator.canned.linear.LinearClassifierV2 at 0x188f7c2f9b0>"
      ]
     },
     "execution_count": 9,
     "metadata": {},
     "output_type": "execute_result"
    }
   ],
   "source": [
    "linear_output_dir = \"linear_model_new_feature\"\n",
    "if not os.path.exists(linear_output_dir):\n",
    "    os.mkdir(linear_output_dir)\n",
    "linear_estimator = tf.estimator.LinearClassifier(\n",
    "    model_dir=linear_output_dir,\n",
    "    n_classes=2,\n",
    "    feature_columns = feature_columns)\n",
    "linear_estimator.train(input_fn = lambda: make_dataset(\n",
    "    train_df, y_train, epochs = 100))"
   ]
  },
  {
   "cell_type": "code",
   "execution_count": 10,
   "metadata": {},
   "outputs": [
    {
     "name": "stdout",
     "output_type": "stream",
     "text": [
      "INFO:tensorflow:Calling model_fn.\n",
      "WARNING:tensorflow:Layer linear/linear_model is casting an input tensor from dtype float64 to the layer's dtype of float32, which is new behavior in TensorFlow 2.  The layer has dtype float32 because it's dtype defaults to floatx.\n",
      "\n",
      "If you intended to run this layer in float32, you can safely ignore this warning. If in doubt, this warning is likely only an issue if you are porting a TensorFlow 1.X model to TensorFlow 2.\n",
      "\n",
      "To change all layers to have dtype float64 by default, call `tf.keras.backend.set_floatx('float64')`. To change just this layer, pass dtype='float64' to the layer constructor. If you are the author of this layer, you can disable autocasting by passing autocast=False to the base Layer constructor.\n",
      "\n",
      "INFO:tensorflow:Done calling model_fn.\n",
      "INFO:tensorflow:Starting evaluation at 2020-02-07T23:31:24Z\n",
      "INFO:tensorflow:Graph was finalized.\n",
      "INFO:tensorflow:Restoring parameters from linear_model_new_feature\\model.ckpt-3920\n",
      "INFO:tensorflow:Running local_init_op.\n",
      "INFO:tensorflow:Done running local_init_op.\n",
      "INFO:tensorflow:Finished evaluation at 2020-02-07-23:31:25\n",
      "INFO:tensorflow:Saving dict for global step 3920: accuracy = 0.8030303, accuracy_baseline = 0.625, auc = 0.85469854, auc_precision_recall = 0.76358724, average_loss = 0.47868976, global_step = 3920, label/mean = 0.375, loss = 0.46008697, precision = 0.7196262, prediction/mean = 0.43416768, recall = 0.7777778\n",
      "INFO:tensorflow:Saving 'checkpoint_path' summary for global step 3920: linear_model_new_feature\\model.ckpt-3920\n"
     ]
    },
    {
     "data": {
      "text/plain": [
       "{'accuracy': 0.8030303,\n",
       " 'accuracy_baseline': 0.625,\n",
       " 'auc': 0.85469854,\n",
       " 'auc_precision_recall': 0.76358724,\n",
       " 'average_loss': 0.47868976,\n",
       " 'global_step': 3920,\n",
       " 'label/mean': 0.375,\n",
       " 'loss': 0.46008697,\n",
       " 'precision': 0.7196262,\n",
       " 'prediction/mean': 0.43416768,\n",
       " 'recall': 0.7777778}"
      ]
     },
     "execution_count": 10,
     "metadata": {},
     "output_type": "execute_result"
    }
   ],
   "source": [
    " linear_estimator.evaluate(input_fn = lambda: make_dataset(\n",
    "    eval_df, y_eval, epochs = 1, shuffle = False))"
   ]
  },
  {
   "cell_type": "code",
   "execution_count": 11,
   "metadata": {},
   "outputs": [
    {
     "name": "stdout",
     "output_type": "stream",
     "text": [
      "INFO:tensorflow:Using default config.\n",
      "INFO:tensorflow:Using config: {'_model_dir': './dnn_model_new_feature', '_tf_random_seed': None, '_save_summary_steps': 100, '_save_checkpoints_steps': None, '_save_checkpoints_secs': 600, '_session_config': allow_soft_placement: true\n",
      "graph_options {\n",
      "  rewrite_options {\n",
      "    meta_optimizer_iterations: ONE\n",
      "  }\n",
      "}\n",
      ", '_keep_checkpoint_max': 5, '_keep_checkpoint_every_n_hours': 10000, '_log_step_count_steps': 100, '_train_distribute': None, '_device_fn': None, '_protocol': None, '_eval_distribute': None, '_experimental_distribute': None, '_experimental_max_worker_delay_secs': None, '_session_creation_timeout_secs': 7200, '_service': None, '_cluster_spec': <tensorflow.python.training.server_lib.ClusterSpec object at 0x00000188F966A390>, '_task_type': 'worker', '_task_id': 0, '_global_id_in_cluster': 0, '_master': '', '_evaluation_master': '', '_is_chief': True, '_num_ps_replicas': 0, '_num_worker_replicas': 1}\n",
      "INFO:tensorflow:Calling model_fn.\n",
      "WARNING:tensorflow:Layer dnn is casting an input tensor from dtype float64 to the layer's dtype of float32, which is new behavior in TensorFlow 2.  The layer has dtype float32 because it's dtype defaults to floatx.\n",
      "\n",
      "If you intended to run this layer in float32, you can safely ignore this warning. If in doubt, this warning is likely only an issue if you are porting a TensorFlow 1.X model to TensorFlow 2.\n",
      "\n",
      "To change all layers to have dtype float64 by default, call `tf.keras.backend.set_floatx('float64')`. To change just this layer, pass dtype='float64' to the layer constructor. If you are the author of this layer, you can disable autocasting by passing autocast=False to the base Layer constructor.\n",
      "\n",
      "INFO:tensorflow:Done calling model_fn.\n",
      "INFO:tensorflow:Create CheckpointSaverHook.\n",
      "INFO:tensorflow:Graph was finalized.\n",
      "INFO:tensorflow:Running local_init_op.\n",
      "INFO:tensorflow:Done running local_init_op.\n",
      "INFO:tensorflow:Saving checkpoints for 0 into ./dnn_model_new_feature\\model.ckpt.\n",
      "INFO:tensorflow:loss = 0.8697692, step = 0\n",
      "INFO:tensorflow:global_step/sec: 331.76\n",
      "INFO:tensorflow:loss = 0.83858377, step = 100 (0.302 sec)\n",
      "INFO:tensorflow:global_step/sec: 556.862\n",
      "INFO:tensorflow:loss = 0.55457413, step = 200 (0.181 sec)\n",
      "INFO:tensorflow:global_step/sec: 531.916\n",
      "INFO:tensorflow:loss = 0.4497589, step = 300 (0.187 sec)\n",
      "INFO:tensorflow:global_step/sec: 581.396\n",
      "INFO:tensorflow:loss = 0.4538808, step = 400 (0.172 sec)\n",
      "INFO:tensorflow:global_step/sec: 568.181\n",
      "INFO:tensorflow:loss = 0.35442615, step = 500 (0.176 sec)\n",
      "INFO:tensorflow:global_step/sec: 555.509\n",
      "INFO:tensorflow:loss = 0.22876328, step = 600 (0.180 sec)\n",
      "INFO:tensorflow:global_step/sec: 555.6\n",
      "INFO:tensorflow:loss = 0.28334206, step = 700 (0.180 sec)\n",
      "INFO:tensorflow:global_step/sec: 531.915\n",
      "INFO:tensorflow:loss = 0.39425793, step = 800 (0.188 sec)\n",
      "INFO:tensorflow:global_step/sec: 568.184\n",
      "INFO:tensorflow:loss = 0.17952865, step = 900 (0.176 sec)\n",
      "INFO:tensorflow:global_step/sec: 584.792\n",
      "INFO:tensorflow:loss = 0.16835746, step = 1000 (0.171 sec)\n",
      "INFO:tensorflow:global_step/sec: 578.038\n",
      "INFO:tensorflow:loss = 0.2570619, step = 1100 (0.174 sec)\n",
      "INFO:tensorflow:global_step/sec: 584.737\n",
      "INFO:tensorflow:loss = 0.20559901, step = 1200 (0.170 sec)\n",
      "INFO:tensorflow:global_step/sec: 568.237\n",
      "INFO:tensorflow:loss = 0.23438431, step = 1300 (0.176 sec)\n",
      "INFO:tensorflow:global_step/sec: 529.099\n",
      "INFO:tensorflow:loss = 0.11713127, step = 1400 (0.189 sec)\n",
      "INFO:tensorflow:global_step/sec: 568.185\n",
      "INFO:tensorflow:loss = 0.20583987, step = 1500 (0.176 sec)\n",
      "INFO:tensorflow:global_step/sec: 512.813\n",
      "INFO:tensorflow:loss = 0.17475902, step = 1600 (0.195 sec)\n",
      "INFO:tensorflow:global_step/sec: 531.92\n",
      "INFO:tensorflow:loss = 0.24747735, step = 1700 (0.188 sec)\n",
      "INFO:tensorflow:global_step/sec: 564.972\n",
      "INFO:tensorflow:loss = 0.46032506, step = 1800 (0.177 sec)\n",
      "INFO:tensorflow:global_step/sec: 526.312\n",
      "INFO:tensorflow:loss = 0.09364684, step = 1900 (0.190 sec)\n",
      "INFO:tensorflow:Saving checkpoints for 1960 into ./dnn_model_new_feature\\model.ckpt.\n",
      "INFO:tensorflow:Loss for final step: 0.04032464.\n"
     ]
    },
    {
     "data": {
      "text/plain": [
       "<tensorflow_estimator.python.estimator.canned.dnn.DNNClassifierV2 at 0x188f7c2f390>"
      ]
     },
     "execution_count": 11,
     "metadata": {},
     "output_type": "execute_result"
    }
   ],
   "source": [
    "dnn_output_dir = \"./dnn_model_new_feature\"\n",
    "if not os.path.exists(dnn_output_dir):\n",
    "    os.mkdir(dnn_output_dir)\n",
    "dnn_estimator = tf.estimator.DNNClassifier(\n",
    "    model_dir=dnn_output_dir,\n",
    "    n_classes=2,\n",
    "    feature_columns = feature_columns,\n",
    "    hidden_units = [128,128],\n",
    "    activation_fn = tf.nn.relu,\n",
    "    optimizer = \"Adam\")\n",
    "dnn_estimator.train(input_fn = lambda: make_dataset(\n",
    "    train_df, y_train, epochs = 100))"
   ]
  },
  {
   "cell_type": "code",
   "execution_count": 12,
   "metadata": {},
   "outputs": [
    {
     "name": "stdout",
     "output_type": "stream",
     "text": [
      "INFO:tensorflow:Calling model_fn.\n",
      "WARNING:tensorflow:Layer dnn is casting an input tensor from dtype float64 to the layer's dtype of float32, which is new behavior in TensorFlow 2.  The layer has dtype float32 because it's dtype defaults to floatx.\n",
      "\n",
      "If you intended to run this layer in float32, you can safely ignore this warning. If in doubt, this warning is likely only an issue if you are porting a TensorFlow 1.X model to TensorFlow 2.\n",
      "\n",
      "To change all layers to have dtype float64 by default, call `tf.keras.backend.set_floatx('float64')`. To change just this layer, pass dtype='float64' to the layer constructor. If you are the author of this layer, you can disable autocasting by passing autocast=False to the base Layer constructor.\n",
      "\n",
      "INFO:tensorflow:Done calling model_fn.\n",
      "INFO:tensorflow:Starting evaluation at 2020-02-07T23:31:34Z\n",
      "INFO:tensorflow:Graph was finalized.\n",
      "INFO:tensorflow:Restoring parameters from ./dnn_model_new_feature\\model.ckpt-1960\n",
      "INFO:tensorflow:Running local_init_op.\n",
      "INFO:tensorflow:Done running local_init_op.\n",
      "INFO:tensorflow:Finished evaluation at 2020-02-07-23:31:34\n",
      "INFO:tensorflow:Saving dict for global step 1960: accuracy = 0.74242425, accuracy_baseline = 0.625, auc = 0.81499845, auc_precision_recall = 0.7687728, average_loss = 0.672304, global_step = 1960, label/mean = 0.375, loss = 0.65431356, precision = 0.65346533, prediction/mean = 0.3930917, recall = 0.6666667\n",
      "INFO:tensorflow:Saving 'checkpoint_path' summary for global step 1960: ./dnn_model_new_feature\\model.ckpt-1960\n"
     ]
    },
    {
     "data": {
      "text/plain": [
       "{'accuracy': 0.74242425,\n",
       " 'accuracy_baseline': 0.625,\n",
       " 'auc': 0.81499845,\n",
       " 'auc_precision_recall': 0.7687728,\n",
       " 'average_loss': 0.672304,\n",
       " 'global_step': 1960,\n",
       " 'label/mean': 0.375,\n",
       " 'loss': 0.65431356,\n",
       " 'precision': 0.65346533,\n",
       " 'prediction/mean': 0.3930917,\n",
       " 'recall': 0.6666667}"
      ]
     },
     "execution_count": 12,
     "metadata": {},
     "output_type": "execute_result"
    }
   ],
   "source": [
    "dnn_estimator.evaluate(input_fn = lambda: make_dataset(\n",
    "    eval_df, y_eval, epochs = 1, shuffle = False))"
   ]
  },
  {
   "cell_type": "code",
   "execution_count": null,
   "metadata": {},
   "outputs": [],
   "source": []
  }
 ],
 "metadata": {
  "kernelspec": {
   "display_name": "Python 3",
   "language": "python",
   "name": "python3"
  },
  "language_info": {
   "codemirror_mode": {
    "name": "ipython",
    "version": 3
   },
   "file_extension": ".py",
   "mimetype": "text/x-python",
   "name": "python",
   "nbconvert_exporter": "python",
   "pygments_lexer": "ipython3",
   "version": "3.6.3"
  }
 },
 "nbformat": 4,
 "nbformat_minor": 2
}

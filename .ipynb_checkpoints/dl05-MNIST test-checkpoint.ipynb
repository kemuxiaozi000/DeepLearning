{
 "cells": [
  {
   "cell_type": "markdown",
   "metadata": {},
   "source": [
    "### MNIST 测试实战"
   ]
  },
  {
   "cell_type": "code",
   "execution_count": 2,
   "metadata": {},
   "outputs": [
    {
     "name": "stdout",
     "output_type": "stream",
     "text": [
      "2.0.0\n"
     ]
    }
   ],
   "source": [
    "#%%\n",
    "import  matplotlib\n",
    "from    matplotlib import pyplot as plt\n",
    "# Default parameters for plots\n",
    "matplotlib.rcParams['font.size'] = 20\n",
    "matplotlib.rcParams['figure.titlesize'] = 20\n",
    "matplotlib.rcParams['figure.figsize'] = [9, 7]\n",
    "matplotlib.rcParams['font.family'] = ['STKaiTi']\n",
    "matplotlib.rcParams['axes.unicode_minus']=False \n",
    "import  tensorflow as tf\n",
    "from    tensorflow import keras\n",
    "from    tensorflow.keras import datasets, layers, optimizers\n",
    "import  os\n",
    "\n",
    "os.environ['TF_CPP_MIN_LOG_LEVEL']='2'\n",
    "print(tf.__version__)"
   ]
  },
  {
   "cell_type": "code",
   "execution_count": 3,
   "metadata": {},
   "outputs": [],
   "source": [
    "def preprocess(x, y): \n",
    "    # [b, 28, 28], [b]\n",
    "    print(x.shape,y.shape)\n",
    "    x = tf.cast(x, dtype=tf.float32) / 255.\n",
    "    x = tf.reshape(x, [-1, 28*28])\n",
    "    y = tf.cast(y, dtype=tf.int32)\n",
    "    y = tf.one_hot(y, depth=10)\n",
    "\n",
    "    return x,y"
   ]
  },
  {
   "cell_type": "code",
   "execution_count": 4,
   "metadata": {},
   "outputs": [
    {
     "name": "stdout",
     "output_type": "stream",
     "text": [
      "x: (60000, 28, 28) y: (60000,) x test: (10000, 28, 28) y test: [7 2 1 ... 4 5 6]\n",
      "(None, 28, 28) (None,)\n",
      "(None, 28, 28) (None,)\n",
      "train sample: (512, 784) (512, 10)\n"
     ]
    }
   ],
   "source": [
    "#%%\n",
    "(x, y), (x_test, y_test) = datasets.mnist.load_data()\n",
    "print('x:', x.shape, 'y:', y.shape, 'x test:', x_test.shape, 'y test:', y_test)\n",
    "#%%\n",
    "batchsz = 512\n",
    "train_db = tf.data.Dataset.from_tensor_slices((x, y))\n",
    "train_db = train_db.shuffle(1000)\n",
    "train_db = train_db.batch(batchsz)\n",
    "train_db = train_db.map(preprocess)\n",
    "train_db = train_db.repeat(20)\n",
    "#%%\n",
    "test_db = tf.data.Dataset.from_tensor_slices((x_test, y_test))\n",
    "test_db = test_db.shuffle(1000).batch(batchsz).map(preprocess)\n",
    "x,y = next(iter(train_db))\n",
    "print('train sample:', x.shape, y.shape)\n",
    "# print(x[0], y[0])"
   ]
  },
  {
   "cell_type": "code",
   "execution_count": null,
   "metadata": {},
   "outputs": [],
   "source": [
    "#%%\n",
    "def main():\n",
    "    # learning rate\n",
    "    lr = 1e-2\n",
    "    accs,losses = [], []\n",
    "    # 784 => 512\n",
    "    w1, b1 = tf.Variable(tf.random.normal([784, 256], stddev=0.1)), tf.Variable(tf.zeros([256]))\n",
    "    # 512 => 256\n",
    "    w2, b2 = tf.Variable(tf.random.normal([256, 128], stddev=0.1)), tf.Variable(tf.zeros([128]))\n",
    "    # 256 => 10\n",
    "    w3, b3 = tf.Variable(tf.random.normal([128, 10], stddev=0.1)), tf.Variable(tf.zeros([10]))\n",
    "\n",
    "    for step, (x,y) in enumerate(train_db):\n",
    "        # [b, 28, 28] => [b, 784]\n",
    "        x = tf.reshape(x, (-1, 784))\n",
    "        with tf.GradientTape() as tape:\n",
    "            # layer1.\n",
    "            h1 = x @ w1 + b1\n",
    "            h1 = tf.nn.relu(h1)\n",
    "            # layer2\n",
    "            h2 = h1 @ w2 + b2\n",
    "            h2 = tf.nn.relu(h2)\n",
    "            # output\n",
    "            out = h2 @ w3 + b3\n",
    "            # out = tf.nn.relu(out)\n",
    "            # compute loss\n",
    "            # [b, 10] - [b, 10]\n",
    "            loss = tf.square(y-out)\n",
    "            # [b, 10] => scalar\n",
    "            loss = tf.reduce_mean(loss)\n",
    "        grads = tape.gradient(loss, [w1, b1, w2, b2, w3, b3]) \n",
    "        for p, g in zip([w1, b1, w2, b2, w3, b3], grads):\n",
    "            p.assign_sub(lr * g)\n",
    "        # print\n",
    "        if step % 80 == 0:\n",
    "            print(step, 'loss:', float(loss))\n",
    "            losses.append(float(loss))\n",
    " \n",
    "        if step %80 == 0:\n",
    "            # evaluate/test\n",
    "            total, total_correct = 0., 0\n",
    "            for x, y in test_db:\n",
    "                # layer1.\n",
    "                h1 = x @ w1 + b1\n",
    "                h1 = tf.nn.relu(h1)\n",
    "                # layer2\n",
    "                h2 = h1 @ w2 + b2\n",
    "                h2 = tf.nn.relu(h2)\n",
    "                # output\n",
    "                out = h2 @ w3 + b3\n",
    "                # [b, 10] => [b]\n",
    "                pred = tf.argmax(out, axis=1)\n",
    "                # convert one_hot y to number y\n",
    "                y = tf.argmax(y, axis=1)\n",
    "                # bool type\n",
    "                correct = tf.equal(pred, y)\n",
    "                # bool tensor => int tensor => numpy\n",
    "                total_correct += tf.reduce_sum(tf.cast(correct, dtype=tf.int32)).numpy()\n",
    "                total += x.shape[0]\n",
    "            print(step, 'Evaluate Acc:', total_correct/total)\n",
    "            accs.append(total_correct/total)\n",
    "\n",
    "    plt.figure()\n",
    "    x = [i*80 for i in range(len(losses))]\n",
    "    plt.plot(x, losses, color='C0', marker='s', label='训练')\n",
    "    plt.ylabel('MSE')\n",
    "    plt.xlabel('Step')\n",
    "    plt.legend()\n",
    "    plt.savefig('train.svg')\n",
    "\n",
    "    plt.figure()\n",
    "    plt.plot(x, accs, color='C1', marker='s', label='测试')\n",
    "    plt.ylabel('准确率')\n",
    "    plt.xlabel('Step')\n",
    "    plt.legend()\n",
    "    plt.savefig('test.svg')\n",
    "\n",
    "if __name__ == '__main__':\n",
    "    main()"
   ]
  }
 ],
 "metadata": {
  "kernelspec": {
   "display_name": "Python 3",
   "language": "python",
   "name": "python3"
  },
  "language_info": {
   "codemirror_mode": {
    "name": "ipython",
    "version": 3
   },
   "file_extension": ".py",
   "mimetype": "text/x-python",
   "name": "python",
   "nbconvert_exporter": "python",
   "pygments_lexer": "ipython3",
   "version": "3.6.3"
  }
 },
 "nbformat": 4,
 "nbformat_minor": 2
}
